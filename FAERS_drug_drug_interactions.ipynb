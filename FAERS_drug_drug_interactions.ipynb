{
  "cells": [
    {
      "cell_type": "markdown",
      "metadata": {
        "id": "TIlsEvi-VkPd"
      },
      "source": [
        "# This Notebook for Exp0: Drug to Drug using CountVectorization of pairs of drugs  "
      ]
    },
    {
      "cell_type": "code",
      "execution_count": null,
      "metadata": {
        "colab": {
          "base_uri": "https://localhost:8080/",
          "height": 157
        },
        "id": "7zBOmK-r7QKw",
        "outputId": "20057464-114f-41e5-9db2-3095f09800d5"
      },
      "outputs": [
        {
          "data": {
            "application/vnd.google.colaboratory.intrinsic+json": {
              "type": "string"
            },
            "text/plain": [
              "'\\n    reporttype\\n---------\\n1= Spontaneous\\n2= Report from Study\\n3= Other\\n4= Not available to sender (unknown)\\n\\n\\nfulfillexpeditecriteria\\n-----------------------\\n1 = Industry expedited report\\n2 = Industry non-expedited report\\n3 = Direct Report\\n4 = 5-Day Report\\n5 = 30-Day Report\\n\\nqualification\\n-------------\\n1= Physician\\n2= Pharmacist\\n3= Other Health Professional\\n4= Lawyer\\n5= Consumer or non-health professional\\n\\n\\npatientonsetageunit\\n------------------\\n800= Decade\\n801= Year\\n802= Month\\n803= Week\\n804= Day\\n805= Hour\\n\\n\\npatientagegroup\\n--------------\\n1= Neonate\\n2= Infant\\n3= Child\\n4= Adolescent\\n5= Adult\\n6= Elderly\\n\\npatientweight\\n------------\\n\\npatientsex\\n---------\\n0= unknown\\n1= male\\n2= female\\n\\n\\ndrugcharacterization\\n----------------\\n1= suspect\\n2=concomitant\\n3= interacting\\n\\ndrugstructuredosageunit\\n---------------------\\n001= kg - kilogram(s) 002= G - gram(s)\\n003= Mg - milligram(s) 004= μg - microgram(s) 501= UNK - Unknown\\n502= μG/HR - Micrograms per Hour 503= TRI – Trimester\\n504= TOT - Total 505= CYC - Cyclical\\n506= MG/ML - Millligrams per Millilitres\\n507= AN - As necessary 508= mg/mg – milligrams per\\nmilligrams\\n509= μg/μg - microgram(s) per microgram(s)\\n\\n\\ndrugseparatedosagenumb:\\n Number of separate dosages\\n\\ndrugintervaldosageunitnumb\\n  Number of units in the interval\\n\\ndrugintervaldosagedefinition\\n---------------------------\\n801= Year\\n802= Month\\n803= Week\\n804= Day\\n805= Hour\\n806= Minute\\n807= Second\\n810= Trimester\\n811= Cyclical\\n812= As Necessary\\n813= Total\\n\\ndrugcumulativedosagenumb:\\n Cumulative dose to first reaction\\n\\ndrugcumulativedosageunit\\n-------------------------\\n001= kg kilogram(s)\\n002= G gram(s)\\n003= Mg milligram(s)\\n004= μg microgram(s)*\\n\\ndrugdosagetext: Text\\n\\n\\ndrugindication: Text\\n\\n\\nactiondrug\\n------------\\n1= Drug Withdrawn\\n2= Dose reduced\\n3= Dose Increased\\n4= Dose not changed\\n5= Unknown\\n6= Not applicable\\n\\n'"
            ]
          },
          "execution_count": 1,
          "metadata": {},
          "output_type": "execute_result"
        }
      ],
      "source": [
        "'''\n",
        "    reporttype\n",
        "---------\n",
        "1= Spontaneous\n",
        "2= Report from Study\n",
        "3= Other\n",
        "4= Not available to sender (unknown)\n",
        "\n",
        "\n",
        "fulfillexpeditecriteria\n",
        "-----------------------\n",
        "1 = Industry expedited report\n",
        "2 = Industry non-expedited report\n",
        "3 = Direct Report\n",
        "4 = 5-Day Report\n",
        "5 = 30-Day Report\n",
        "\n",
        "qualification\n",
        "-------------\n",
        "1= Physician\n",
        "2= Pharmacist\n",
        "3= Other Health Professional\n",
        "4= Lawyer\n",
        "5= Consumer or non-health professional\n",
        "\n",
        "\n",
        "patientonsetageunit\n",
        "------------------\n",
        "800= Decade\n",
        "801= Year\n",
        "802= Month\n",
        "803= Week\n",
        "804= Day\n",
        "805= Hour\n",
        "\n",
        "\n",
        "patientagegroup\n",
        "--------------\n",
        "1= Neonate\n",
        "2= Infant\n",
        "3= Child\n",
        "4= Adolescent\n",
        "5= Adult\n",
        "6= Elderly\n",
        "\n",
        "patientweight\n",
        "------------\n",
        "\n",
        "patientsex\n",
        "---------\n",
        "0= unknown\n",
        "1= male\n",
        "2= female\n",
        "\n",
        "\n",
        "drugcharacterization\n",
        "----------------\n",
        "1= suspect\n",
        "2=concomitant\n",
        "3= interacting\n",
        "\n",
        "drugstructuredosageunit\n",
        "---------------------\n",
        "001= kg - kilogram(s) 002= G - gram(s)\n",
        "003= Mg - milligram(s) 004= μg - microgram(s) 501= UNK - Unknown\n",
        "502= μG/HR - Micrograms per Hour 503= TRI – Trimester\n",
        "504= TOT - Total 505= CYC - Cyclical\n",
        "506= MG/ML - Millligrams per Millilitres\n",
        "507= AN - As necessary 508= mg/mg – milligrams per\n",
        "milligrams\n",
        "509= μg/μg - microgram(s) per microgram(s)\n",
        "\n",
        "\n",
        "drugseparatedosagenumb:\n",
        " Number of separate dosages\n",
        "\n",
        "drugintervaldosageunitnumb\n",
        "  Number of units in the interval\n",
        "\n",
        "drugintervaldosagedefinition\n",
        "---------------------------\n",
        "801= Year\n",
        "802= Month\n",
        "803= Week\n",
        "804= Day\n",
        "805= Hour\n",
        "806= Minute\n",
        "807= Second\n",
        "810= Trimester\n",
        "811= Cyclical\n",
        "812= As Necessary\n",
        "813= Total\n",
        "\n",
        "drugcumulativedosagenumb:\n",
        " Cumulative dose to first reaction\n",
        "\n",
        "drugcumulativedosageunit\n",
        "-------------------------\n",
        "001= kg kilogram(s)\n",
        "002= G gram(s)\n",
        "003= Mg milligram(s)\n",
        "004= μg microgram(s)*\n",
        "\n",
        "drugdosagetext: Text\n",
        "\n",
        "\n",
        "drugindication: Text\n",
        "\n",
        "\n",
        "actiondrug\n",
        "------------\n",
        "1= Drug Withdrawn\n",
        "2= Dose reduced\n",
        "3= Dose Increased\n",
        "4= Dose not changed\n",
        "5= Unknown\n",
        "6= Not applicable\n",
        "\n",
        "'''\n"
      ]
    },
    {
      "cell_type": "markdown",
      "metadata": {
        "id": "p6_EScSFViv5"
      },
      "source": []
    },
    {
      "cell_type": "code",
      "execution_count": null,
      "metadata": {
        "id": "mNsuny6V7QK2"
      },
      "outputs": [],
      "source": [
        "#!pip install faers"
      ]
    },
    {
      "cell_type": "code",
      "execution_count": null,
      "metadata": {
        "colab": {
          "base_uri": "https://localhost:8080/",
          "height": 35
        },
        "id": "zSC9uQFn7QK3",
        "outputId": "a667653a-8a53-4cdc-fbc8-4e5e163e3dff"
      },
      "outputs": [
        {
          "data": {
            "application/vnd.google.colaboratory.intrinsic+json": {
              "type": "string"
            },
            "text/plain": [
              "'\\n\\nf = faers.FAERS(\"faers.db\", countries=\"japan\", years=2012)\\nf.associated_events(\"metoprolol\")\\n'"
            ]
          },
          "execution_count": 3,
          "metadata": {},
          "output_type": "execute_result"
        }
      ],
      "source": [
        "#import faers\n",
        "\n",
        "# Initialize class and establish connection to FAERS database.\n",
        "# This will create an object containing records from the UNITED STATES\n",
        "# for all available years. Due to the size of the database this could take some\n",
        "# time.\n",
        "\n",
        "'''\n",
        "\n",
        "f = faers.FAERS(\"faers.db\", countries=\"japan\", years=2012)\n",
        "f.associated_events(\"metoprolol\")\n",
        "'''"
      ]
    },
    {
      "cell_type": "markdown",
      "metadata": {
        "id": "xXg8X7jV7QK3"
      },
      "source": [
        "## 2. Import libraries <a class=\"anchor\" id=\"2\"></a>\n",
        "\n",
        "[Back to Table of Contents](#0.1)"
      ]
    },
    {
      "cell_type": "code",
      "execution_count": null,
      "metadata": {
        "colab": {
          "base_uri": "https://localhost:8080/"
        },
        "id": "neqCk7iQ7QK5",
        "outputId": "dac2b86e-1b0a-4d34-dbdd-041a632bfad1"
      },
      "outputs": [
        {
          "output_type": "stream",
          "name": "stdout",
          "text": [
            "3.10.12 (main, Sep 11 2024, 15:47:36) [GCC 11.4.0]\n",
            "<class 'str'>\n"
          ]
        }
      ],
      "source": [
        "import sys\n",
        "import warnings\n",
        "warnings.filterwarnings('ignore')\n",
        "\n",
        "print(sys.version)\n",
        "# 3.7.0 (default, Jun 29 2018, 20:13:13)\n",
        "# [Clang 9.1.0 (clang-902.0.39.2)]\n",
        "\n",
        "print(type(sys.version))"
      ]
    },
    {
      "cell_type": "code",
      "execution_count": null,
      "metadata": {
        "id": "vUr2oPDu74l3"
      },
      "outputs": [],
      "source": []
    },
    {
      "cell_type": "code",
      "execution_count": null,
      "metadata": {
        "id": "3jVDUg_S8EAb"
      },
      "outputs": [],
      "source": []
    },
    {
      "cell_type": "code",
      "execution_count": null,
      "metadata": {
        "colab": {
          "base_uri": "https://localhost:8080/"
        },
        "id": "wU2jrl3s7QK5",
        "outputId": "a588235f-2b0f-4876-9f91-d0ba00c3a1c7"
      },
      "outputs": [
        {
          "output_type": "stream",
          "name": "stdout",
          "text": [
            "Requirement already satisfied: nltk in /usr/local/lib/python3.10/dist-packages (3.8.1)\n",
            "Requirement already satisfied: click in /usr/local/lib/python3.10/dist-packages (from nltk) (8.1.7)\n",
            "Requirement already satisfied: joblib in /usr/local/lib/python3.10/dist-packages (from nltk) (1.4.2)\n",
            "Requirement already satisfied: regex>=2021.8.3 in /usr/local/lib/python3.10/dist-packages (from nltk) (2024.9.11)\n",
            "Requirement already satisfied: tqdm in /usr/local/lib/python3.10/dist-packages (from nltk) (4.66.5)\n"
          ]
        }
      ],
      "source": [
        "#!pip install matplotlib\n",
        "#!pip install seaborn\n",
        "!pip install nltk\n",
        "#!pip install wordcloud\n",
        "#!pip install gensim"
      ]
    },
    {
      "cell_type": "code",
      "execution_count": null,
      "metadata": {
        "id": "Ws3VnYcd7QK6"
      },
      "outputs": [],
      "source": [
        "import nltk\n",
        "#nltk.download('stopwords')"
      ]
    },
    {
      "cell_type": "code",
      "execution_count": null,
      "metadata": {
        "id": "9RhTNHCW7QK7"
      },
      "outputs": [],
      "source": [
        "import pandas as pd\n",
        "import numpy as np\n",
        "import os\n",
        "\n",
        "import matplotlib\n",
        "import matplotlib.pyplot as plt\n",
        "import matplotlib.patches as mpatches\n",
        "import seaborn as sns\n",
        "\n",
        "from nltk.corpus import stopwords\n",
        "from nltk.util import ngrams\n",
        "\n",
        "#from wordcloud import WordCloud\n",
        "\n",
        "from sklearn.feature_extraction.text import CountVectorizer, TfidfVectorizer\n",
        "from sklearn.model_selection import train_test_split\n",
        "from sklearn.decomposition import PCA, TruncatedSVD\n",
        "from sklearn.metrics import classification_report,confusion_matrix\n",
        "\n",
        "from collections import defaultdict\n",
        "from collections import Counter\n",
        "plt.style.use('ggplot')\n",
        "#stop=set(stopwords.words('english'))\n",
        "\n",
        "import re\n",
        "from nltk.tokenize import word_tokenize\n",
        "import gensim\n",
        "import string\n",
        "\n",
        "from tqdm import tqdm\n",
        "from keras.preprocessing.text import Tokenizer\n",
        "#from keras.preprocessing.sequence import pad_sequences\n",
        "from keras.models import Sequential\n",
        "from keras.layers import Embedding, LSTM,Dense, SpatialDropout1D, Dropout\n",
        "from keras.initializers import Constant\n",
        "#from keras.optimizers import Adam\n",
        "import itertools\n"
      ]
    },
    {
      "cell_type": "markdown",
      "metadata": {
        "id": "LXkiXmi27QK7"
      },
      "source": [
        "## 3. Download data <a class=\"anchor\" id=\"3\"></a>\n",
        "\n",
        "[Back to Table of Contents](#0.1)"
      ]
    },
    {
      "cell_type": "code",
      "execution_count": null,
      "metadata": {
        "id": "6ToCffEd-Gc-"
      },
      "outputs": [],
      "source": [
        "#!pip install rarfile\n"
      ]
    },
    {
      "cell_type": "code",
      "execution_count": null,
      "metadata": {
        "colab": {
          "base_uri": "https://localhost:8080/"
        },
        "id": "GyQKIndG-O3B",
        "outputId": "785ad54f-40a0-4684-9c82-5343f554a252"
      },
      "outputs": [
        {
          "output_type": "stream",
          "name": "stdout",
          "text": [
            "Mounted at /content/gdrive\n"
          ]
        }
      ],
      "source": [
        "from google.colab import drive\n",
        "drive.mount('/content/gdrive')\n"
      ]
    },
    {
      "cell_type": "code",
      "execution_count": null,
      "metadata": {
        "colab": {
          "base_uri": "https://localhost:8080/",
          "height": 90
        },
        "id": "NonJx4hh-TQ2",
        "outputId": "8f4f492f-f9fc-496c-9fc2-9e25ded5464d"
      },
      "outputs": [
        {
          "data": {
            "application/vnd.google.colaboratory.intrinsic+json": {
              "type": "string"
            },
            "text/plain": [
              "\"\\nimport rarfile\\nimport pandas as pd\\n\\n# Specify the path to your .rar file\\nrar_path = '/content/gdrive/MyDrive/FDA/FullData/ADRAll.rar'\\ncsv_file = 'ADRAll.csv'  # The name of the CSV file inside the .rar\\n\\n# Use rarfile to open the archive\\nwith rarfile.RarFile(rar_path) as opened_rar:\\n    file_names = opened_rar.namelist()\\n    print(file_names)\\n    # Extract the CSV file\\n    opened_rar.extract(csv_file)  # Optional: specify path to extract\\n\\n    # Now read the CSV file using pandas\\n    faers_data = pd.read_csv( csv_file)\\n\\n# Display the DataFrame to confirm it's loaded correctly\\nfaers_data.shape\\n\""
            ]
          },
          "execution_count": 8,
          "metadata": {},
          "output_type": "execute_result"
        }
      ],
      "source": [
        "'''\n",
        "import rarfile\n",
        "import pandas as pd\n",
        "\n",
        "# Specify the path to your .rar file\n",
        "rar_path = '/content/gdrive/MyDrive/FDA/FullData/ADRAll.rar'\n",
        "csv_file = 'ADRAll.csv'  # The name of the CSV file inside the .rar\n",
        "\n",
        "# Use rarfile to open the archive\n",
        "with rarfile.RarFile(rar_path) as opened_rar:\n",
        "    file_names = opened_rar.namelist()\n",
        "    print(file_names)\n",
        "    # Extract the CSV file\n",
        "    opened_rar.extract(csv_file)  # Optional: specify path to extract\n",
        "\n",
        "    # Now read the CSV file using pandas\n",
        "    faers_data = pd.read_csv( csv_file)\n",
        "\n",
        "# Display the DataFrame to confirm it's loaded correctly\n",
        "faers_data.shape\n",
        "'''"
      ]
    },
    {
      "cell_type": "code",
      "execution_count": null,
      "metadata": {
        "colab": {
          "base_uri": "https://localhost:8080/"
        },
        "id": "tUqCcIoXBZnB",
        "outputId": "6a10ac4e-55a4-4209-94a4-e537986a29c7"
      },
      "outputs": [
        {
          "output_type": "execute_result",
          "data": {
            "text/plain": [
              "(5948514, 87)"
            ]
          },
          "metadata": {},
          "execution_count": 6
        }
      ],
      "source": [
        "#faers_data.to_pickle('/content/gdrive/MyDrive/FDA/FullData/ADRAll.pkl')\n",
        "faers_data = pd.read_pickle('/content/gdrive/MyDrive/FDA/FullData/ADRAll.pkl')\n",
        "faers_data.shape"
      ]
    },
    {
      "cell_type": "code",
      "execution_count": null,
      "metadata": {
        "colab": {
          "base_uri": "https://localhost:8080/"
        },
        "id": "jtU7i-O77QK8",
        "outputId": "9623c936-64ff-4f18-f50e-0d91f098d458"
      },
      "outputs": [
        {
          "output_type": "execute_result",
          "data": {
            "text/plain": [
              "((5948514, 87),\n",
              " Index(['Unnamed: 0.2', 'Unnamed: 0', 'Unnamed: 0.1', 'messagetype',\n",
              "        'messageformatversion', 'messageformatrelease', 'messagenumb',\n",
              "        'messagesenderidentifier', 'messagereceiveridentifier',\n",
              "        'messagedateformat', 'messagedate', 'safetyreportversion',\n",
              "        'safetyreportid', 'primarysourcecountry', 'occurcountry',\n",
              "        'transmissiondateformat', 'transmissiondate', 'reporttype', 'serious',\n",
              "        'receivedateformat', 'receivedate', 'receiptdateformat', 'receiptdate',\n",
              "        'fulfillexpeditecriteria', 'companynumb', 'duplicate',\n",
              "        'reportduplicate', 'duplicatesource', 'duplicatenumb', 'primarysource',\n",
              "        'reportercountry', 'qualification', 'sender', 'sendertype',\n",
              "        'senderorganization', 'receiver', 'receivertype',\n",
              "        'receiverorganization', 'patient', 'patientonsetage',\n",
              "        'patientonsetageunit', 'patientsex', 'reaction',\n",
              "        'reactionmeddraversionpt', 'reactionmeddrapt', 'reactionoutcome',\n",
              "        'drug', 'drugcharacterization', 'medicinalproduct', 'drugdosagetext',\n",
              "        'drugdosageform', 'drugadministrationroute', 'drugindication',\n",
              "        'activesubstance', 'activesubstancename', 'drugbatchnumb',\n",
              "        'drugauthorizationnumb', 'drugstructuredosagenumb',\n",
              "        'drugstructuredosageunit', 'drugstartdateformat', 'drugstartdate',\n",
              "        'actiondrug', 'drugenddateformat', 'drugenddate', 'summary',\n",
              "        'narrativeincludeclinical', 'seriousnessdisabling', 'seriousnessother',\n",
              "        'authoritynumb', 'drugrecurreadministration',\n",
              "        'seriousnesshospitalization', 'literaturereference', 'patientagegroup',\n",
              "        'patientweight', 'drugseparatedosagenumb', 'drugintervaldosageunitnumb',\n",
              "        'drugintervaldosagedefinition', 'seriousnesslifethreatening',\n",
              "        'seriousnessdeath', 'drugcumulativedosagenumb',\n",
              "        'drugcumulativedosageunit', 'drugadditional',\n",
              "        'seriousnesscongenitalanomali', 'drugrecurrence', 'drugrecuraction',\n",
              "        'drugtreatmentduration', 'drugtreatmentdurationunit'],\n",
              "       dtype='object'))"
            ]
          },
          "metadata": {},
          "execution_count": 7
        }
      ],
      "source": [
        "faers_data.shape, faers_data.columns"
      ]
    },
    {
      "cell_type": "code",
      "execution_count": null,
      "metadata": {
        "colab": {
          "base_uri": "https://localhost:8080/"
        },
        "id": "2e7N-bVDPZzm",
        "outputId": "2da51cc6-3e8c-4405-89ff-d7242c1a5de3"
      },
      "outputs": [
        {
          "data": {
            "text/plain": [
              "drugrecuraction\n",
              "Headache                                        425\n",
              "Diarrhoea                                       390\n",
              "Nausea                                          363\n",
              "Injection site pain                             350\n",
              "Rash                                            339\n",
              "                                               ... \n",
              "Eyelid exfoliation                                1\n",
              "Electrocardiogram T wave amplitude decreased      1\n",
              "Gastrointestinal fistula                          1\n",
              "Stress                                            1\n",
              "Prostatism                                        1\n",
              "Name: count, Length: 1892, dtype: int64"
            ]
          },
          "execution_count": 11,
          "metadata": {},
          "output_type": "execute_result"
        }
      ],
      "source": [
        "faers_data.drugrecuraction.value_counts()"
      ]
    },
    {
      "cell_type": "markdown",
      "metadata": {
        "id": "rF0NeSKJln17"
      },
      "source": [
        "### Remove special characters from 'medicinalproduct' and treat the whole name as one token"
      ]
    },
    {
      "cell_type": "code",
      "execution_count": null,
      "metadata": {
        "colab": {
          "base_uri": "https://localhost:8080/"
        },
        "id": "zaNdrrdDOve6",
        "outputId": "ed51bc64-8c3b-43b3-efaf-d35b0ca5bb17"
      },
      "outputs": [
        {
          "output_type": "stream",
          "name": "stdout",
          "text": [
            "before (5948514, 87)\n",
            "after (5947613, 87)\n"
          ]
        }
      ],
      "source": [
        "def filter_medicinalproduct(product):\n",
        "    product_str = str(product)  # Convert to string to ensure string operations work correctly\n",
        "    if product_str.isdigit():  # Check if the entire string is numeric\n",
        "        return False\n",
        "    if len(product_str) < 3:  # Check if the length of the string is less than 3 characters\n",
        "        return False\n",
        "    return True\n",
        "\n",
        "def clean_medicinalproduct(df):\n",
        "  print('before', df.shape)\n",
        "\n",
        "  df = df[df['medicinalproduct'].notnull()]\n",
        "\n",
        "  # Remove special characters from 'medicinalproduct' and treat the whole name as one token\n",
        "  df['medicinalproduct'] = df['medicinalproduct'].str.replace('[^\\w\\s]', '', regex=True).str.lower().str.replace(' ', '_')\n",
        "\n",
        "  df['valid_medicinalproduct'] = df['medicinalproduct'].apply(filter_medicinalproduct)\n",
        "  df = df[df['valid_medicinalproduct']]\n",
        "  df.drop('valid_medicinalproduct', axis=1, inplace=True)  # Optionally remove the helper column\n",
        "\n",
        "  df['medicinalproduct'] = df['medicinalproduct'].astype(str)\n",
        "  # replace spece between multi-token substancename by \"_\" to be as one substance\n",
        "  #df['medicinalproduct'] = df['medicinalproduct'].apply(lambda x: x.replace(' ','_') )\n",
        "\n",
        "  print('after', df.shape)\n",
        "\n",
        "  return df\n",
        "\n",
        "faers_data = clean_medicinalproduct(faers_data)\n"
      ]
    },
    {
      "cell_type": "code",
      "execution_count": null,
      "metadata": {
        "colab": {
          "base_uri": "https://localhost:8080/",
          "height": 742
        },
        "id": "fH1eBVhJBHdR",
        "outputId": "9d6992cf-6393-4d60-af60-cd00018c522d"
      },
      "outputs": [
        {
          "output_type": "execute_result",
          "data": {
            "text/plain": [
              "medicinalproduct\n",
              "enbrel                                                            237835\n",
              "humira                                                            158881\n",
              "xarelto                                                            65860\n",
              "avandia                                                            65501\n",
              "revlimid                                                           61496\n",
              "tysabri                                                            60954\n",
              "prolia                                                             59918\n",
              "avonex                                                             57709\n",
              "tecfidera                                                          53651\n",
              "dianeal_low_calcium_peritoneal_dialysis_solution_with_dextrose     49681\n",
              "forteo                                                             47423\n",
              "mirena                                                             41196\n",
              "letairis                                                           39512\n",
              "lyrica                                                             38956\n",
              "otezla                                                             37647\n",
              "gilenya                                                            30824\n",
              "methotrexate                                                       30682\n",
              "risperdal                                                          28971\n",
              "remicade                                                           28789\n",
              "spiriva                                                            28229\n",
              "Name: count, dtype: int64"
            ],
            "text/html": [
              "<div>\n",
              "<style scoped>\n",
              "    .dataframe tbody tr th:only-of-type {\n",
              "        vertical-align: middle;\n",
              "    }\n",
              "\n",
              "    .dataframe tbody tr th {\n",
              "        vertical-align: top;\n",
              "    }\n",
              "\n",
              "    .dataframe thead th {\n",
              "        text-align: right;\n",
              "    }\n",
              "</style>\n",
              "<table border=\"1\" class=\"dataframe\">\n",
              "  <thead>\n",
              "    <tr style=\"text-align: right;\">\n",
              "      <th></th>\n",
              "      <th>count</th>\n",
              "    </tr>\n",
              "    <tr>\n",
              "      <th>medicinalproduct</th>\n",
              "      <th></th>\n",
              "    </tr>\n",
              "  </thead>\n",
              "  <tbody>\n",
              "    <tr>\n",
              "      <th>enbrel</th>\n",
              "      <td>237835</td>\n",
              "    </tr>\n",
              "    <tr>\n",
              "      <th>humira</th>\n",
              "      <td>158881</td>\n",
              "    </tr>\n",
              "    <tr>\n",
              "      <th>xarelto</th>\n",
              "      <td>65860</td>\n",
              "    </tr>\n",
              "    <tr>\n",
              "      <th>avandia</th>\n",
              "      <td>65501</td>\n",
              "    </tr>\n",
              "    <tr>\n",
              "      <th>revlimid</th>\n",
              "      <td>61496</td>\n",
              "    </tr>\n",
              "    <tr>\n",
              "      <th>tysabri</th>\n",
              "      <td>60954</td>\n",
              "    </tr>\n",
              "    <tr>\n",
              "      <th>prolia</th>\n",
              "      <td>59918</td>\n",
              "    </tr>\n",
              "    <tr>\n",
              "      <th>avonex</th>\n",
              "      <td>57709</td>\n",
              "    </tr>\n",
              "    <tr>\n",
              "      <th>tecfidera</th>\n",
              "      <td>53651</td>\n",
              "    </tr>\n",
              "    <tr>\n",
              "      <th>dianeal_low_calcium_peritoneal_dialysis_solution_with_dextrose</th>\n",
              "      <td>49681</td>\n",
              "    </tr>\n",
              "    <tr>\n",
              "      <th>forteo</th>\n",
              "      <td>47423</td>\n",
              "    </tr>\n",
              "    <tr>\n",
              "      <th>mirena</th>\n",
              "      <td>41196</td>\n",
              "    </tr>\n",
              "    <tr>\n",
              "      <th>letairis</th>\n",
              "      <td>39512</td>\n",
              "    </tr>\n",
              "    <tr>\n",
              "      <th>lyrica</th>\n",
              "      <td>38956</td>\n",
              "    </tr>\n",
              "    <tr>\n",
              "      <th>otezla</th>\n",
              "      <td>37647</td>\n",
              "    </tr>\n",
              "    <tr>\n",
              "      <th>gilenya</th>\n",
              "      <td>30824</td>\n",
              "    </tr>\n",
              "    <tr>\n",
              "      <th>methotrexate</th>\n",
              "      <td>30682</td>\n",
              "    </tr>\n",
              "    <tr>\n",
              "      <th>risperdal</th>\n",
              "      <td>28971</td>\n",
              "    </tr>\n",
              "    <tr>\n",
              "      <th>remicade</th>\n",
              "      <td>28789</td>\n",
              "    </tr>\n",
              "    <tr>\n",
              "      <th>spiriva</th>\n",
              "      <td>28229</td>\n",
              "    </tr>\n",
              "  </tbody>\n",
              "</table>\n",
              "</div><br><label><b>dtype:</b> int64</label>"
            ]
          },
          "metadata": {},
          "execution_count": 9
        }
      ],
      "source": [
        "faers_data.medicinalproduct.value_counts().head(20)"
      ]
    },
    {
      "cell_type": "code",
      "execution_count": null,
      "metadata": {
        "id": "EOGZ6r7G6J-6"
      },
      "outputs": [],
      "source": []
    },
    {
      "cell_type": "code",
      "execution_count": null,
      "metadata": {
        "colab": {
          "base_uri": "https://localhost:8080/"
        },
        "id": "zC32u5oo7QK9",
        "outputId": "8d036b3d-495a-489b-a864-990d2a57c979"
      },
      "outputs": [
        {
          "data": {
            "text/plain": [
              "(safetyreportid\n",
              " 9002414.0     9\n",
              " 9319489.0     9\n",
              " 8661027.0     8\n",
              " 7898125.0     8\n",
              " 10080058.0    8\n",
              " 7153699.0     8\n",
              " 8583598.0     8\n",
              " 8351566.0     8\n",
              " 9539849.0     8\n",
              " 9707493.0     8\n",
              " 9669159.0     8\n",
              " 9024284.0     8\n",
              " 7423316.0     7\n",
              " 9422665.0     7\n",
              " 9300726.0     7\n",
              " 10359156.0    7\n",
              " 11463165.0    7\n",
              " 9695444.0     7\n",
              " 8773602.0     7\n",
              " 9027156.0     7\n",
              " Name: count, dtype: int64,\n",
              " (5557822,))"
            ]
          },
          "execution_count": 15,
          "metadata": {},
          "output_type": "execute_result"
        }
      ],
      "source": [
        "faers_data.safetyreportid.value_counts().head(20),faers_data.safetyreportid.value_counts().shape"
      ]
    },
    {
      "cell_type": "code",
      "execution_count": null,
      "metadata": {
        "colab": {
          "base_uri": "https://localhost:8080/",
          "height": 105
        },
        "id": "NWxujAz-jks9",
        "outputId": "d4d4eeac-b1be-4217-985f-c2cd7bd84508"
      },
      "outputs": [
        {
          "data": {
            "application/vnd.google.colaboratory.intrinsic+json": {
              "type": "string"
            },
            "text/plain": [
              "\"\\ncolumns = ['seriousnessdisabling', 'seriousnessother', 'seriousnesshospitalization',\\n           'seriousnesslifethreatening', 'seriousnessdeath', 'seriousnesscongenitalanomali']\\n# Fill NaN with 0 for these columns\\ndf= faers_data.copy()\\ndf[columns] = df[columns].fillna(0)\\n\\n# Define 'serious' class columns\\nserious_columns = ['seriousnessdeath',]\\n                   #'seriousnesshospitalization', 'seriousnesslifethreatening', ]\\n\\n# Create binary target: 1 if any of 'serious' conditions is met, 0 otherwise\\ndf['is_serious'] = df[serious_columns].max(axis=1)\\ndf['is_serious'].value_counts()\\n\""
            ]
          },
          "execution_count": 16,
          "metadata": {},
          "output_type": "execute_result"
        }
      ],
      "source": [
        "'''\n",
        "columns = ['seriousnessdisabling', 'seriousnessother', 'seriousnesshospitalization',\n",
        "           'seriousnesslifethreatening', 'seriousnessdeath', 'seriousnesscongenitalanomali']\n",
        "# Fill NaN with 0 for these columns\n",
        "df= faers_data.copy()\n",
        "df[columns] = df[columns].fillna(0)\n",
        "\n",
        "# Define 'serious' class columns\n",
        "serious_columns = ['seriousnessdeath',]\n",
        "                   #'seriousnesshospitalization', 'seriousnesslifethreatening', ]\n",
        "\n",
        "# Create binary target: 1 if any of 'serious' conditions is met, 0 otherwise\n",
        "df['is_serious'] = df[serious_columns].max(axis=1)\n",
        "df['is_serious'].value_counts()\n",
        "'''"
      ]
    },
    {
      "cell_type": "code",
      "execution_count": null,
      "metadata": {
        "colab": {
          "base_uri": "https://localhost:8080/"
        },
        "id": "Lg3ybjXhl3bm",
        "outputId": "c68d74ab-8d86-4981-d506-5d65c7038664"
      },
      "outputs": [
        {
          "data": {
            "text/plain": [
              "serious\n",
              "1.0    3278525\n",
              "2.0    2669958\n",
              "Name: count, dtype: int64"
            ]
          },
          "execution_count": 17,
          "metadata": {},
          "output_type": "execute_result"
        }
      ],
      "source": [
        "faers_data.serious.value_counts()"
      ]
    },
    {
      "cell_type": "code",
      "execution_count": null,
      "metadata": {
        "colab": {
          "base_uri": "https://localhost:8080/"
        },
        "id": "HDvEpasUlsXV",
        "outputId": "3198a339-877f-4136-c636-532009bc1a66"
      },
      "outputs": [
        {
          "data": {
            "text/plain": [
              "1"
            ]
          },
          "execution_count": 78,
          "metadata": {},
          "output_type": "execute_result"
        }
      ],
      "source": [
        "1"
      ]
    },
    {
      "cell_type": "markdown",
      "metadata": {
        "id": "ayHvdjzD7QK9"
      },
      "source": [
        "# Start filter rows with drugs within same day"
      ]
    },
    {
      "cell_type": "code",
      "execution_count": null,
      "metadata": {
        "id": "OQgxa1_Pm93b",
        "colab": {
          "base_uri": "https://localhost:8080/"
        },
        "outputId": "5f871767-a420-44f9-b4f6-41f6eab7cf9c"
      },
      "outputs": [
        {
          "output_type": "stream",
          "name": "stdout",
          "text": [
            "(5778106, 11) (5778106, 11)\n"
          ]
        },
        {
          "output_type": "execute_result",
          "data": {
            "text/plain": [
              "(129230, 13)"
            ]
          },
          "metadata": {},
          "execution_count": 11
        }
      ],
      "source": [
        "# Selecting the relevant columns\n",
        "#df = faers_data.drop_duplicates()\n",
        "df = faers_data[['safetyreportid', 'medicinalproduct', 'drugstartdate','serious',\n",
        "  'drugindication',\n",
        "  'activesubstancename',\n",
        "  'drugrecuraction',\n",
        "  'patientagegroup','patientweight', 'patientsex','patientonsetage'\n",
        "]]\n",
        "\n",
        "\n",
        "df = df.drop_duplicates(subset=['safetyreportid', 'drugstartdate', 'medicinalproduct'])\n",
        "\n",
        "\n",
        "# Deduplicate entries based on 'safetyreportid', 'parsed_date', and 'medicinalproduct'\n",
        "deduped = df.drop_duplicates(subset=['safetyreportid', 'drugstartdate', 'medicinalproduct'])\n",
        "print(df.shape , deduped.shape)\n",
        "# Now perform a simple groupby count on the deduped DataFrame\n",
        "counts = deduped.groupby(['safetyreportid', 'drugstartdate'])['medicinalproduct'].count().reset_index(name='group_count')\n",
        "# Assign unique group IDs using ngroup()\n",
        "counts['group_id'] = deduped.groupby(['safetyreportid', 'drugstartdate']).ngroup()\n",
        "# Perform grouping on the original DataFrame and assign group IDs\n",
        "df['group_id'] = df.groupby(['safetyreportid', 'drugstartdate']).ngroup()\n",
        "# Merge the group count back onto the original DataFrame using the unique group ID as a key\n",
        "df = df.merge(counts[['safetyreportid', 'drugstartdate', 'group_count']], on=['safetyreportid', 'drugstartdate'])\n",
        "\n",
        "df = df[df.group_count>1]\n",
        "df.shape"
      ]
    },
    {
      "cell_type": "code",
      "execution_count": null,
      "metadata": {
        "colab": {
          "base_uri": "https://localhost:8080/",
          "height": 299
        },
        "id": "t-eYv62jnWuj",
        "outputId": "dad06c4d-a30c-4200-f30d-9d68ab66eb47"
      },
      "outputs": [
        {
          "data": {
            "application/vnd.google.colaboratory.intrinsic+json": {
              "repr_error": "0",
              "type": "dataframe"
            },
            "text/html": [
              "\n",
              "  <div id=\"df-39609d27-2652-4c0d-be28-acb9ff69b56a\" class=\"colab-df-container\">\n",
              "    <div>\n",
              "<style scoped>\n",
              "    .dataframe tbody tr th:only-of-type {\n",
              "        vertical-align: middle;\n",
              "    }\n",
              "\n",
              "    .dataframe tbody tr th {\n",
              "        vertical-align: top;\n",
              "    }\n",
              "\n",
              "    .dataframe thead th {\n",
              "        text-align: right;\n",
              "    }\n",
              "</style>\n",
              "<table border=\"1\" class=\"dataframe\">\n",
              "  <thead>\n",
              "    <tr style=\"text-align: right;\">\n",
              "      <th></th>\n",
              "      <th>safetyreportid</th>\n",
              "      <th>medicinalproduct</th>\n",
              "      <th>drugstartdate</th>\n",
              "      <th>serious</th>\n",
              "      <th>drugindication</th>\n",
              "      <th>activesubstancename</th>\n",
              "      <th>drugrecuraction</th>\n",
              "      <th>patientagegroup</th>\n",
              "      <th>patientweight</th>\n",
              "      <th>patientsex</th>\n",
              "      <th>patientonsetage</th>\n",
              "      <th>group_id</th>\n",
              "      <th>group_count</th>\n",
              "    </tr>\n",
              "  </thead>\n",
              "  <tbody>\n",
              "    <tr>\n",
              "      <th>715639</th>\n",
              "      <td>7153699.0</td>\n",
              "      <td>glivec</td>\n",
              "      <td>20090911.0</td>\n",
              "      <td>1.0</td>\n",
              "      <td>PRODUCT USED FOR UNKNOWN INDICATION</td>\n",
              "      <td>IMATINIB MESYLATE</td>\n",
              "      <td>NaN</td>\n",
              "      <td>NaN</td>\n",
              "      <td>NaN</td>\n",
              "      <td>2.0</td>\n",
              "      <td>68.0</td>\n",
              "      <td>4927</td>\n",
              "      <td>2</td>\n",
              "    </tr>\n",
              "    <tr>\n",
              "      <th>715640</th>\n",
              "      <td>7153699.0</td>\n",
              "      <td>sandostatin_lar_depot</td>\n",
              "      <td>20090911.0</td>\n",
              "      <td>1.0</td>\n",
              "      <td>DIARRHOEA</td>\n",
              "      <td>OCTREOTIDE ACETATE</td>\n",
              "      <td>NaN</td>\n",
              "      <td>NaN</td>\n",
              "      <td>NaN</td>\n",
              "      <td>2.0</td>\n",
              "      <td>68.0</td>\n",
              "      <td>4927</td>\n",
              "      <td>2</td>\n",
              "    </tr>\n",
              "    <tr>\n",
              "      <th>896883</th>\n",
              "      <td>7153699.0</td>\n",
              "      <td>glivec</td>\n",
              "      <td>20160719.0</td>\n",
              "      <td>1.0</td>\n",
              "      <td>PRODUCT USED FOR UNKNOWN INDICATION</td>\n",
              "      <td>IMATINIB MESYLATE</td>\n",
              "      <td>NaN</td>\n",
              "      <td>NaN</td>\n",
              "      <td>NaN</td>\n",
              "      <td>2.0</td>\n",
              "      <td>68.0</td>\n",
              "      <td>4929</td>\n",
              "      <td>2</td>\n",
              "    </tr>\n",
              "    <tr>\n",
              "      <th>896884</th>\n",
              "      <td>7153699.0</td>\n",
              "      <td>sandostatin_lar_depot</td>\n",
              "      <td>20160719.0</td>\n",
              "      <td>1.0</td>\n",
              "      <td>PRODUCT USED FOR UNKNOWN INDICATION</td>\n",
              "      <td>OCTREOTIDE ACETATE</td>\n",
              "      <td>NaN</td>\n",
              "      <td>NaN</td>\n",
              "      <td>NaN</td>\n",
              "      <td>2.0</td>\n",
              "      <td>68.0</td>\n",
              "      <td>4929</td>\n",
              "      <td>2</td>\n",
              "    </tr>\n",
              "  </tbody>\n",
              "</table>\n",
              "</div>\n",
              "    <div class=\"colab-df-buttons\">\n",
              "\n",
              "  <div class=\"colab-df-container\">\n",
              "    <button class=\"colab-df-convert\" onclick=\"convertToInteractive('df-39609d27-2652-4c0d-be28-acb9ff69b56a')\"\n",
              "            title=\"Convert this dataframe to an interactive table.\"\n",
              "            style=\"display:none;\">\n",
              "\n",
              "  <svg xmlns=\"http://www.w3.org/2000/svg\" height=\"24px\" viewBox=\"0 -960 960 960\">\n",
              "    <path d=\"M120-120v-720h720v720H120Zm60-500h600v-160H180v160Zm220 220h160v-160H400v160Zm0 220h160v-160H400v160ZM180-400h160v-160H180v160Zm440 0h160v-160H620v160ZM180-180h160v-160H180v160Zm440 0h160v-160H620v160Z\"/>\n",
              "  </svg>\n",
              "    </button>\n",
              "\n",
              "  <style>\n",
              "    .colab-df-container {\n",
              "      display:flex;\n",
              "      gap: 12px;\n",
              "    }\n",
              "\n",
              "    .colab-df-convert {\n",
              "      background-color: #E8F0FE;\n",
              "      border: none;\n",
              "      border-radius: 50%;\n",
              "      cursor: pointer;\n",
              "      display: none;\n",
              "      fill: #1967D2;\n",
              "      height: 32px;\n",
              "      padding: 0 0 0 0;\n",
              "      width: 32px;\n",
              "    }\n",
              "\n",
              "    .colab-df-convert:hover {\n",
              "      background-color: #E2EBFA;\n",
              "      box-shadow: 0px 1px 2px rgba(60, 64, 67, 0.3), 0px 1px 3px 1px rgba(60, 64, 67, 0.15);\n",
              "      fill: #174EA6;\n",
              "    }\n",
              "\n",
              "    .colab-df-buttons div {\n",
              "      margin-bottom: 4px;\n",
              "    }\n",
              "\n",
              "    [theme=dark] .colab-df-convert {\n",
              "      background-color: #3B4455;\n",
              "      fill: #D2E3FC;\n",
              "    }\n",
              "\n",
              "    [theme=dark] .colab-df-convert:hover {\n",
              "      background-color: #434B5C;\n",
              "      box-shadow: 0px 1px 3px 1px rgba(0, 0, 0, 0.15);\n",
              "      filter: drop-shadow(0px 1px 2px rgba(0, 0, 0, 0.3));\n",
              "      fill: #FFFFFF;\n",
              "    }\n",
              "  </style>\n",
              "\n",
              "    <script>\n",
              "      const buttonEl =\n",
              "        document.querySelector('#df-39609d27-2652-4c0d-be28-acb9ff69b56a button.colab-df-convert');\n",
              "      buttonEl.style.display =\n",
              "        google.colab.kernel.accessAllowed ? 'block' : 'none';\n",
              "\n",
              "      async function convertToInteractive(key) {\n",
              "        const element = document.querySelector('#df-39609d27-2652-4c0d-be28-acb9ff69b56a');\n",
              "        const dataTable =\n",
              "          await google.colab.kernel.invokeFunction('convertToInteractive',\n",
              "                                                    [key], {});\n",
              "        if (!dataTable) return;\n",
              "\n",
              "        const docLinkHtml = 'Like what you see? Visit the ' +\n",
              "          '<a target=\"_blank\" href=https://colab.research.google.com/notebooks/data_table.ipynb>data table notebook</a>'\n",
              "          + ' to learn more about interactive tables.';\n",
              "        element.innerHTML = '';\n",
              "        dataTable['output_type'] = 'display_data';\n",
              "        await google.colab.output.renderOutput(dataTable, element);\n",
              "        const docLink = document.createElement('div');\n",
              "        docLink.innerHTML = docLinkHtml;\n",
              "        element.appendChild(docLink);\n",
              "      }\n",
              "    </script>\n",
              "  </div>\n",
              "\n",
              "\n",
              "<div id=\"df-3511e3fd-d4a9-4eb9-8484-4eec7493cfb9\">\n",
              "  <button class=\"colab-df-quickchart\" onclick=\"quickchart('df-3511e3fd-d4a9-4eb9-8484-4eec7493cfb9')\"\n",
              "            title=\"Suggest charts\"\n",
              "            style=\"display:none;\">\n",
              "\n",
              "<svg xmlns=\"http://www.w3.org/2000/svg\" height=\"24px\"viewBox=\"0 0 24 24\"\n",
              "     width=\"24px\">\n",
              "    <g>\n",
              "        <path d=\"M19 3H5c-1.1 0-2 .9-2 2v14c0 1.1.9 2 2 2h14c1.1 0 2-.9 2-2V5c0-1.1-.9-2-2-2zM9 17H7v-7h2v7zm4 0h-2V7h2v10zm4 0h-2v-4h2v4z\"/>\n",
              "    </g>\n",
              "</svg>\n",
              "  </button>\n",
              "\n",
              "<style>\n",
              "  .colab-df-quickchart {\n",
              "      --bg-color: #E8F0FE;\n",
              "      --fill-color: #1967D2;\n",
              "      --hover-bg-color: #E2EBFA;\n",
              "      --hover-fill-color: #174EA6;\n",
              "      --disabled-fill-color: #AAA;\n",
              "      --disabled-bg-color: #DDD;\n",
              "  }\n",
              "\n",
              "  [theme=dark] .colab-df-quickchart {\n",
              "      --bg-color: #3B4455;\n",
              "      --fill-color: #D2E3FC;\n",
              "      --hover-bg-color: #434B5C;\n",
              "      --hover-fill-color: #FFFFFF;\n",
              "      --disabled-bg-color: #3B4455;\n",
              "      --disabled-fill-color: #666;\n",
              "  }\n",
              "\n",
              "  .colab-df-quickchart {\n",
              "    background-color: var(--bg-color);\n",
              "    border: none;\n",
              "    border-radius: 50%;\n",
              "    cursor: pointer;\n",
              "    display: none;\n",
              "    fill: var(--fill-color);\n",
              "    height: 32px;\n",
              "    padding: 0;\n",
              "    width: 32px;\n",
              "  }\n",
              "\n",
              "  .colab-df-quickchart:hover {\n",
              "    background-color: var(--hover-bg-color);\n",
              "    box-shadow: 0 1px 2px rgba(60, 64, 67, 0.3), 0 1px 3px 1px rgba(60, 64, 67, 0.15);\n",
              "    fill: var(--button-hover-fill-color);\n",
              "  }\n",
              "\n",
              "  .colab-df-quickchart-complete:disabled,\n",
              "  .colab-df-quickchart-complete:disabled:hover {\n",
              "    background-color: var(--disabled-bg-color);\n",
              "    fill: var(--disabled-fill-color);\n",
              "    box-shadow: none;\n",
              "  }\n",
              "\n",
              "  .colab-df-spinner {\n",
              "    border: 2px solid var(--fill-color);\n",
              "    border-color: transparent;\n",
              "    border-bottom-color: var(--fill-color);\n",
              "    animation:\n",
              "      spin 1s steps(1) infinite;\n",
              "  }\n",
              "\n",
              "  @keyframes spin {\n",
              "    0% {\n",
              "      border-color: transparent;\n",
              "      border-bottom-color: var(--fill-color);\n",
              "      border-left-color: var(--fill-color);\n",
              "    }\n",
              "    20% {\n",
              "      border-color: transparent;\n",
              "      border-left-color: var(--fill-color);\n",
              "      border-top-color: var(--fill-color);\n",
              "    }\n",
              "    30% {\n",
              "      border-color: transparent;\n",
              "      border-left-color: var(--fill-color);\n",
              "      border-top-color: var(--fill-color);\n",
              "      border-right-color: var(--fill-color);\n",
              "    }\n",
              "    40% {\n",
              "      border-color: transparent;\n",
              "      border-right-color: var(--fill-color);\n",
              "      border-top-color: var(--fill-color);\n",
              "    }\n",
              "    60% {\n",
              "      border-color: transparent;\n",
              "      border-right-color: var(--fill-color);\n",
              "    }\n",
              "    80% {\n",
              "      border-color: transparent;\n",
              "      border-right-color: var(--fill-color);\n",
              "      border-bottom-color: var(--fill-color);\n",
              "    }\n",
              "    90% {\n",
              "      border-color: transparent;\n",
              "      border-bottom-color: var(--fill-color);\n",
              "    }\n",
              "  }\n",
              "</style>\n",
              "\n",
              "  <script>\n",
              "    async function quickchart(key) {\n",
              "      const quickchartButtonEl =\n",
              "        document.querySelector('#' + key + ' button');\n",
              "      quickchartButtonEl.disabled = true;  // To prevent multiple clicks.\n",
              "      quickchartButtonEl.classList.add('colab-df-spinner');\n",
              "      try {\n",
              "        const charts = await google.colab.kernel.invokeFunction(\n",
              "            'suggestCharts', [key], {});\n",
              "      } catch (error) {\n",
              "        console.error('Error during call to suggestCharts:', error);\n",
              "      }\n",
              "      quickchartButtonEl.classList.remove('colab-df-spinner');\n",
              "      quickchartButtonEl.classList.add('colab-df-quickchart-complete');\n",
              "    }\n",
              "    (() => {\n",
              "      let quickchartButtonEl =\n",
              "        document.querySelector('#df-3511e3fd-d4a9-4eb9-8484-4eec7493cfb9 button');\n",
              "      quickchartButtonEl.style.display =\n",
              "        google.colab.kernel.accessAllowed ? 'block' : 'none';\n",
              "    })();\n",
              "  </script>\n",
              "</div>\n",
              "\n",
              "    </div>\n",
              "  </div>\n"
            ],
            "text/plain": [
              "        safetyreportid       medicinalproduct  drugstartdate  serious  \\\n",
              "715639       7153699.0                 glivec     20090911.0      1.0   \n",
              "715640       7153699.0  sandostatin_lar_depot     20090911.0      1.0   \n",
              "896883       7153699.0                 glivec     20160719.0      1.0   \n",
              "896884       7153699.0  sandostatin_lar_depot     20160719.0      1.0   \n",
              "\n",
              "                             drugindication activesubstancename  \\\n",
              "715639  PRODUCT USED FOR UNKNOWN INDICATION   IMATINIB MESYLATE   \n",
              "715640                            DIARRHOEA  OCTREOTIDE ACETATE   \n",
              "896883  PRODUCT USED FOR UNKNOWN INDICATION   IMATINIB MESYLATE   \n",
              "896884  PRODUCT USED FOR UNKNOWN INDICATION  OCTREOTIDE ACETATE   \n",
              "\n",
              "       drugrecuraction  patientagegroup  patientweight  patientsex  \\\n",
              "715639             NaN              NaN            NaN         2.0   \n",
              "715640             NaN              NaN            NaN         2.0   \n",
              "896883             NaN              NaN            NaN         2.0   \n",
              "896884             NaN              NaN            NaN         2.0   \n",
              "\n",
              "       patientonsetage  group_id  group_count  \n",
              "715639            68.0      4927            2  \n",
              "715640            68.0      4927            2  \n",
              "896883            68.0      4929            2  \n",
              "896884            68.0      4929            2  "
            ]
          },
          "execution_count": 104,
          "metadata": {},
          "output_type": "execute_result"
        }
      ],
      "source": [
        "df[df.safetyreportid==7153699].sort_values(by='group_id')"
      ]
    },
    {
      "cell_type": "markdown",
      "metadata": {
        "id": "U3IjihQxVR3L"
      },
      "source": [
        "# Pairing products"
      ]
    },
    {
      "cell_type": "code",
      "execution_count": null,
      "metadata": {
        "id": "_EGdBydfnWz4"
      },
      "outputs": [],
      "source": [
        "from itertools import combinations\n",
        "\n",
        "def create_filtered_pairs(group):\n",
        "    # This function assumes 'group' is a subset of the dataframe with the same 'safetyreportid'\n",
        "    pairs = []\n",
        "    products = group['medicinalproduct'].tolist()\n",
        "    serious = group['serious'].tolist()\n",
        "\n",
        "    # Create pairs only for entries with the same 'serious' value\n",
        "    for (p1, s1), (p2, s2) in combinations(zip(products, serious), 2):\n",
        "        if s1 == s2:\n",
        "            pairs.append({'medicinalproduct1': p1, 'medicinalproduct2': p2, 'serious': s1})\n",
        "\n",
        "    return pairs\n",
        "\n",
        "# Apply function to each group\n",
        "pairs_list = df.groupby(['safetyreportid','group_id']).apply(create_filtered_pairs).reset_index(name='pairs')\n",
        "\n",
        "# Explode pairs to form a new DataFrame\n",
        "pairs_list = pairs_list.explode('pairs').dropna().reset_index(drop=True)\n",
        "\n",
        "# Ensure safetyreportid is carried over when exploding pairs\n",
        "# Here we need to merge the exploded pairs back with the original safetyreportid\n",
        "expanded_df = pd.json_normalize(pairs_list['pairs'])  # Normalize dictionary to dataframe\n",
        "expanded_df['safetyreportid'] = pairs_list['safetyreportid']  # Add 'safetyreportid' back to the dataframe\n",
        "expanded_df['group_id'] = pairs_list['group_id']  # Add 'safetyreportid' back to the dataframe\n",
        "\n",
        "expanded_df = df.merge(expanded_df[['safetyreportid', 'group_id','medicinalproduct1',\t'medicinalproduct2']] ,\n",
        "                       on=['safetyreportid', 'group_id'])\n",
        "\n",
        "expanded_df = expanded_df.drop_duplicates(subset=['safetyreportid', 'group_id' ])\n",
        "expanded_df.drop(columns=['medicinalproduct','drugstartdate','group_count'] , inplace=True)"
      ]
    },
    {
      "cell_type": "code",
      "execution_count": null,
      "metadata": {
        "colab": {
          "base_uri": "https://localhost:8080/"
        },
        "id": "DRgQcMN_GZIA",
        "outputId": "a87e3bfd-2167-496e-d0a0-76d89d83ec06"
      },
      "outputs": [
        {
          "data": {
            "text/plain": [
              "((129230, 13), (60842, 12))"
            ]
          },
          "execution_count": 147,
          "metadata": {},
          "output_type": "execute_result"
        }
      ],
      "source": [
        "df.shape, expanded_df.shape"
      ]
    },
    {
      "cell_type": "markdown",
      "metadata": {
        "id": "1NX2Zq3SLHSV"
      },
      "source": [
        "# Imputing Demographic data"
      ]
    },
    {
      "cell_type": "code",
      "execution_count": null,
      "metadata": {
        "id": "PvCPjSV1KFVy"
      },
      "outputs": [],
      "source": [
        "demographic_features = expanded_df[['safetyreportid', 'patientagegroup','patientweight', 'patientsex','patientonsetage']] #\n",
        "# Calculate the mode of each column. Note that mode() returns a DataFrame because there can be multiple modes.\n",
        "modes = demographic_features.mode(dropna=True)  # dropna=True ensures NaN is not considered as a mode\n",
        "\n",
        "# Since mode can return multiple rows if there are ties, we take the first occurrence with iloc[0]\n",
        "modes = modes.iloc[0]\n",
        "\n",
        "# Fill NaN values with these modes\n",
        "for c in ['safetyreportid', 'patientagegroup','patientweight', 'patientsex','patientonsetage']:\n",
        "  expanded_df[c].fillna(modes[c], inplace=True)"
      ]
    },
    {
      "cell_type": "code",
      "execution_count": null,
      "metadata": {
        "id": "1Jcr7oevK7SD"
      },
      "outputs": [],
      "source": [
        "serious_map = { 1: 0, 2: 1}\n",
        "# Apply the mapping\n",
        "expanded_df['serious'] = expanded_df['serious'].map(serious_map)\n"
      ]
    },
    {
      "cell_type": "code",
      "execution_count": null,
      "metadata": {
        "colab": {
          "base_uri": "https://localhost:8080/"
        },
        "id": "9lxR2oCgLPFn",
        "outputId": "cc5a0c2b-ffd1-4a20-e13f-436b744b0497"
      },
      "outputs": [
        {
          "data": {
            "text/plain": [
              "serious\n",
              "0    42651\n",
              "1    18191\n",
              "Name: count, dtype: int64"
            ]
          },
          "execution_count": 150,
          "metadata": {},
          "output_type": "execute_result"
        }
      ],
      "source": [
        "expanded_df['serious'].value_counts()"
      ]
    },
    {
      "cell_type": "code",
      "execution_count": null,
      "metadata": {
        "colab": {
          "base_uri": "https://localhost:8080/"
        },
        "id": "eDH5J3DBKFc3",
        "outputId": "79d32f8a-e1f1-4d32-b91c-24176afa2bbf"
      },
      "outputs": [
        {
          "data": {
            "text/plain": [
              "safetyreportid             0\n",
              "serious                    0\n",
              "drugindication          1118\n",
              "activesubstancename     3159\n",
              "drugrecuraction        60621\n",
              "patientagegroup            0\n",
              "patientweight              0\n",
              "patientsex                 0\n",
              "patientonsetage            0\n",
              "group_id                   0\n",
              "medicinalproduct1          0\n",
              "medicinalproduct2          0\n",
              "dtype: int64"
            ]
          },
          "execution_count": 146,
          "metadata": {},
          "output_type": "execute_result"
        }
      ],
      "source": [
        "expanded_df.isnull().sum()"
      ]
    },
    {
      "cell_type": "code",
      "execution_count": null,
      "metadata": {
        "colab": {
          "base_uri": "https://localhost:8080/"
        },
        "id": "CCHLTEiAFUot",
        "outputId": "8a88eddf-ec78-4bca-8048-c11091addce1"
      },
      "outputs": [
        {
          "output_type": "execute_result",
          "data": {
            "text/plain": [
              "(60842, 12)"
            ]
          },
          "metadata": {},
          "execution_count": 27
        }
      ],
      "source": [
        "#expanded_df.to_pickle('/content/gdrive/MyDrive/FDA/DDI/ready_data.pkl')\n",
        "expanded_df = pd.read_pickle('/content/gdrive/MyDrive/FDA/DDI/ready_data.pkl')\n",
        "expanded_df.shape"
      ]
    },
    {
      "cell_type": "code",
      "execution_count": null,
      "metadata": {
        "id": "Fl4tcMtjLp7i",
        "colab": {
          "base_uri": "https://localhost:8080/"
        },
        "outputId": "22e1f49b-a581-44da-bacc-ab6c0432b716"
      },
      "outputs": [
        {
          "output_type": "execute_result",
          "data": {
            "text/plain": [
              "Index(['safetyreportid', 'serious', 'drugindication', 'activesubstancename',\n",
              "       'drugrecuraction', 'patientagegroup', 'patientweight', 'patientsex',\n",
              "       'patientonsetage', 'group_id', 'medicinalproduct1',\n",
              "       'medicinalproduct2'],\n",
              "      dtype='object')"
            ]
          },
          "metadata": {},
          "execution_count": 8
        }
      ],
      "source": [
        "expanded_df.columns"
      ]
    },
    {
      "cell_type": "code",
      "execution_count": null,
      "metadata": {
        "id": "u_mFGVzmLqEQ"
      },
      "outputs": [],
      "source": []
    },
    {
      "cell_type": "code",
      "execution_count": null,
      "metadata": {
        "colab": {
          "base_uri": "https://localhost:8080/",
          "height": 201
        },
        "id": "xfh9Ow5sCqv6",
        "outputId": "211ec9d0-cf38-48cc-a475-b70414cc70df"
      },
      "outputs": [
        {
          "data": {
            "application/vnd.google.colaboratory.intrinsic+json": {
              "repr_error": "0",
              "type": "dataframe"
            },
            "text/html": [
              "\n",
              "  <div id=\"df-75bd9330-0a26-4e94-811a-a088cdeeb48c\" class=\"colab-df-container\">\n",
              "    <div>\n",
              "<style scoped>\n",
              "    .dataframe tbody tr th:only-of-type {\n",
              "        vertical-align: middle;\n",
              "    }\n",
              "\n",
              "    .dataframe tbody tr th {\n",
              "        vertical-align: top;\n",
              "    }\n",
              "\n",
              "    .dataframe thead th {\n",
              "        text-align: right;\n",
              "    }\n",
              "</style>\n",
              "<table border=\"1\" class=\"dataframe\">\n",
              "  <thead>\n",
              "    <tr style=\"text-align: right;\">\n",
              "      <th></th>\n",
              "      <th>safetyreportid</th>\n",
              "      <th>serious</th>\n",
              "      <th>drugindication</th>\n",
              "      <th>activesubstancename</th>\n",
              "      <th>drugrecuraction</th>\n",
              "      <th>patientagegroup</th>\n",
              "      <th>patientweight</th>\n",
              "      <th>patientsex</th>\n",
              "      <th>patientonsetage</th>\n",
              "      <th>group_id</th>\n",
              "      <th>medicinalproduct1</th>\n",
              "      <th>medicinalproduct2</th>\n",
              "    </tr>\n",
              "  </thead>\n",
              "  <tbody>\n",
              "    <tr>\n",
              "      <th>67087</th>\n",
              "      <td>7153699.0</td>\n",
              "      <td>1.0</td>\n",
              "      <td>PRODUCT USED FOR UNKNOWN INDICATION</td>\n",
              "      <td>IMATINIB MESYLATE</td>\n",
              "      <td>NaN</td>\n",
              "      <td>NaN</td>\n",
              "      <td>NaN</td>\n",
              "      <td>2.0</td>\n",
              "      <td>68.0</td>\n",
              "      <td>4927</td>\n",
              "      <td>glivec</td>\n",
              "      <td>sandostatin_lar_depot</td>\n",
              "    </tr>\n",
              "    <tr>\n",
              "      <th>85106</th>\n",
              "      <td>7153699.0</td>\n",
              "      <td>1.0</td>\n",
              "      <td>PRODUCT USED FOR UNKNOWN INDICATION</td>\n",
              "      <td>IMATINIB MESYLATE</td>\n",
              "      <td>NaN</td>\n",
              "      <td>NaN</td>\n",
              "      <td>NaN</td>\n",
              "      <td>2.0</td>\n",
              "      <td>68.0</td>\n",
              "      <td>4929</td>\n",
              "      <td>glivec</td>\n",
              "      <td>sandostatin_lar_depot</td>\n",
              "    </tr>\n",
              "  </tbody>\n",
              "</table>\n",
              "</div>\n",
              "    <div class=\"colab-df-buttons\">\n",
              "\n",
              "  <div class=\"colab-df-container\">\n",
              "    <button class=\"colab-df-convert\" onclick=\"convertToInteractive('df-75bd9330-0a26-4e94-811a-a088cdeeb48c')\"\n",
              "            title=\"Convert this dataframe to an interactive table.\"\n",
              "            style=\"display:none;\">\n",
              "\n",
              "  <svg xmlns=\"http://www.w3.org/2000/svg\" height=\"24px\" viewBox=\"0 -960 960 960\">\n",
              "    <path d=\"M120-120v-720h720v720H120Zm60-500h600v-160H180v160Zm220 220h160v-160H400v160Zm0 220h160v-160H400v160ZM180-400h160v-160H180v160Zm440 0h160v-160H620v160ZM180-180h160v-160H180v160Zm440 0h160v-160H620v160Z\"/>\n",
              "  </svg>\n",
              "    </button>\n",
              "\n",
              "  <style>\n",
              "    .colab-df-container {\n",
              "      display:flex;\n",
              "      gap: 12px;\n",
              "    }\n",
              "\n",
              "    .colab-df-convert {\n",
              "      background-color: #E8F0FE;\n",
              "      border: none;\n",
              "      border-radius: 50%;\n",
              "      cursor: pointer;\n",
              "      display: none;\n",
              "      fill: #1967D2;\n",
              "      height: 32px;\n",
              "      padding: 0 0 0 0;\n",
              "      width: 32px;\n",
              "    }\n",
              "\n",
              "    .colab-df-convert:hover {\n",
              "      background-color: #E2EBFA;\n",
              "      box-shadow: 0px 1px 2px rgba(60, 64, 67, 0.3), 0px 1px 3px 1px rgba(60, 64, 67, 0.15);\n",
              "      fill: #174EA6;\n",
              "    }\n",
              "\n",
              "    .colab-df-buttons div {\n",
              "      margin-bottom: 4px;\n",
              "    }\n",
              "\n",
              "    [theme=dark] .colab-df-convert {\n",
              "      background-color: #3B4455;\n",
              "      fill: #D2E3FC;\n",
              "    }\n",
              "\n",
              "    [theme=dark] .colab-df-convert:hover {\n",
              "      background-color: #434B5C;\n",
              "      box-shadow: 0px 1px 3px 1px rgba(0, 0, 0, 0.15);\n",
              "      filter: drop-shadow(0px 1px 2px rgba(0, 0, 0, 0.3));\n",
              "      fill: #FFFFFF;\n",
              "    }\n",
              "  </style>\n",
              "\n",
              "    <script>\n",
              "      const buttonEl =\n",
              "        document.querySelector('#df-75bd9330-0a26-4e94-811a-a088cdeeb48c button.colab-df-convert');\n",
              "      buttonEl.style.display =\n",
              "        google.colab.kernel.accessAllowed ? 'block' : 'none';\n",
              "\n",
              "      async function convertToInteractive(key) {\n",
              "        const element = document.querySelector('#df-75bd9330-0a26-4e94-811a-a088cdeeb48c');\n",
              "        const dataTable =\n",
              "          await google.colab.kernel.invokeFunction('convertToInteractive',\n",
              "                                                    [key], {});\n",
              "        if (!dataTable) return;\n",
              "\n",
              "        const docLinkHtml = 'Like what you see? Visit the ' +\n",
              "          '<a target=\"_blank\" href=https://colab.research.google.com/notebooks/data_table.ipynb>data table notebook</a>'\n",
              "          + ' to learn more about interactive tables.';\n",
              "        element.innerHTML = '';\n",
              "        dataTable['output_type'] = 'display_data';\n",
              "        await google.colab.output.renderOutput(dataTable, element);\n",
              "        const docLink = document.createElement('div');\n",
              "        docLink.innerHTML = docLinkHtml;\n",
              "        element.appendChild(docLink);\n",
              "      }\n",
              "    </script>\n",
              "  </div>\n",
              "\n",
              "\n",
              "<div id=\"df-d4cfb7ff-c128-45a8-b945-6659ebc46230\">\n",
              "  <button class=\"colab-df-quickchart\" onclick=\"quickchart('df-d4cfb7ff-c128-45a8-b945-6659ebc46230')\"\n",
              "            title=\"Suggest charts\"\n",
              "            style=\"display:none;\">\n",
              "\n",
              "<svg xmlns=\"http://www.w3.org/2000/svg\" height=\"24px\"viewBox=\"0 0 24 24\"\n",
              "     width=\"24px\">\n",
              "    <g>\n",
              "        <path d=\"M19 3H5c-1.1 0-2 .9-2 2v14c0 1.1.9 2 2 2h14c1.1 0 2-.9 2-2V5c0-1.1-.9-2-2-2zM9 17H7v-7h2v7zm4 0h-2V7h2v10zm4 0h-2v-4h2v4z\"/>\n",
              "    </g>\n",
              "</svg>\n",
              "  </button>\n",
              "\n",
              "<style>\n",
              "  .colab-df-quickchart {\n",
              "      --bg-color: #E8F0FE;\n",
              "      --fill-color: #1967D2;\n",
              "      --hover-bg-color: #E2EBFA;\n",
              "      --hover-fill-color: #174EA6;\n",
              "      --disabled-fill-color: #AAA;\n",
              "      --disabled-bg-color: #DDD;\n",
              "  }\n",
              "\n",
              "  [theme=dark] .colab-df-quickchart {\n",
              "      --bg-color: #3B4455;\n",
              "      --fill-color: #D2E3FC;\n",
              "      --hover-bg-color: #434B5C;\n",
              "      --hover-fill-color: #FFFFFF;\n",
              "      --disabled-bg-color: #3B4455;\n",
              "      --disabled-fill-color: #666;\n",
              "  }\n",
              "\n",
              "  .colab-df-quickchart {\n",
              "    background-color: var(--bg-color);\n",
              "    border: none;\n",
              "    border-radius: 50%;\n",
              "    cursor: pointer;\n",
              "    display: none;\n",
              "    fill: var(--fill-color);\n",
              "    height: 32px;\n",
              "    padding: 0;\n",
              "    width: 32px;\n",
              "  }\n",
              "\n",
              "  .colab-df-quickchart:hover {\n",
              "    background-color: var(--hover-bg-color);\n",
              "    box-shadow: 0 1px 2px rgba(60, 64, 67, 0.3), 0 1px 3px 1px rgba(60, 64, 67, 0.15);\n",
              "    fill: var(--button-hover-fill-color);\n",
              "  }\n",
              "\n",
              "  .colab-df-quickchart-complete:disabled,\n",
              "  .colab-df-quickchart-complete:disabled:hover {\n",
              "    background-color: var(--disabled-bg-color);\n",
              "    fill: var(--disabled-fill-color);\n",
              "    box-shadow: none;\n",
              "  }\n",
              "\n",
              "  .colab-df-spinner {\n",
              "    border: 2px solid var(--fill-color);\n",
              "    border-color: transparent;\n",
              "    border-bottom-color: var(--fill-color);\n",
              "    animation:\n",
              "      spin 1s steps(1) infinite;\n",
              "  }\n",
              "\n",
              "  @keyframes spin {\n",
              "    0% {\n",
              "      border-color: transparent;\n",
              "      border-bottom-color: var(--fill-color);\n",
              "      border-left-color: var(--fill-color);\n",
              "    }\n",
              "    20% {\n",
              "      border-color: transparent;\n",
              "      border-left-color: var(--fill-color);\n",
              "      border-top-color: var(--fill-color);\n",
              "    }\n",
              "    30% {\n",
              "      border-color: transparent;\n",
              "      border-left-color: var(--fill-color);\n",
              "      border-top-color: var(--fill-color);\n",
              "      border-right-color: var(--fill-color);\n",
              "    }\n",
              "    40% {\n",
              "      border-color: transparent;\n",
              "      border-right-color: var(--fill-color);\n",
              "      border-top-color: var(--fill-color);\n",
              "    }\n",
              "    60% {\n",
              "      border-color: transparent;\n",
              "      border-right-color: var(--fill-color);\n",
              "    }\n",
              "    80% {\n",
              "      border-color: transparent;\n",
              "      border-right-color: var(--fill-color);\n",
              "      border-bottom-color: var(--fill-color);\n",
              "    }\n",
              "    90% {\n",
              "      border-color: transparent;\n",
              "      border-bottom-color: var(--fill-color);\n",
              "    }\n",
              "  }\n",
              "</style>\n",
              "\n",
              "  <script>\n",
              "    async function quickchart(key) {\n",
              "      const quickchartButtonEl =\n",
              "        document.querySelector('#' + key + ' button');\n",
              "      quickchartButtonEl.disabled = true;  // To prevent multiple clicks.\n",
              "      quickchartButtonEl.classList.add('colab-df-spinner');\n",
              "      try {\n",
              "        const charts = await google.colab.kernel.invokeFunction(\n",
              "            'suggestCharts', [key], {});\n",
              "      } catch (error) {\n",
              "        console.error('Error during call to suggestCharts:', error);\n",
              "      }\n",
              "      quickchartButtonEl.classList.remove('colab-df-spinner');\n",
              "      quickchartButtonEl.classList.add('colab-df-quickchart-complete');\n",
              "    }\n",
              "    (() => {\n",
              "      let quickchartButtonEl =\n",
              "        document.querySelector('#df-d4cfb7ff-c128-45a8-b945-6659ebc46230 button');\n",
              "      quickchartButtonEl.style.display =\n",
              "        google.colab.kernel.accessAllowed ? 'block' : 'none';\n",
              "    })();\n",
              "  </script>\n",
              "</div>\n",
              "\n",
              "    </div>\n",
              "  </div>\n"
            ],
            "text/plain": [
              "       safetyreportid  serious                       drugindication  \\\n",
              "67087       7153699.0      1.0  PRODUCT USED FOR UNKNOWN INDICATION   \n",
              "85106       7153699.0      1.0  PRODUCT USED FOR UNKNOWN INDICATION   \n",
              "\n",
              "      activesubstancename drugrecuraction  patientagegroup  patientweight  \\\n",
              "67087   IMATINIB MESYLATE             NaN              NaN            NaN   \n",
              "85106   IMATINIB MESYLATE             NaN              NaN            NaN   \n",
              "\n",
              "       patientsex patientonsetage  group_id medicinalproduct1  \\\n",
              "67087         2.0            68.0      4927            glivec   \n",
              "85106         2.0            68.0      4929            glivec   \n",
              "\n",
              "           medicinalproduct2  \n",
              "67087  sandostatin_lar_depot  \n",
              "85106  sandostatin_lar_depot  "
            ]
          },
          "execution_count": 137,
          "metadata": {},
          "output_type": "execute_result"
        }
      ],
      "source": [
        "expanded_df[expanded_df.safetyreportid==7153699]"
      ]
    },
    {
      "cell_type": "code",
      "execution_count": null,
      "metadata": {
        "colab": {
          "base_uri": "https://localhost:8080/",
          "height": 135
        },
        "id": "PSP-1lkpCq1H",
        "outputId": "c00fb77e-0637-4007-c628-ec536525209a"
      },
      "outputs": [
        {
          "data": {
            "application/vnd.google.colaboratory.intrinsic+json": {
              "repr_error": "0",
              "type": "dataframe"
            },
            "text/html": [
              "\n",
              "  <div id=\"df-c51e162e-d7f2-4ca0-87f9-bccdcd4f8f9b\" class=\"colab-df-container\">\n",
              "    <div>\n",
              "<style scoped>\n",
              "    .dataframe tbody tr th:only-of-type {\n",
              "        vertical-align: middle;\n",
              "    }\n",
              "\n",
              "    .dataframe tbody tr th {\n",
              "        vertical-align: top;\n",
              "    }\n",
              "\n",
              "    .dataframe thead th {\n",
              "        text-align: right;\n",
              "    }\n",
              "</style>\n",
              "<table border=\"1\" class=\"dataframe\">\n",
              "  <thead>\n",
              "    <tr style=\"text-align: right;\">\n",
              "      <th></th>\n",
              "      <th>safetyreportid</th>\n",
              "      <th>serious</th>\n",
              "      <th>drugindication</th>\n",
              "      <th>activesubstancename</th>\n",
              "      <th>drugrecuraction</th>\n",
              "      <th>patientagegroup</th>\n",
              "      <th>patientweight</th>\n",
              "      <th>patientsex</th>\n",
              "      <th>patientonsetage</th>\n",
              "      <th>group_id</th>\n",
              "      <th>medicinalproduct1</th>\n",
              "      <th>medicinalproduct2</th>\n",
              "    </tr>\n",
              "  </thead>\n",
              "  <tbody>\n",
              "    <tr>\n",
              "      <th>47006</th>\n",
              "      <td>9539849.0</td>\n",
              "      <td>0</td>\n",
              "      <td>PRODUCT USED FOR UNKNOWN INDICATION</td>\n",
              "      <td>BUPROPION HYDROCHLORIDE</td>\n",
              "      <td>NaN</td>\n",
              "      <td>5.0</td>\n",
              "      <td>60.0</td>\n",
              "      <td>2.0</td>\n",
              "      <td>65.0</td>\n",
              "      <td>545518</td>\n",
              "      <td>wellbutrin</td>\n",
              "      <td>depoprovera</td>\n",
              "    </tr>\n",
              "  </tbody>\n",
              "</table>\n",
              "</div>\n",
              "    <div class=\"colab-df-buttons\">\n",
              "\n",
              "  <div class=\"colab-df-container\">\n",
              "    <button class=\"colab-df-convert\" onclick=\"convertToInteractive('df-c51e162e-d7f2-4ca0-87f9-bccdcd4f8f9b')\"\n",
              "            title=\"Convert this dataframe to an interactive table.\"\n",
              "            style=\"display:none;\">\n",
              "\n",
              "  <svg xmlns=\"http://www.w3.org/2000/svg\" height=\"24px\" viewBox=\"0 -960 960 960\">\n",
              "    <path d=\"M120-120v-720h720v720H120Zm60-500h600v-160H180v160Zm220 220h160v-160H400v160Zm0 220h160v-160H400v160ZM180-400h160v-160H180v160Zm440 0h160v-160H620v160ZM180-180h160v-160H180v160Zm440 0h160v-160H620v160Z\"/>\n",
              "  </svg>\n",
              "    </button>\n",
              "\n",
              "  <style>\n",
              "    .colab-df-container {\n",
              "      display:flex;\n",
              "      gap: 12px;\n",
              "    }\n",
              "\n",
              "    .colab-df-convert {\n",
              "      background-color: #E8F0FE;\n",
              "      border: none;\n",
              "      border-radius: 50%;\n",
              "      cursor: pointer;\n",
              "      display: none;\n",
              "      fill: #1967D2;\n",
              "      height: 32px;\n",
              "      padding: 0 0 0 0;\n",
              "      width: 32px;\n",
              "    }\n",
              "\n",
              "    .colab-df-convert:hover {\n",
              "      background-color: #E2EBFA;\n",
              "      box-shadow: 0px 1px 2px rgba(60, 64, 67, 0.3), 0px 1px 3px 1px rgba(60, 64, 67, 0.15);\n",
              "      fill: #174EA6;\n",
              "    }\n",
              "\n",
              "    .colab-df-buttons div {\n",
              "      margin-bottom: 4px;\n",
              "    }\n",
              "\n",
              "    [theme=dark] .colab-df-convert {\n",
              "      background-color: #3B4455;\n",
              "      fill: #D2E3FC;\n",
              "    }\n",
              "\n",
              "    [theme=dark] .colab-df-convert:hover {\n",
              "      background-color: #434B5C;\n",
              "      box-shadow: 0px 1px 3px 1px rgba(0, 0, 0, 0.15);\n",
              "      filter: drop-shadow(0px 1px 2px rgba(0, 0, 0, 0.3));\n",
              "      fill: #FFFFFF;\n",
              "    }\n",
              "  </style>\n",
              "\n",
              "    <script>\n",
              "      const buttonEl =\n",
              "        document.querySelector('#df-c51e162e-d7f2-4ca0-87f9-bccdcd4f8f9b button.colab-df-convert');\n",
              "      buttonEl.style.display =\n",
              "        google.colab.kernel.accessAllowed ? 'block' : 'none';\n",
              "\n",
              "      async function convertToInteractive(key) {\n",
              "        const element = document.querySelector('#df-c51e162e-d7f2-4ca0-87f9-bccdcd4f8f9b');\n",
              "        const dataTable =\n",
              "          await google.colab.kernel.invokeFunction('convertToInteractive',\n",
              "                                                    [key], {});\n",
              "        if (!dataTable) return;\n",
              "\n",
              "        const docLinkHtml = 'Like what you see? Visit the ' +\n",
              "          '<a target=\"_blank\" href=https://colab.research.google.com/notebooks/data_table.ipynb>data table notebook</a>'\n",
              "          + ' to learn more about interactive tables.';\n",
              "        element.innerHTML = '';\n",
              "        dataTable['output_type'] = 'display_data';\n",
              "        await google.colab.output.renderOutput(dataTable, element);\n",
              "        const docLink = document.createElement('div');\n",
              "        docLink.innerHTML = docLinkHtml;\n",
              "        element.appendChild(docLink);\n",
              "      }\n",
              "    </script>\n",
              "  </div>\n",
              "\n",
              "\n",
              "    </div>\n",
              "  </div>\n"
            ],
            "text/plain": [
              "       safetyreportid  serious                       drugindication  \\\n",
              "47006       9539849.0        0  PRODUCT USED FOR UNKNOWN INDICATION   \n",
              "\n",
              "           activesubstancename drugrecuraction  patientagegroup  \\\n",
              "47006  BUPROPION HYDROCHLORIDE             NaN              5.0   \n",
              "\n",
              "       patientweight  patientsex patientonsetage  group_id medicinalproduct1  \\\n",
              "47006           60.0         2.0            65.0    545518        wellbutrin   \n",
              "\n",
              "      medicinalproduct2  \n",
              "47006       depoprovera  "
            ]
          },
          "execution_count": 180,
          "metadata": {},
          "output_type": "execute_result"
        }
      ],
      "source": [
        "expanded_df[expanded_df.safetyreportid==9539849]"
      ]
    },
    {
      "cell_type": "code",
      "execution_count": null,
      "metadata": {
        "id": "Iq8qoS6gCq5U"
      },
      "outputs": [],
      "source": []
    },
    {
      "cell_type": "code",
      "execution_count": null,
      "metadata": {
        "colab": {
          "base_uri": "https://localhost:8080/"
        },
        "id": "XOk2RQRkbFCI",
        "outputId": "edcc6b72-6c02-439b-fba1-7afd702155f8"
      },
      "outputs": [
        {
          "output_type": "execute_result",
          "data": {
            "text/plain": [
              "8348"
            ]
          },
          "metadata": {},
          "execution_count": 9
        }
      ],
      "source": [
        "len(expanded_df.medicinalproduct1.unique())"
      ]
    },
    {
      "cell_type": "markdown",
      "metadata": {
        "id": "cxkP9P7EVbPr"
      },
      "source": [
        "# Vectorize Data"
      ]
    },
    {
      "cell_type": "code",
      "execution_count": null,
      "metadata": {
        "colab": {
          "base_uri": "https://localhost:8080/"
        },
        "id": "tondA3Q-r3lx",
        "outputId": "6d692c82-e8f5-4d48-f2f8-e785c2c5df6b"
      },
      "outputs": [
        {
          "output_type": "stream",
          "name": "stdout",
          "text": [
            "(60842, 8348)\n",
            "(60842, 8348)\n",
            "(60842, 8348)\n"
          ]
        }
      ],
      "source": [
        "from sklearn.feature_extraction.text import CountVectorizer\n",
        "import pandas as pd\n",
        "from scipy import sparse\n",
        "\n",
        "\n",
        "vectorizer = CountVectorizer()\n",
        "product1_vec  = vectorizer.fit_transform(expanded_df.medicinalproduct1)\n",
        "print(product1_vec.shape)\n",
        "product2_vec  = vectorizer.fit_transform(expanded_df.medicinalproduct1)\n",
        "print(product2_vec.shape)\n",
        "pairs_vec = product1_vec + product1_vec\n",
        "print(pairs_vec.shape)"
      ]
    },
    {
      "cell_type": "markdown",
      "metadata": {
        "id": "EmDFeTUAQcS9"
      },
      "source": [
        "# Run only if you want to add demographic data"
      ]
    },
    {
      "cell_type": "code",
      "execution_count": null,
      "metadata": {
        "colab": {
          "base_uri": "https://localhost:8080/"
        },
        "id": "3YuybcqnM02B",
        "outputId": "7c69e7db-ec89-48fa-9941-7b1c5b008281"
      },
      "outputs": [
        {
          "output_type": "stream",
          "name": "stdout",
          "text": [
            "Shape of patientagegroup: (60842, 1)\n",
            "Shape of patientweight: (60842, 1)\n",
            "Shape of patientsex: (60842, 1)\n",
            "Shape of patientonsetage: (60842, 1)\n"
          ]
        }
      ],
      "source": [
        "\n",
        "for c in ['patientagegroup', 'patientweight', 'patientsex','patientonsetage']:\n",
        "    # This ensures it's a column vector suitable for hstack\n",
        "    demo_array = expanded_df[c].astype(float).to_numpy().reshape(-1, 1)\n",
        "\n",
        "    # Convert the numpy array to a sparse matrix\n",
        "    demo_sparse = sparse.csr_matrix(demo_array)\n",
        "\n",
        "    # Check the shape to ensure correctness\n",
        "    print(f\"Shape of {c}: {demo_sparse.shape}\")\n",
        "\n",
        "    # Concatenate with the existing sparse matrix\n",
        "    pairs_vec = sparse.hstack([pairs_vec, demo_sparse])\n",
        "\n",
        "\n"
      ]
    },
    {
      "cell_type": "code",
      "execution_count": null,
      "metadata": {
        "colab": {
          "base_uri": "https://localhost:8080/"
        },
        "id": "fddE0nqXMISA",
        "outputId": "89b765c0-c13d-4b80-bad2-d78681242af4"
      },
      "outputs": [
        {
          "output_type": "execute_result",
          "data": {
            "text/plain": [
              "(60842, 8352)"
            ]
          },
          "metadata": {},
          "execution_count": 12
        }
      ],
      "source": [
        "pairs_vec.shape"
      ]
    },
    {
      "cell_type": "code",
      "execution_count": null,
      "metadata": {
        "id": "7Q-n9Wfyqw19"
      },
      "outputs": [],
      "source": [
        "X= pairs_vec\n",
        "y = expanded_df['serious']\n"
      ]
    },
    {
      "cell_type": "code",
      "execution_count": null,
      "metadata": {
        "id": "R-jLUCdzqqwN"
      },
      "outputs": [],
      "source": []
    },
    {
      "cell_type": "code",
      "execution_count": null,
      "metadata": {
        "colab": {
          "base_uri": "https://localhost:8080/",
          "height": 569
        },
        "id": "laNSF5FbdvIG",
        "outputId": "03f1a89e-e3aa-40bf-fa8b-c4a7c01e2d01"
      },
      "outputs": [
        {
          "data": {
            "image/png": "[encoded data removed]",
            "text/plain": [
              "<Figure size 1000x600 with 2 Axes>"
            ]
          },
          "metadata": {},
          "output_type": "display_data"
        }
      ],
      "source": [
        "from sklearn.decomposition import TruncatedSVD\n",
        "import matplotlib.pyplot as plt\n",
        "# Initialize and apply TruncatedSVD\n",
        "# This component can work similarly to PCA but is suitable for sparse matrices\n",
        "svd = TruncatedSVD(n_components=2, random_state=42)\n",
        "X_svd = svd.fit_transform(X)  # Assuming X is your sparse feature matrix\n",
        "\n",
        "# Separate the reduced data into two components for plotting\n",
        "x_component, y_component = X_svd[:, 0], X_svd[:, 1]\n",
        "\n",
        "\n",
        "# Assuming 'clusters' contains the cluster labels obtained from any clustering method like K-means\n",
        "plt.figure(figsize=(10, 6))\n",
        "scatter = plt.scatter(x_component, y_component, c=y, cmap='viridis', alpha=0.6, edgecolors='w')\n",
        "plt.title('Cluster Visualization with Truncated SVD Reduction')\n",
        "plt.xlabel('SVD Component 1')\n",
        "plt.ylabel('SVD Component 2')\n",
        "plt.colorbar(scatter, label='Cluster')\n",
        "plt.show()\n"
      ]
    },
    {
      "cell_type": "code",
      "execution_count": null,
      "metadata": {
        "id": "mgKYc1Q47QLA"
      },
      "outputs": [],
      "source": [
        "import numpy as np\n",
        "import pandas as pd\n",
        "from sklearn.model_selection import StratifiedKFold, cross_val_score\n",
        "from sklearn.ensemble import RandomForestClassifier  # Example classifier\n",
        "from sklearn.linear_model import LogisticRegression\n",
        "from sklearn.svm import LinearSVC\n",
        "from sklearn.preprocessing import LabelEncoder\n",
        "from scipy import sparse\n",
        "from sklearn.metrics import classification_report, confusion_matrix,accuracy_score, f1_score, roc_auc_score\n",
        "from sklearn.model_selection import cross_val_predict, StratifiedKFold\n",
        "random_seed = 42\n"
      ]
    },
    {
      "cell_type": "code",
      "execution_count": null,
      "metadata": {
        "colab": {
          "base_uri": "https://localhost:8080/"
        },
        "id": "_OIbweazeoXX",
        "outputId": "ba22a190-90b7-472b-ed0e-801f0b40f556"
      },
      "outputs": [
        {
          "output_type": "execute_result",
          "data": {
            "text/plain": [
              "serious\n",
              "0    42651\n",
              "1    18191\n",
              "Name: count, dtype: int64"
            ]
          },
          "metadata": {},
          "execution_count": 15
        }
      ],
      "source": [
        "y.value_counts()"
      ]
    },
    {
      "cell_type": "code",
      "execution_count": null,
      "metadata": {
        "colab": {
          "base_uri": "https://localhost:8080/"
        },
        "id": "kZ-whVaNfTnJ",
        "outputId": "4c0bd30a-849c-4d8a-cfd6-96e2e7a594a8"
      },
      "outputs": [
        {
          "output_type": "stream",
          "name": "stdout",
          "text": [
            "Collecting xgboost\n",
            "  Downloading xgboost-2.0.3-py3-none-manylinux2014_x86_64.whl (297.1 MB)\n",
            "\u001b[2K     \u001b[90m━━━━━━━━━━━━━━━━━━━━━━━━━━━━━━━━━━━━━━━━\u001b[0m \u001b[32m297.1/297.1 MB\u001b[0m \u001b[31m3.0 MB/s\u001b[0m eta \u001b[36m0:00:00\u001b[0m\n",
            "\u001b[?25hRequirement already satisfied: numpy in /usr/local/lib/python3.10/dist-packages (from xgboost) (1.25.2)\n",
            "Requirement already satisfied: scipy in /usr/local/lib/python3.10/dist-packages (from xgboost) (1.11.4)\n",
            "Installing collected packages: xgboost\n",
            "Successfully installed xgboost-2.0.3\n"
          ]
        }
      ],
      "source": [
        "!pip install xgboost\n"
      ]
    },
    {
      "cell_type": "code",
      "execution_count": null,
      "metadata": {
        "colab": {
          "base_uri": "https://localhost:8080/"
        },
        "id": "wWjgPGzo7QLA",
        "outputId": "7419c018-89db-4bd2-bf74-30161880627a"
      },
      "outputs": [
        {
          "output_type": "stream",
          "name": "stdout",
          "text": [
            "Accuracy = 0.7664\n",
            "F1 Score = 0.6412\n",
            "ROC AUC Score = 0.6309\n",
            "Confusion Matrix:\n",
            "[[41285  1366]\n",
            " [12847  5344]]\n",
            "[[0.96797261 0.03202739]\n",
            " [0.70622835 0.29377165]]\n",
            "              precision    recall  f1-score   support\n",
            "\n",
            "           0       0.76      0.97      0.85     42651\n",
            "           1       0.80      0.29      0.43     18191\n",
            "\n",
            "    accuracy                           0.77     60842\n",
            "   macro avg       0.78      0.63      0.64     60842\n",
            "weighted avg       0.77      0.77      0.73     60842\n",
            "\n"
          ]
        }
      ],
      "source": [
        "from sklearn.linear_model import LogisticRegression\n",
        "from sklearn.svm import LinearSVC\n",
        "from xgboost import XGBClassifier\n",
        "\n",
        "# Configure cross-validation\n",
        "cv = StratifiedKFold(n_splits=5, shuffle=True, random_state=42)\n",
        "\n",
        "# Define and train Logistic Regression\n",
        "#log_reg_model = LogisticRegression(random_state=42, max_iter=1000)\n",
        "log_reg_model = XGBClassifier(n_estimators=100, random_state=random_seed)\n",
        "\n",
        "predictions = cross_val_predict(log_reg_model, X, y, cv=cv) # method='predict_proba',\n",
        "#predictions = np.argmax(predictions_pro, axis=1)\n",
        "accuracy = accuracy_score(y, predictions)\n",
        "f1 = f1_score(y, predictions, average='macro')\n",
        "roc_auc = roc_auc_score(y, predictions)\n",
        "conf_matrix = confusion_matrix(y, predictions)\n",
        "print(f\"Accuracy = {accuracy:.4f}\")\n",
        "print(f\"F1 Score = {f1:.4f}\")\n",
        "print(f\"ROC AUC Score = {roc_auc:.4f}\")\n",
        "print('Confusion Matrix:')\n",
        "print(conf_matrix)\n",
        "cm_norm = conf_matrix.astype('float') / conf_matrix.sum(axis=1)[:, np.newaxis]\n",
        "# Print the normalized confusion matrix\n",
        "print(cm_norm)\n",
        "\n",
        "print(classification_report(y, predictions))"
      ]
    },
    {
      "cell_type": "code",
      "execution_count": null,
      "metadata": {
        "colab": {
          "base_uri": "https://localhost:8080/"
        },
        "id": "r_WJRC19RYxF",
        "outputId": "a0bf537f-cd6b-4b6c-aa21-67f757b0b789"
      },
      "outputs": [
        {
          "output_type": "stream",
          "name": "stdout",
          "text": [
            "Collecting CatBoost\n",
            "  Downloading catboost-1.2.5-cp310-cp310-manylinux2014_x86_64.whl (98.2 MB)\n",
            "\u001b[2K     \u001b[90m━━━━━━━━━━━━━━━━━━━━━━━━━━━━━━━━━━━━━━━━\u001b[0m \u001b[32m98.2/98.2 MB\u001b[0m \u001b[31m9.2 MB/s\u001b[0m eta \u001b[36m0:00:00\u001b[0m\n",
            "\u001b[?25hCollecting graphviz (from CatBoost)\n",
            "  Downloading graphviz-0.20.3-py3-none-any.whl (47 kB)\n",
            "\u001b[2K     \u001b[90m━━━━━━━━━━━━━━━━━━━━━━━━━━━━━━━━━━━━━━━━\u001b[0m \u001b[32m47.1/47.1 kB\u001b[0m \u001b[31m4.7 MB/s\u001b[0m eta \u001b[36m0:00:00\u001b[0m\n",
            "\u001b[?25hRequirement already satisfied: matplotlib in /usr/local/lib/python3.10/dist-packages (from CatBoost) (3.7.1)\n",
            "Requirement already satisfied: numpy>=1.16.0 in /usr/local/lib/python3.10/dist-packages (from CatBoost) (1.25.2)\n",
            "Requirement already satisfied: pandas>=0.24 in /usr/local/lib/python3.10/dist-packages (from CatBoost) (2.0.3)\n",
            "Requirement already satisfied: scipy in /usr/local/lib/python3.10/dist-packages (from CatBoost) (1.11.4)\n",
            "Requirement already satisfied: plotly in /usr/local/lib/python3.10/dist-packages (from CatBoost) (5.15.0)\n",
            "Requirement already satisfied: six in /usr/local/lib/python3.10/dist-packages (from CatBoost) (1.16.0)\n",
            "Requirement already satisfied: python-dateutil>=2.8.2 in /usr/local/lib/python3.10/dist-packages (from pandas>=0.24->CatBoost) (2.9.0.post0)\n",
            "Requirement already satisfied: pytz>=2020.1 in /usr/local/lib/python3.10/dist-packages (from pandas>=0.24->CatBoost) (2024.1)\n",
            "Requirement already satisfied: tzdata>=2022.1 in /usr/local/lib/python3.10/dist-packages (from pandas>=0.24->CatBoost) (2024.1)\n",
            "Requirement already satisfied: contourpy>=1.0.1 in /usr/local/lib/python3.10/dist-packages (from matplotlib->CatBoost) (1.2.1)\n",
            "Requirement already satisfied: cycler>=0.10 in /usr/local/lib/python3.10/dist-packages (from matplotlib->CatBoost) (0.12.1)\n",
            "Requirement already satisfied: fonttools>=4.22.0 in /usr/local/lib/python3.10/dist-packages (from matplotlib->CatBoost) (4.51.0)\n",
            "Requirement already satisfied: kiwisolver>=1.0.1 in /usr/local/lib/python3.10/dist-packages (from matplotlib->CatBoost) (1.4.5)\n",
            "Requirement already satisfied: packaging>=20.0 in /usr/local/lib/python3.10/dist-packages (from matplotlib->CatBoost) (24.0)\n",
            "Requirement already satisfied: pillow>=6.2.0 in /usr/local/lib/python3.10/dist-packages (from matplotlib->CatBoost) (10.3.0)\n",
            "Requirement already satisfied: pyparsing>=2.3.1 in /usr/local/lib/python3.10/dist-packages (from matplotlib->CatBoost) (3.1.2)\n",
            "Requirement already satisfied: tenacity>=6.2.0 in /usr/local/lib/python3.10/dist-packages (from plotly->CatBoost) (8.2.3)\n",
            "Installing collected packages: graphviz, CatBoost\n",
            "Successfully installed CatBoost-1.2.5 graphviz-0.20.3\n"
          ]
        }
      ],
      "source": [
        "!pip install CatBoost"
      ]
    },
    {
      "cell_type": "code",
      "execution_count": null,
      "metadata": {
        "colab": {
          "base_uri": "https://localhost:8080/"
        },
        "id": "lXugYNiTsufa",
        "outputId": "891c365c-9b73-422a-c702-3468759a80be"
      },
      "outputs": [
        {
          "output_type": "stream",
          "name": "stdout",
          "text": [
            "Collecting lightgbm\n",
            "  Downloading lightgbm-4.3.0-py3-none-manylinux_2_28_x86_64.whl (3.1 MB)\n",
            "\u001b[2K     \u001b[90m━━━━━━━━━━━━━━━━━━━━━━━━━━━━━━━━━━━━━━━━\u001b[0m \u001b[32m3.1/3.1 MB\u001b[0m \u001b[31m13.8 MB/s\u001b[0m eta \u001b[36m0:00:00\u001b[0m\n",
            "\u001b[?25hRequirement already satisfied: numpy in /usr/local/lib/python3.10/dist-packages (from lightgbm) (1.25.2)\n",
            "Requirement already satisfied: scipy in /usr/local/lib/python3.10/dist-packages (from lightgbm) (1.11.4)\n",
            "Installing collected packages: lightgbm\n",
            "Successfully installed lightgbm-4.3.0\n"
          ]
        }
      ],
      "source": [
        "!pip install lightgbm"
      ]
    },
    {
      "cell_type": "code",
      "execution_count": null,
      "metadata": {
        "id": "nKDvw_JsI6Ud"
      },
      "outputs": [],
      "source": [
        "import pandas as pd\n",
        "import numpy as np\n",
        "from sklearn.model_selection import cross_val_score, KFold, cross_val_predict, StratifiedKFold\n",
        "from sklearn.metrics import classification_report, confusion_matrix, accuracy_score, f1_score, roc_auc_score\n",
        "from sklearn.linear_model import LogisticRegression\n",
        "from sklearn.neighbors import KNeighborsClassifier\n",
        "from sklearn.svm import SVC\n",
        "from sklearn.tree import DecisionTreeClassifier\n",
        "from sklearn.ensemble import RandomForestClassifier, GradientBoostingClassifier, AdaBoostClassifier, ExtraTreesClassifier\n",
        "from sklearn.linear_model import SGDClassifier\n",
        "from sklearn.naive_bayes import GaussianNB\n",
        "from xgboost import XGBClassifier\n",
        "from lightgbm import LGBMClassifier\n",
        "from catboost import CatBoostClassifier  # Note: CatBoost requires a separate installation\n",
        "\n",
        "# Set a random seed for reproducibility\n",
        "random_seed = 42\n",
        "np.random.seed(random_seed)\n"
      ]
    },
    {
      "cell_type": "code",
      "execution_count": null,
      "metadata": {
        "id": "4zPl10WG7QLA"
      },
      "outputs": [],
      "source": [
        "# Define classifiers\n",
        "# Count the instances of each class\n",
        "class_counts = y.value_counts()\n",
        "scale_pos_weight = class_counts[0] / class_counts[1]\n",
        "\n",
        "classifiers = {\n",
        "    'Logistic Regression': LogisticRegression(random_state=random_seed, class_weight='balanced'),\n",
        "    'K-Nearest Neighbors': KNeighborsClassifier(),  # No inherent support for class_weight, consider using SMOTE\n",
        "    'XGBoost Classifier': XGBClassifier(n_estimators=100, use_label_encoder=False, eval_metric='logloss',\n",
        "                                        scale_pos_weight=scale_pos_weight, random_state=random_seed),\n",
        "    'LightGBM Classifier': LGBMClassifier(n_estimators=100, verbose=-1, class_weight='balanced', random_state=random_seed),\n",
        "    'CatBoost Classifier': CatBoostClassifier(verbose=0, random_state=random_seed, auto_class_weights='Balanced'),  # CatBoost has an automatic class weight estimator\n",
        "    'Extra Trees Classifier': ExtraTreesClassifier(n_estimators=100, class_weight='balanced', random_state=random_seed)\n",
        "\n",
        "}\n",
        "\n"
      ]
    },
    {
      "cell_type": "code",
      "execution_count": null,
      "metadata": {
        "id": "yj8o5elx7QLB"
      },
      "outputs": [],
      "source": [
        "import pandas as pd\n",
        "import numpy as np\n",
        "from sklearn.model_selection import cross_val_score, KFold, cross_val_predict, StratifiedKFold\n",
        "from sklearn.metrics import classification_report, confusion_matrix, accuracy_score, f1_score, roc_auc_score,precision_score, recall_score\n",
        "\n",
        "\n",
        "def evaluate_classification(x, y, experiment_name='Default', results_df=None):\n",
        "    print(f\"----------------Evaluating {experiment_name}...\")\n",
        "    if results_df is None:\n",
        "        results_df = pd.DataFrame(columns=['Model', 'Experiment', 'Accuracy','F1 Score','Precision','Recall','ROC AUC Score', 'Confusion Matrix'])\n",
        "\n",
        "    k_fold = StratifiedKFold(n_splits=5, shuffle=True, random_state=random_seed)\n",
        "\n",
        "    for name, clf in classifiers.items():\n",
        "        print(f\"Training {name}...\")\n",
        "        #predictions = cross_val_predict(clf, x, y, cv=k_fold)\n",
        "        predictions_proba = cross_val_predict(clf, x, y, cv=k_fold, method='predict_proba')\n",
        "        predictions_proba = predictions_proba[:, 1]\n",
        "        predictions = (predictions_proba > 0.5).astype(int)\n",
        "\n",
        "        accuracy = accuracy_score(y, predictions)\n",
        "        f1 = f1_score(y, predictions, average='macro')\n",
        "        precision, recall = precision_score(y, predictions, average='macro'), recall_score(y, predictions, average='macro')\n",
        "\n",
        "        roc_auc = roc_auc_score(y, predictions_proba)\n",
        "        conf_matrix = confusion_matrix(y, predictions)\n",
        "\n",
        "        print(f\"{name}: Accuracy = {accuracy:.4f}\")\n",
        "        print(f\"{name}: F1 Score = {f1:.4f}\")\n",
        "        print(f\"{name}: ROC AUC Score = {roc_auc:.4f}\")\n",
        "        print('Confusion Matrix:')\n",
        "        print(conf_matrix)\n",
        "        cm_norm = conf_matrix.astype('float') / conf_matrix.sum(axis=1)[:, np.newaxis]\n",
        "        # Print the normalized confusion matrix\n",
        "        print(cm_norm)\n",
        "        print(classification_report(y, predictions))\n",
        "\n",
        "        print('-'*50)\n",
        "        prediction_df = pd.DataFrame({\n",
        "            'True Labels': y,\n",
        "            'Predicted Labels': predictions,\n",
        "            'Predicted Probabilities': predictions_proba\n",
        "        })\n",
        "\n",
        "        # Save to CSV\n",
        "        prediction_df.to_excel(f'/content/gdrive/MyDrive/FDA/DDI/exp0/predictions_results_{experiment_name}-{name}.xlsx', index=False)\n",
        "\n",
        "\n",
        "        # Create a new DataFrame for the record\n",
        "        new_record = pd.DataFrame({\n",
        "            'Model': [name],\n",
        "            'Experiment': [experiment_name],\n",
        "            'Accuracy': [accuracy],\n",
        "            'F1 Score': [f1],\n",
        "            'Precision':[precision],\n",
        "            'Recall' :[recall],\n",
        "            'ROC AUC Score': [roc_auc],\n",
        "            'Confusion Matrix': [cm_norm]\n",
        "        })\n",
        "\n",
        "        # Concatenate the new record to the existing DataFrame\n",
        "        results_df = pd.concat([results_df, new_record], ignore_index=True)\n",
        "\n",
        "        results_df.to_excel('/content/gdrive/MyDrive/FDA/DDI/exp0/results.xlsx', index=False)\n",
        "\n",
        "    return results_df"
      ]
    },
    {
      "cell_type": "code",
      "execution_count": null,
      "metadata": {
        "id": "Ul7O0YpALerd"
      },
      "outputs": [],
      "source": [
        "import warnings\n",
        "warnings.filterwarnings('ignore')"
      ]
    },
    {
      "cell_type": "code",
      "execution_count": null,
      "metadata": {
        "id": "g916Xo6Uye9i",
        "colab": {
          "base_uri": "https://localhost:8080/"
        },
        "outputId": "eb01c950-74c6-40e1-9aa0-b50f1320ca1f"
      },
      "outputs": [
        {
          "output_type": "execute_result",
          "data": {
            "text/plain": [
              "serious\n",
              "0    42651\n",
              "1    18191\n",
              "Name: count, dtype: int64"
            ]
          },
          "metadata": {},
          "execution_count": 24
        }
      ],
      "source": [
        "expanded_df['serious'].value_counts()"
      ]
    },
    {
      "cell_type": "code",
      "execution_count": null,
      "metadata": {
        "colab": {
          "base_uri": "https://localhost:8080/"
        },
        "id": "3BUYYzUKtvL9",
        "outputId": "bba148bb-0321-41d5-922d-75ca2fd3e15a"
      },
      "outputs": [
        {
          "output_type": "stream",
          "name": "stdout",
          "text": [
            "Collecting openpyxl\n",
            "  Downloading openpyxl-3.1.2-py2.py3-none-any.whl (249 kB)\n",
            "\u001b[?25l     \u001b[90m━━━━━━━━━━━━━━━━━━━━━━━━━━━━━━━━━━━━━━━━\u001b[0m \u001b[32m0.0/250.0 kB\u001b[0m \u001b[31m?\u001b[0m eta \u001b[36m-:--:--\u001b[0m\r\u001b[2K     \u001b[91m━━━━━━\u001b[0m\u001b[91m╸\u001b[0m\u001b[90m━━━━━━━━━━━━━━━━━━━━━━━━━━━━━━━━━\u001b[0m \u001b[32m41.0/250.0 kB\u001b[0m \u001b[31m1.1 MB/s\u001b[0m eta \u001b[36m0:00:01\u001b[0m\r\u001b[2K     \u001b[91m━━━━━━━━━━━━━━━━━━━\u001b[0m\u001b[91m╸\u001b[0m\u001b[90m━━━━━━━━━━━━━━━━━━━━\u001b[0m \u001b[32m122.9/250.0 kB\u001b[0m \u001b[31m1.8 MB/s\u001b[0m eta \u001b[36m0:00:01\u001b[0m\r\u001b[2K     \u001b[90m━━━━━━━━━━━━━━━━━━━━━━━━━━━━━━━━━━━━━━━━\u001b[0m \u001b[32m250.0/250.0 kB\u001b[0m \u001b[31m2.5 MB/s\u001b[0m eta \u001b[36m0:00:00\u001b[0m\n",
            "\u001b[?25hCollecting et-xmlfile (from openpyxl)\n",
            "  Downloading et_xmlfile-1.1.0-py3-none-any.whl (4.7 kB)\n",
            "Installing collected packages: et-xmlfile, openpyxl\n",
            "Successfully installed et-xmlfile-1.1.0 openpyxl-3.1.2\n"
          ]
        }
      ],
      "source": [
        "!pip install openpyxl"
      ]
    },
    {
      "cell_type": "code",
      "execution_count": null,
      "metadata": {
        "colab": {
          "base_uri": "https://localhost:8080/"
        },
        "id": "HjDAFSextPlM",
        "outputId": "b3c857d3-c7d6-42be-e09e-f256912cc779"
      },
      "outputs": [
        {
          "output_type": "stream",
          "name": "stdout",
          "text": [
            "----------------Evaluating CountVectorization_withDemographic...\n",
            "Training Logistic Regression...\n",
            "Logistic Regression: Accuracy = 0.7364\n",
            "Logistic Regression: F1 Score = 0.6630\n",
            "Logistic Regression: ROC AUC Score = 0.7389\n",
            "Confusion Matrix:\n",
            "[[36599  6052]\n",
            " [ 9986  8205]]\n",
            "[[0.85810415 0.14189585]\n",
            " [0.54895278 0.45104722]]\n",
            "              precision    recall  f1-score   support\n",
            "\n",
            "           0       0.79      0.86      0.82     42651\n",
            "           1       0.58      0.45      0.51     18191\n",
            "\n",
            "    accuracy                           0.74     60842\n",
            "   macro avg       0.68      0.65      0.66     60842\n",
            "weighted avg       0.72      0.74      0.73     60842\n",
            "\n",
            "--------------------------------------------------\n",
            "Training K-Nearest Neighbors...\n",
            "K-Nearest Neighbors: Accuracy = 0.7106\n",
            "K-Nearest Neighbors: F1 Score = 0.6373\n",
            "K-Nearest Neighbors: ROC AUC Score = 0.6835\n",
            "Confusion Matrix:\n",
            "[[35291  7360]\n",
            " [10247  7944]]\n",
            "[[0.82743664 0.17256336]\n",
            " [0.56330053 0.43669947]]\n",
            "              precision    recall  f1-score   support\n",
            "\n",
            "           0       0.77      0.83      0.80     42651\n",
            "           1       0.52      0.44      0.47     18191\n",
            "\n",
            "    accuracy                           0.71     60842\n",
            "   macro avg       0.65      0.63      0.64     60842\n",
            "weighted avg       0.70      0.71      0.70     60842\n",
            "\n",
            "--------------------------------------------------\n",
            "Training XGBoost Classifier...\n",
            "XGBoost Classifier: Accuracy = 0.7147\n",
            "XGBoost Classifier: F1 Score = 0.6690\n",
            "XGBoost Classifier: ROC AUC Score = 0.7540\n",
            "Confusion Matrix:\n",
            "[[33053  9598]\n",
            " [ 7759 10432]]\n",
            "[[0.77496424 0.22503576]\n",
            " [0.4265296  0.5734704 ]]\n",
            "              precision    recall  f1-score   support\n",
            "\n",
            "           0       0.81      0.77      0.79     42651\n",
            "           1       0.52      0.57      0.55     18191\n",
            "\n",
            "    accuracy                           0.71     60842\n",
            "   macro avg       0.67      0.67      0.67     60842\n",
            "weighted avg       0.72      0.71      0.72     60842\n",
            "\n",
            "--------------------------------------------------\n",
            "Training LightGBM Classifier...\n",
            "LightGBM Classifier: Accuracy = 0.7144\n",
            "LightGBM Classifier: F1 Score = 0.6729\n",
            "LightGBM Classifier: ROC AUC Score = 0.7610\n",
            "Confusion Matrix:\n",
            "[[32567 10084]\n",
            " [ 7293 10898]]\n",
            "[[0.76356944 0.23643056]\n",
            " [0.40091254 0.59908746]]\n",
            "              precision    recall  f1-score   support\n",
            "\n",
            "           0       0.82      0.76      0.79     42651\n",
            "           1       0.52      0.60      0.56     18191\n",
            "\n",
            "    accuracy                           0.71     60842\n",
            "   macro avg       0.67      0.68      0.67     60842\n",
            "weighted avg       0.73      0.71      0.72     60842\n",
            "\n",
            "--------------------------------------------------\n",
            "Training CatBoost Classifier...\n",
            "CatBoost Classifier: Accuracy = 0.7188\n",
            "CatBoost Classifier: F1 Score = 0.6835\n",
            "CatBoost Classifier: ROC AUC Score = 0.7805\n",
            "Confusion Matrix:\n",
            "[[32022 10629]\n",
            " [ 6481 11710]]\n",
            "[[0.75079131 0.24920869]\n",
            " [0.35627508 0.64372492]]\n",
            "              precision    recall  f1-score   support\n",
            "\n",
            "           0       0.83      0.75      0.79     42651\n",
            "           1       0.52      0.64      0.58     18191\n",
            "\n",
            "    accuracy                           0.72     60842\n",
            "   macro avg       0.68      0.70      0.68     60842\n",
            "weighted avg       0.74      0.72      0.73     60842\n",
            "\n",
            "--------------------------------------------------\n",
            "Training Extra Trees Classifier...\n",
            "Extra Trees Classifier: Accuracy = 0.7240\n",
            "Extra Trees Classifier: F1 Score = 0.6730\n",
            "Extra Trees Classifier: ROC AUC Score = 0.7264\n",
            "Confusion Matrix:\n",
            "[[34034  8617]\n",
            " [ 8178 10013]]\n",
            "[[0.79796488 0.20203512]\n",
            " [0.44956297 0.55043703]]\n",
            "              precision    recall  f1-score   support\n",
            "\n",
            "           0       0.81      0.80      0.80     42651\n",
            "           1       0.54      0.55      0.54     18191\n",
            "\n",
            "    accuracy                           0.72     60842\n",
            "   macro avg       0.67      0.67      0.67     60842\n",
            "weighted avg       0.73      0.72      0.72     60842\n",
            "\n",
            "--------------------------------------------------\n"
          ]
        }
      ],
      "source": [
        "results_df= None\n",
        "X = X.astype(np.float32)\n",
        "results_df = evaluate_classification(X, y, experiment_name='CountVectorization_withDemographic', results_df=results_df)\n"
      ]
    },
    {
      "cell_type": "code",
      "execution_count": null,
      "metadata": {
        "colab": {
          "base_uri": "https://localhost:8080/"
        },
        "id": "q--p_7Q0RDsE",
        "outputId": "963d75eb-f97a-4f97-80c8-c6a557599eed"
      },
      "outputs": [
        {
          "output_type": "stream",
          "name": "stdout",
          "text": [
            "----------------Evaluating CountVectorization...\n",
            "Training Logistic Regression...\n",
            "Logistic Regression: Accuracy = 0.7031\n",
            "Logistic Regression: F1 Score = 0.6772\n",
            "Logistic Regression: ROC AUC Score = 0.7861\n",
            "Confusion Matrix:\n",
            "[[30006 12645]\n",
            " [ 5418 12773]]\n",
            "[[0.70352395 0.29647605]\n",
            " [0.29783959 0.70216041]]\n",
            "              precision    recall  f1-score   support\n",
            "\n",
            "           0       0.85      0.70      0.77     42651\n",
            "           1       0.50      0.70      0.59     18191\n",
            "\n",
            "    accuracy                           0.70     60842\n",
            "   macro avg       0.67      0.70      0.68     60842\n",
            "weighted avg       0.74      0.70      0.71     60842\n",
            "\n",
            "--------------------------------------------------\n",
            "Training K-Nearest Neighbors...\n",
            "K-Nearest Neighbors: Accuracy = 0.7186\n",
            "K-Nearest Neighbors: F1 Score = 0.6513\n",
            "K-Nearest Neighbors: ROC AUC Score = 0.6932\n",
            "Confusion Matrix:\n",
            "[[35230  7421]\n",
            " [ 9698  8493]]\n",
            "[[0.82600642 0.17399358]\n",
            " [0.53312077 0.46687923]]\n",
            "              precision    recall  f1-score   support\n",
            "\n",
            "           0       0.78      0.83      0.80     42651\n",
            "           1       0.53      0.47      0.50     18191\n",
            "\n",
            "    accuracy                           0.72     60842\n",
            "   macro avg       0.66      0.65      0.65     60842\n",
            "weighted avg       0.71      0.72      0.71     60842\n",
            "\n",
            "--------------------------------------------------\n",
            "Training XGBoost Classifier...\n",
            "XGBoost Classifier: Accuracy = 0.7513\n",
            "XGBoost Classifier: F1 Score = 0.6746\n",
            "XGBoost Classifier: ROC AUC Score = 0.7248\n",
            "Confusion Matrix:\n",
            "[[37629  5022]\n",
            " [10109  8082]]\n",
            "[[0.88225364 0.11774636]\n",
            " [0.55571436 0.44428564]]\n",
            "              precision    recall  f1-score   support\n",
            "\n",
            "           0       0.79      0.88      0.83     42651\n",
            "           1       0.62      0.44      0.52     18191\n",
            "\n",
            "    accuracy                           0.75     60842\n",
            "   macro avg       0.70      0.66      0.67     60842\n",
            "weighted avg       0.74      0.75      0.74     60842\n",
            "\n",
            "--------------------------------------------------\n",
            "Training LightGBM Classifier...\n",
            "LightGBM Classifier: Accuracy = 0.7342\n",
            "LightGBM Classifier: F1 Score = 0.6726\n",
            "LightGBM Classifier: ROC AUC Score = 0.7296\n",
            "Confusion Matrix:\n",
            "[[35524  7127]\n",
            " [ 9046  9145]]\n",
            "[[0.83289958 0.16710042]\n",
            " [0.49727887 0.50272113]]\n",
            "              precision    recall  f1-score   support\n",
            "\n",
            "           0       0.80      0.83      0.81     42651\n",
            "           1       0.56      0.50      0.53     18191\n",
            "\n",
            "    accuracy                           0.73     60842\n",
            "   macro avg       0.68      0.67      0.67     60842\n",
            "weighted avg       0.73      0.73      0.73     60842\n",
            "\n",
            "--------------------------------------------------\n",
            "Training CatBoost Classifier...\n",
            "CatBoost Classifier: Accuracy = 0.7419\n",
            "CatBoost Classifier: F1 Score = 0.6831\n",
            "CatBoost Classifier: ROC AUC Score = 0.7616\n",
            "Confusion Matrix:\n",
            "[[35674  6977]\n",
            " [ 8725  9466]]\n",
            "[[0.8364165  0.1635835 ]\n",
            " [0.47963279 0.52036721]]\n",
            "              precision    recall  f1-score   support\n",
            "\n",
            "           0       0.80      0.84      0.82     42651\n",
            "           1       0.58      0.52      0.55     18191\n",
            "\n",
            "    accuracy                           0.74     60842\n",
            "   macro avg       0.69      0.68      0.68     60842\n",
            "weighted avg       0.74      0.74      0.74     60842\n",
            "\n",
            "--------------------------------------------------\n",
            "Training Extra Trees Classifier...\n",
            "Extra Trees Classifier: Accuracy = 0.6974\n",
            "Extra Trees Classifier: F1 Score = 0.6737\n",
            "Extra Trees Classifier: ROC AUC Score = 0.7727\n",
            "Confusion Matrix:\n",
            "[[29413 13238]\n",
            " [ 5173 13018]]\n",
            "[[0.68962041 0.31037959]\n",
            " [0.28437139 0.71562861]]\n",
            "              precision    recall  f1-score   support\n",
            "\n",
            "           0       0.85      0.69      0.76     42651\n",
            "           1       0.50      0.72      0.59     18191\n",
            "\n",
            "    accuracy                           0.70     60842\n",
            "   macro avg       0.67      0.70      0.67     60842\n",
            "weighted avg       0.74      0.70      0.71     60842\n",
            "\n",
            "--------------------------------------------------\n"
          ]
        }
      ],
      "source": [
        "#results_df= None\n",
        "X = X.astype(np.float32)\n",
        "results_df = evaluate_classification(X, y, experiment_name='CountVectorization', results_df=results_df)\n"
      ]
    },
    {
      "cell_type": "code",
      "execution_count": null,
      "metadata": {
        "id": "_L35SwaptYN4"
      },
      "outputs": [],
      "source": []
    },
    {
      "cell_type": "code",
      "execution_count": null,
      "metadata": {
        "id": "CGkqJOoOyN8N"
      },
      "outputs": [],
      "source": []
    },
    {
      "cell_type": "code",
      "execution_count": null,
      "metadata": {
        "id": "pVIF0h-fyOBE"
      },
      "outputs": [],
      "source": []
    },
    {
      "cell_type": "code",
      "execution_count": null,
      "metadata": {
        "id": "uazLuxINyOF6"
      },
      "outputs": [],
      "source": []
    },
    {
      "cell_type": "markdown",
      "source": [
        "# Stop here"
      ],
      "metadata": {
        "id": "2KaW_FeCR_Wy"
      }
    },
    {
      "cell_type": "code",
      "execution_count": null,
      "metadata": {
        "colab": {
          "base_uri": "https://localhost:8080/",
          "height": 1000
        },
        "id": "w8R0MmCn7QLB",
        "outputId": "ba99bf61-772a-4fb9-a96b-a60ff4152c3e"
      },
      "outputs": [
        {
          "name": "stdout",
          "output_type": "stream",
          "text": [
            "Training Logistic Regression...\n",
            "Logistic Regression: Accuracy = 0.7590\n",
            "Logistic Regression: F1 Score = 0.6282\n",
            "Logistic Regression: ROC AUC Score = 0.6179\n",
            "Confusion Matrix:\n",
            "[[ 5701 13709]\n",
            " [ 2861 46480]]\n",
            "[[0.29371458 0.70628542]\n",
            " [0.05798423 0.94201577]]\n",
            "              precision    recall  f1-score   support\n",
            "\n",
            "         0.0       0.67      0.29      0.41     19410\n",
            "         1.0       0.77      0.94      0.85     49341\n",
            "\n",
            "    accuracy                           0.76     68751\n",
            "   macro avg       0.72      0.62      0.63     68751\n",
            "weighted avg       0.74      0.76      0.72     68751\n",
            "\n",
            "--------------------------------------------------\n",
            "Training K-Nearest Neighbors...\n",
            "K-Nearest Neighbors: Accuracy = 0.7580\n",
            "K-Nearest Neighbors: F1 Score = 0.6759\n",
            "K-Nearest Neighbors: ROC AUC Score = 0.6649\n",
            "Confusion Matrix:\n",
            "[[ 8754 10656]\n",
            " [ 5980 43361]]\n",
            "[[0.45100464 0.54899536]\n",
            " [0.12119738 0.87880262]]\n",
            "              precision    recall  f1-score   support\n",
            "\n",
            "         0.0       0.59      0.45      0.51     19410\n",
            "         1.0       0.80      0.88      0.84     49341\n",
            "\n",
            "    accuracy                           0.76     68751\n",
            "   macro avg       0.70      0.66      0.68     68751\n",
            "weighted avg       0.74      0.76      0.75     68751\n",
            "\n",
            "--------------------------------------------------\n",
            "Training XGBoost Classifier...\n",
            "XGBoost Classifier: Accuracy = 0.7976\n",
            "XGBoost Classifier: F1 Score = 0.7240\n",
            "XGBoost Classifier: ROC AUC Score = 0.7067\n",
            "Confusion Matrix:\n",
            "[[ 9662  9748]\n",
            " [ 4164 45177]]\n",
            "[[0.49778465 0.50221535]\n",
            " [0.08439229 0.91560771]]\n",
            "              precision    recall  f1-score   support\n",
            "\n",
            "         0.0       0.70      0.50      0.58     19410\n",
            "         1.0       0.82      0.92      0.87     49341\n",
            "\n",
            "    accuracy                           0.80     68751\n",
            "   macro avg       0.76      0.71      0.72     68751\n",
            "weighted avg       0.79      0.80      0.79     68751\n",
            "\n",
            "--------------------------------------------------\n",
            "Training LightGBM Classifier...\n",
            "LightGBM Classifier: Accuracy = 0.7989\n",
            "LightGBM Classifier: F1 Score = 0.7108\n",
            "LightGBM Classifier: ROC AUC Score = 0.6893\n",
            "Confusion Matrix:\n",
            "[[ 8491 10919]\n",
            " [ 2908 46433]]\n",
            "[[0.43745492 0.56254508]\n",
            " [0.05893679 0.94106321]]\n",
            "              precision    recall  f1-score   support\n",
            "\n",
            "         0.0       0.74      0.44      0.55     19410\n",
            "         1.0       0.81      0.94      0.87     49341\n",
            "\n",
            "    accuracy                           0.80     68751\n",
            "   macro avg       0.78      0.69      0.71     68751\n",
            "weighted avg       0.79      0.80      0.78     68751\n",
            "\n",
            "--------------------------------------------------\n",
            "Training CatBoost Classifier...\n",
            "CatBoost Classifier: Accuracy = 0.8027\n",
            "CatBoost Classifier: F1 Score = 0.7230\n",
            "CatBoost Classifier: ROC AUC Score = 0.7024\n",
            "Confusion Matrix:\n",
            "[[ 9162 10248]\n",
            " [ 3320 46021]]\n",
            "[[0.47202473 0.52797527]\n",
            " [0.06728684 0.93271316]]\n",
            "              precision    recall  f1-score   support\n",
            "\n",
            "         0.0       0.73      0.47      0.57     19410\n",
            "         1.0       0.82      0.93      0.87     49341\n",
            "\n",
            "    accuracy                           0.80     68751\n",
            "   macro avg       0.78      0.70      0.72     68751\n",
            "weighted avg       0.79      0.80      0.79     68751\n",
            "\n",
            "--------------------------------------------------\n",
            "Training SGD Classifier...\n",
            "SGD Classifier: Accuracy = 0.6378\n",
            "SGD Classifier: F1 Score = 0.5776\n",
            "SGD Classifier: ROC AUC Score = 0.5842\n",
            "Confusion Matrix:\n",
            "[[ 8948 10462]\n",
            " [14442 34899]]\n",
            "[[0.46099948 0.53900052]\n",
            " [0.29269776 0.70730224]]\n",
            "              precision    recall  f1-score   support\n",
            "\n",
            "         0.0       0.38      0.46      0.42     19410\n",
            "         1.0       0.77      0.71      0.74     49341\n",
            "\n",
            "    accuracy                           0.64     68751\n",
            "   macro avg       0.58      0.58      0.58     68751\n",
            "weighted avg       0.66      0.64      0.65     68751\n",
            "\n",
            "--------------------------------------------------\n",
            "Training Extra Trees Classifier...\n",
            "Extra Trees Classifier: Accuracy = 0.7797\n",
            "Extra Trees Classifier: F1 Score = 0.6960\n",
            "Extra Trees Classifier: ROC AUC Score = 0.6802\n",
            "Confusion Matrix:\n",
            "[[ 8770 10640]\n",
            " [ 4508 44833]]\n",
            "[[0.45182895 0.54817105]\n",
            " [0.09136418 0.90863582]]\n",
            "              precision    recall  f1-score   support\n",
            "\n",
            "         0.0       0.66      0.45      0.54     19410\n",
            "         1.0       0.81      0.91      0.86     49341\n",
            "\n",
            "    accuracy                           0.78     68751\n",
            "   macro avg       0.73      0.68      0.70     68751\n",
            "weighted avg       0.77      0.78      0.77     68751\n",
            "\n",
            "--------------------------------------------------\n",
            "Training Gaussian Naive Bayes...\n",
            "Gaussian Naive Bayes: Accuracy = 0.6892\n",
            "Gaussian Naive Bayes: F1 Score = 0.6114\n",
            "Gaussian Naive Bayes: ROC AUC Score = 0.6101\n",
            "Confusion Matrix:\n",
            "[[ 8314 11096]\n",
            " [10273 39068]]\n",
            "[[0.42833591 0.57166409]\n",
            " [0.20820413 0.79179587]]\n",
            "              precision    recall  f1-score   support\n",
            "\n",
            "         0.0       0.45      0.43      0.44     19410\n",
            "         1.0       0.78      0.79      0.79     49341\n",
            "\n",
            "    accuracy                           0.69     68751\n",
            "   macro avg       0.61      0.61      0.61     68751\n",
            "weighted avg       0.69      0.69      0.69     68751\n",
            "\n",
            "--------------------------------------------------\n"
          ]
        },
        {
          "data": {
            "application/vnd.google.colaboratory.intrinsic+json": {
              "summary": "{\n  \"name\": \"results_df\",\n  \"rows\": 8,\n  \"fields\": [\n    {\n      \"column\": \"Model\",\n      \"properties\": {\n        \"dtype\": \"string\",\n        \"num_unique_values\": 8,\n        \"samples\": [\n          \"K-Nearest Neighbors\",\n          \"SGD Classifier\",\n          \"Logistic Regression\"\n        ],\n        \"semantic_type\": \"\",\n        \"description\": \"\"\n      }\n    },\n    {\n      \"column\": \"Experiment\",\n      \"properties\": {\n        \"dtype\": \"category\",\n        \"num_unique_values\": 1,\n        \"samples\": [\n          \"Initial Classification\"\n        ],\n        \"semantic_type\": \"\",\n        \"description\": \"\"\n      }\n    },\n    {\n      \"column\": \"Accuracy\",\n      \"properties\": {\n        \"dtype\": \"number\",\n        \"std\": 0.05938675286824997,\n        \"min\": 0.6377652688688165,\n        \"max\": 0.8026501432706433,\n        \"num_unique_values\": 8,\n        \"samples\": [\n          0.7580253378132682\n        ],\n        \"semantic_type\": \"\",\n        \"description\": \"\"\n      }\n    },\n    {\n      \"column\": \"F1 Score\",\n      \"properties\": {\n        \"dtype\": \"number\",\n        \"std\": 0.055815190671578564,\n        \"min\": 0.5775792851042632,\n        \"max\": 0.7239948883529117,\n        \"num_unique_values\": 8,\n        \"samples\": [\n          0.675907160103554\n        ],\n        \"semantic_type\": \"\",\n        \"description\": \"\"\n      }\n    },\n    {\n      \"column\": \"ROC AUC Score\",\n      \"properties\": {\n        \"dtype\": \"number\",\n        \"std\": 0.046617325893945565,\n        \"min\": 0.5841508641859523,\n        \"max\": 0.7066961783509123,\n        \"num_unique_values\": 8,\n        \"samples\": [\n          0.6649036276485752\n        ],\n        \"semantic_type\": \"\",\n        \"description\": \"\"\n      }\n    },\n    {\n      \"column\": \"Confusion Matrix\",\n      \"properties\": {\n        \"dtype\": \"object\",\n        \"semantic_type\": \"\",\n        \"description\": \"\"\n      }\n    }\n  ]\n}",
              "type": "dataframe",
              "variable_name": "results_df"
            },
            "text/html": [
              "\n",
              "  <div id=\"df-686fd321-d44d-4f62-bd0c-1858fbbe5c35\" class=\"colab-df-container\">\n",
              "    <div>\n",
              "<style scoped>\n",
              "    .dataframe tbody tr th:only-of-type {\n",
              "        vertical-align: middle;\n",
              "    }\n",
              "\n",
              "    .dataframe tbody tr th {\n",
              "        vertical-align: top;\n",
              "    }\n",
              "\n",
              "    .dataframe thead th {\n",
              "        text-align: right;\n",
              "    }\n",
              "</style>\n",
              "<table border=\"1\" class=\"dataframe\">\n",
              "  <thead>\n",
              "    <tr style=\"text-align: right;\">\n",
              "      <th></th>\n",
              "      <th>Model</th>\n",
              "      <th>Experiment</th>\n",
              "      <th>Accuracy</th>\n",
              "      <th>F1 Score</th>\n",
              "      <th>ROC AUC Score</th>\n",
              "      <th>Confusion Matrix</th>\n",
              "    </tr>\n",
              "  </thead>\n",
              "  <tbody>\n",
              "    <tr>\n",
              "      <th>0</th>\n",
              "      <td>Logistic Regression</td>\n",
              "      <td>Initial Classification</td>\n",
              "      <td>0.758985</td>\n",
              "      <td>0.628170</td>\n",
              "      <td>0.617865</td>\n",
              "      <td>[[5701, 13709], [2861, 46480]]</td>\n",
              "    </tr>\n",
              "    <tr>\n",
              "      <th>1</th>\n",
              "      <td>K-Nearest Neighbors</td>\n",
              "      <td>Initial Classification</td>\n",
              "      <td>0.758025</td>\n",
              "      <td>0.675907</td>\n",
              "      <td>0.664904</td>\n",
              "      <td>[[8754, 10656], [5980, 43361]]</td>\n",
              "    </tr>\n",
              "    <tr>\n",
              "      <th>2</th>\n",
              "      <td>XGBoost Classifier</td>\n",
              "      <td>Initial Classification</td>\n",
              "      <td>0.797647</td>\n",
              "      <td>0.723995</td>\n",
              "      <td>0.706696</td>\n",
              "      <td>[[9662, 9748], [4164, 45177]]</td>\n",
              "    </tr>\n",
              "    <tr>\n",
              "      <th>3</th>\n",
              "      <td>LightGBM Classifier</td>\n",
              "      <td>Initial Classification</td>\n",
              "      <td>0.798883</td>\n",
              "      <td>0.710803</td>\n",
              "      <td>0.689259</td>\n",
              "      <td>[[8491, 10919], [2908, 46433]]</td>\n",
              "    </tr>\n",
              "    <tr>\n",
              "      <th>4</th>\n",
              "      <td>CatBoost Classifier</td>\n",
              "      <td>Initial Classification</td>\n",
              "      <td>0.802650</td>\n",
              "      <td>0.723046</td>\n",
              "      <td>0.702369</td>\n",
              "      <td>[[9162, 10248], [3320, 46021]]</td>\n",
              "    </tr>\n",
              "    <tr>\n",
              "      <th>5</th>\n",
              "      <td>SGD Classifier</td>\n",
              "      <td>Initial Classification</td>\n",
              "      <td>0.637765</td>\n",
              "      <td>0.577579</td>\n",
              "      <td>0.584151</td>\n",
              "      <td>[[8948, 10462], [14442, 34899]]</td>\n",
              "    </tr>\n",
              "    <tr>\n",
              "      <th>6</th>\n",
              "      <td>Extra Trees Classifier</td>\n",
              "      <td>Initial Classification</td>\n",
              "      <td>0.779669</td>\n",
              "      <td>0.696033</td>\n",
              "      <td>0.680232</td>\n",
              "      <td>[[8770, 10640], [4508, 44833]]</td>\n",
              "    </tr>\n",
              "    <tr>\n",
              "      <th>7</th>\n",
              "      <td>Gaussian Naive Bayes</td>\n",
              "      <td>Initial Classification</td>\n",
              "      <td>0.689183</td>\n",
              "      <td>0.611430</td>\n",
              "      <td>0.610066</td>\n",
              "      <td>[[8314, 11096], [10273, 39068]]</td>\n",
              "    </tr>\n",
              "  </tbody>\n",
              "</table>\n",
              "</div>\n",
              "    <div class=\"colab-df-buttons\">\n",
              "\n",
              "  <div class=\"colab-df-container\">\n",
              "    <button class=\"colab-df-convert\" onclick=\"convertToInteractive('df-686fd321-d44d-4f62-bd0c-1858fbbe5c35')\"\n",
              "            title=\"Convert this dataframe to an interactive table.\"\n",
              "            style=\"display:none;\">\n",
              "\n",
              "  <svg xmlns=\"http://www.w3.org/2000/svg\" height=\"24px\" viewBox=\"0 -960 960 960\">\n",
              "    <path d=\"M120-120v-720h720v720H120Zm60-500h600v-160H180v160Zm220 220h160v-160H400v160Zm0 220h160v-160H400v160ZM180-400h160v-160H180v160Zm440 0h160v-160H620v160ZM180-180h160v-160H180v160Zm440 0h160v-160H620v160Z\"/>\n",
              "  </svg>\n",
              "    </button>\n",
              "\n",
              "  <style>\n",
              "    .colab-df-container {\n",
              "      display:flex;\n",
              "      gap: 12px;\n",
              "    }\n",
              "\n",
              "    .colab-df-convert {\n",
              "      background-color: #E8F0FE;\n",
              "      border: none;\n",
              "      border-radius: 50%;\n",
              "      cursor: pointer;\n",
              "      display: none;\n",
              "      fill: #1967D2;\n",
              "      height: 32px;\n",
              "      padding: 0 0 0 0;\n",
              "      width: 32px;\n",
              "    }\n",
              "\n",
              "    .colab-df-convert:hover {\n",
              "      background-color: #E2EBFA;\n",
              "      box-shadow: 0px 1px 2px rgba(60, 64, 67, 0.3), 0px 1px 3px 1px rgba(60, 64, 67, 0.15);\n",
              "      fill: #174EA6;\n",
              "    }\n",
              "\n",
              "    .colab-df-buttons div {\n",
              "      margin-bottom: 4px;\n",
              "    }\n",
              "\n",
              "    [theme=dark] .colab-df-convert {\n",
              "      background-color: #3B4455;\n",
              "      fill: #D2E3FC;\n",
              "    }\n",
              "\n",
              "    [theme=dark] .colab-df-convert:hover {\n",
              "      background-color: #434B5C;\n",
              "      box-shadow: 0px 1px 3px 1px rgba(0, 0, 0, 0.15);\n",
              "      filter: drop-shadow(0px 1px 2px rgba(0, 0, 0, 0.3));\n",
              "      fill: #FFFFFF;\n",
              "    }\n",
              "  </style>\n",
              "\n",
              "    <script>\n",
              "      const buttonEl =\n",
              "        document.querySelector('#df-686fd321-d44d-4f62-bd0c-1858fbbe5c35 button.colab-df-convert');\n",
              "      buttonEl.style.display =\n",
              "        google.colab.kernel.accessAllowed ? 'block' : 'none';\n",
              "\n",
              "      async function convertToInteractive(key) {\n",
              "        const element = document.querySelector('#df-686fd321-d44d-4f62-bd0c-1858fbbe5c35');\n",
              "        const dataTable =\n",
              "          await google.colab.kernel.invokeFunction('convertToInteractive',\n",
              "                                                    [key], {});\n",
              "        if (!dataTable) return;\n",
              "\n",
              "        const docLinkHtml = 'Like what you see? Visit the ' +\n",
              "          '<a target=\"_blank\" href=https://colab.research.google.com/notebooks/data_table.ipynb>data table notebook</a>'\n",
              "          + ' to learn more about interactive tables.';\n",
              "        element.innerHTML = '';\n",
              "        dataTable['output_type'] = 'display_data';\n",
              "        await google.colab.output.renderOutput(dataTable, element);\n",
              "        const docLink = document.createElement('div');\n",
              "        docLink.innerHTML = docLinkHtml;\n",
              "        element.appendChild(docLink);\n",
              "      }\n",
              "    </script>\n",
              "  </div>\n",
              "\n",
              "\n",
              "<div id=\"df-dccf0b56-d091-44a2-9b9c-027c0aa39737\">\n",
              "  <button class=\"colab-df-quickchart\" onclick=\"quickchart('df-dccf0b56-d091-44a2-9b9c-027c0aa39737')\"\n",
              "            title=\"Suggest charts\"\n",
              "            style=\"display:none;\">\n",
              "\n",
              "<svg xmlns=\"http://www.w3.org/2000/svg\" height=\"24px\"viewBox=\"0 0 24 24\"\n",
              "     width=\"24px\">\n",
              "    <g>\n",
              "        <path d=\"M19 3H5c-1.1 0-2 .9-2 2v14c0 1.1.9 2 2 2h14c1.1 0 2-.9 2-2V5c0-1.1-.9-2-2-2zM9 17H7v-7h2v7zm4 0h-2V7h2v10zm4 0h-2v-4h2v4z\"/>\n",
              "    </g>\n",
              "</svg>\n",
              "  </button>\n",
              "\n",
              "<style>\n",
              "  .colab-df-quickchart {\n",
              "      --bg-color: #E8F0FE;\n",
              "      --fill-color: #1967D2;\n",
              "      --hover-bg-color: #E2EBFA;\n",
              "      --hover-fill-color: #174EA6;\n",
              "      --disabled-fill-color: #AAA;\n",
              "      --disabled-bg-color: #DDD;\n",
              "  }\n",
              "\n",
              "  [theme=dark] .colab-df-quickchart {\n",
              "      --bg-color: #3B4455;\n",
              "      --fill-color: #D2E3FC;\n",
              "      --hover-bg-color: #434B5C;\n",
              "      --hover-fill-color: #FFFFFF;\n",
              "      --disabled-bg-color: #3B4455;\n",
              "      --disabled-fill-color: #666;\n",
              "  }\n",
              "\n",
              "  .colab-df-quickchart {\n",
              "    background-color: var(--bg-color);\n",
              "    border: none;\n",
              "    border-radius: 50%;\n",
              "    cursor: pointer;\n",
              "    display: none;\n",
              "    fill: var(--fill-color);\n",
              "    height: 32px;\n",
              "    padding: 0;\n",
              "    width: 32px;\n",
              "  }\n",
              "\n",
              "  .colab-df-quickchart:hover {\n",
              "    background-color: var(--hover-bg-color);\n",
              "    box-shadow: 0 1px 2px rgba(60, 64, 67, 0.3), 0 1px 3px 1px rgba(60, 64, 67, 0.15);\n",
              "    fill: var(--button-hover-fill-color);\n",
              "  }\n",
              "\n",
              "  .colab-df-quickchart-complete:disabled,\n",
              "  .colab-df-quickchart-complete:disabled:hover {\n",
              "    background-color: var(--disabled-bg-color);\n",
              "    fill: var(--disabled-fill-color);\n",
              "    box-shadow: none;\n",
              "  }\n",
              "\n",
              "  .colab-df-spinner {\n",
              "    border: 2px solid var(--fill-color);\n",
              "    border-color: transparent;\n",
              "    border-bottom-color: var(--fill-color);\n",
              "    animation:\n",
              "      spin 1s steps(1) infinite;\n",
              "  }\n",
              "\n",
              "  @keyframes spin {\n",
              "    0% {\n",
              "      border-color: transparent;\n",
              "      border-bottom-color: var(--fill-color);\n",
              "      border-left-color: var(--fill-color);\n",
              "    }\n",
              "    20% {\n",
              "      border-color: transparent;\n",
              "      border-left-color: var(--fill-color);\n",
              "      border-top-color: var(--fill-color);\n",
              "    }\n",
              "    30% {\n",
              "      border-color: transparent;\n",
              "      border-left-color: var(--fill-color);\n",
              "      border-top-color: var(--fill-color);\n",
              "      border-right-color: var(--fill-color);\n",
              "    }\n",
              "    40% {\n",
              "      border-color: transparent;\n",
              "      border-right-color: var(--fill-color);\n",
              "      border-top-color: var(--fill-color);\n",
              "    }\n",
              "    60% {\n",
              "      border-color: transparent;\n",
              "      border-right-color: var(--fill-color);\n",
              "    }\n",
              "    80% {\n",
              "      border-color: transparent;\n",
              "      border-right-color: var(--fill-color);\n",
              "      border-bottom-color: var(--fill-color);\n",
              "    }\n",
              "    90% {\n",
              "      border-color: transparent;\n",
              "      border-bottom-color: var(--fill-color);\n",
              "    }\n",
              "  }\n",
              "</style>\n",
              "\n",
              "  <script>\n",
              "    async function quickchart(key) {\n",
              "      const quickchartButtonEl =\n",
              "        document.querySelector('#' + key + ' button');\n",
              "      quickchartButtonEl.disabled = true;  // To prevent multiple clicks.\n",
              "      quickchartButtonEl.classList.add('colab-df-spinner');\n",
              "      try {\n",
              "        const charts = await google.colab.kernel.invokeFunction(\n",
              "            'suggestCharts', [key], {});\n",
              "      } catch (error) {\n",
              "        console.error('Error during call to suggestCharts:', error);\n",
              "      }\n",
              "      quickchartButtonEl.classList.remove('colab-df-spinner');\n",
              "      quickchartButtonEl.classList.add('colab-df-quickchart-complete');\n",
              "    }\n",
              "    (() => {\n",
              "      let quickchartButtonEl =\n",
              "        document.querySelector('#df-dccf0b56-d091-44a2-9b9c-027c0aa39737 button');\n",
              "      quickchartButtonEl.style.display =\n",
              "        google.colab.kernel.accessAllowed ? 'block' : 'none';\n",
              "    })();\n",
              "  </script>\n",
              "</div>\n",
              "\n",
              "  <div id=\"id_18ea27c4-14fe-4d64-a338-2a682380e8ba\">\n",
              "    <style>\n",
              "      .colab-df-generate {\n",
              "        background-color: #E8F0FE;\n",
              "        border: none;\n",
              "        border-radius: 50%;\n",
              "        cursor: pointer;\n",
              "        display: none;\n",
              "        fill: #1967D2;\n",
              "        height: 32px;\n",
              "        padding: 0 0 0 0;\n",
              "        width: 32px;\n",
              "      }\n",
              "\n",
              "      .colab-df-generate:hover {\n",
              "        background-color: #E2EBFA;\n",
              "        box-shadow: 0px 1px 2px rgba(60, 64, 67, 0.3), 0px 1px 3px 1px rgba(60, 64, 67, 0.15);\n",
              "        fill: #174EA6;\n",
              "      }\n",
              "\n",
              "      [theme=dark] .colab-df-generate {\n",
              "        background-color: #3B4455;\n",
              "        fill: #D2E3FC;\n",
              "      }\n",
              "\n",
              "      [theme=dark] .colab-df-generate:hover {\n",
              "        background-color: #434B5C;\n",
              "        box-shadow: 0px 1px 3px 1px rgba(0, 0, 0, 0.15);\n",
              "        filter: drop-shadow(0px 1px 2px rgba(0, 0, 0, 0.3));\n",
              "        fill: #FFFFFF;\n",
              "      }\n",
              "    </style>\n",
              "    <button class=\"colab-df-generate\" onclick=\"generateWithVariable('results_df')\"\n",
              "            title=\"Generate code using this dataframe.\"\n",
              "            style=\"display:none;\">\n",
              "\n",
              "  <svg xmlns=\"http://www.w3.org/2000/svg\" height=\"24px\"viewBox=\"0 0 24 24\"\n",
              "       width=\"24px\">\n",
              "    <path d=\"M7,19H8.4L18.45,9,17,7.55,7,17.6ZM5,21V16.75L18.45,3.32a2,2,0,0,1,2.83,0l1.4,1.43a1.91,1.91,0,0,1,.58,1.4,1.91,1.91,0,0,1-.58,1.4L9.25,21ZM18.45,9,17,7.55Zm-12,3A5.31,5.31,0,0,0,4.9,8.1,5.31,5.31,0,0,0,1,6.5,5.31,5.31,0,0,0,4.9,4.9,5.31,5.31,0,0,0,6.5,1,5.31,5.31,0,0,0,8.1,4.9,5.31,5.31,0,0,0,12,6.5,5.46,5.46,0,0,0,6.5,12Z\"/>\n",
              "  </svg>\n",
              "    </button>\n",
              "    <script>\n",
              "      (() => {\n",
              "      const buttonEl =\n",
              "        document.querySelector('#id_18ea27c4-14fe-4d64-a338-2a682380e8ba button.colab-df-generate');\n",
              "      buttonEl.style.display =\n",
              "        google.colab.kernel.accessAllowed ? 'block' : 'none';\n",
              "\n",
              "      buttonEl.onclick = () => {\n",
              "        google.colab.notebook.generateWithVariable('results_df');\n",
              "      }\n",
              "      })();\n",
              "    </script>\n",
              "  </div>\n",
              "\n",
              "    </div>\n",
              "  </div>\n"
            ],
            "text/plain": [
              "                    Model              Experiment  Accuracy  F1 Score  \\\n",
              "0     Logistic Regression  Initial Classification  0.758985  0.628170   \n",
              "1     K-Nearest Neighbors  Initial Classification  0.758025  0.675907   \n",
              "2      XGBoost Classifier  Initial Classification  0.797647  0.723995   \n",
              "3     LightGBM Classifier  Initial Classification  0.798883  0.710803   \n",
              "4     CatBoost Classifier  Initial Classification  0.802650  0.723046   \n",
              "5          SGD Classifier  Initial Classification  0.637765  0.577579   \n",
              "6  Extra Trees Classifier  Initial Classification  0.779669  0.696033   \n",
              "7    Gaussian Naive Bayes  Initial Classification  0.689183  0.611430   \n",
              "\n",
              "   ROC AUC Score                 Confusion Matrix  \n",
              "0       0.617865   [[5701, 13709], [2861, 46480]]  \n",
              "1       0.664904   [[8754, 10656], [5980, 43361]]  \n",
              "2       0.706696    [[9662, 9748], [4164, 45177]]  \n",
              "3       0.689259   [[8491, 10919], [2908, 46433]]  \n",
              "4       0.702369   [[9162, 10248], [3320, 46021]]  \n",
              "5       0.584151  [[8948, 10462], [14442, 34899]]  \n",
              "6       0.680232   [[8770, 10640], [4508, 44833]]  \n",
              "7       0.610066  [[8314, 11096], [10273, 39068]]  "
            ]
          },
          "execution_count": 226,
          "metadata": {},
          "output_type": "execute_result"
        }
      ],
      "source": [
        "# Assuming X and y are defined and properly prepared as your feature set and labels\n",
        "results_df = evaluate_classification(X, y, experiment_name='Initial Classification', results_df=None)\n",
        "results_df"
      ]
    },
    {
      "cell_type": "code",
      "execution_count": null,
      "metadata": {
        "id": "Z8vpoINANXuY"
      },
      "outputs": [],
      "source": [
        "results_df"
      ]
    },
    {
      "cell_type": "code",
      "execution_count": null,
      "metadata": {
        "id": "swXitrgo7QLB"
      },
      "outputs": [],
      "source": []
    },
    {
      "cell_type": "code",
      "execution_count": null,
      "metadata": {
        "id": "guHXbZHa7QLB"
      },
      "outputs": [],
      "source": []
    },
    {
      "cell_type": "code",
      "execution_count": null,
      "metadata": {
        "id": "wPw2OK5t7QLB",
        "outputId": "87e4a491-b54b-495b-917a-2229c125a3bc"
      },
      "outputs": [
        {
          "data": {
            "text/html": [
              "<div>\n",
              "<style scoped>\n",
              "    .dataframe tbody tr th:only-of-type {\n",
              "        vertical-align: middle;\n",
              "    }\n",
              "\n",
              "    .dataframe tbody tr th {\n",
              "        vertical-align: top;\n",
              "    }\n",
              "\n",
              "    .dataframe thead th {\n",
              "        text-align: right;\n",
              "    }\n",
              "</style>\n",
              "<table border=\"1\" class=\"dataframe\">\n",
              "  <thead>\n",
              "    <tr style=\"text-align: right;\">\n",
              "      <th></th>\n",
              "      <th>safetyreportid</th>\n",
              "      <th>transmissiondate</th>\n",
              "      <th>receivedate</th>\n",
              "      <th>receiptdate</th>\n",
              "      <th>drugstartdate</th>\n",
              "      <th>drugenddate</th>\n",
              "      <th>serious</th>\n",
              "      <th>patientonsetage</th>\n",
              "      <th>patientsex</th>\n",
              "      <th>reactionmeddrapt</th>\n",
              "      <th>...</th>\n",
              "      <th>drugseparatedosagenumb</th>\n",
              "      <th>drugintervaldosageunitnumb</th>\n",
              "      <th>drugintervaldosagedefinition</th>\n",
              "      <th>drugcumulativedosagenumb</th>\n",
              "      <th>drugcumulativedosageunit</th>\n",
              "      <th>drugadditional</th>\n",
              "      <th>drugrecurrence</th>\n",
              "      <th>drugrecuraction</th>\n",
              "      <th>drugtreatmentduration</th>\n",
              "      <th>drugtreatmentdurationunit</th>\n",
              "    </tr>\n",
              "  </thead>\n",
              "  <tbody>\n",
              "    <tr>\n",
              "      <th>235884</th>\n",
              "      <td>3759885.0</td>\n",
              "      <td>20150721.0</td>\n",
              "      <td>20020131.0</td>\n",
              "      <td>20150218.0</td>\n",
              "      <td>20000208.0</td>\n",
              "      <td>20000208.0</td>\n",
              "      <td>1.0</td>\n",
              "      <td>56.0</td>\n",
              "      <td>1.0</td>\n",
              "      <td>Human herpesvirus 8 infection</td>\n",
              "      <td>...</td>\n",
              "      <td>1.0</td>\n",
              "      <td>1.0</td>\n",
              "      <td>804.0</td>\n",
              "      <td>NaN</td>\n",
              "      <td>NaN</td>\n",
              "      <td>NaN</td>\n",
              "      <td>NaN</td>\n",
              "      <td>NaN</td>\n",
              "      <td>NaN</td>\n",
              "      <td>NaN</td>\n",
              "    </tr>\n",
              "    <tr>\n",
              "      <th>5701020</th>\n",
              "      <td>3759885.0</td>\n",
              "      <td>20140414.0</td>\n",
              "      <td>20020131.0</td>\n",
              "      <td>20130612.0</td>\n",
              "      <td>20000208.0</td>\n",
              "      <td>20020116.0</td>\n",
              "      <td>1.0</td>\n",
              "      <td>56.0</td>\n",
              "      <td>1.0</td>\n",
              "      <td>Gastric polyps</td>\n",
              "      <td>...</td>\n",
              "      <td>NaN</td>\n",
              "      <td>NaN</td>\n",
              "      <td>NaN</td>\n",
              "      <td>NaN</td>\n",
              "      <td>NaN</td>\n",
              "      <td>NaN</td>\n",
              "      <td>NaN</td>\n",
              "      <td>NaN</td>\n",
              "      <td>NaN</td>\n",
              "      <td>NaN</td>\n",
              "    </tr>\n",
              "    <tr>\n",
              "      <th>912300</th>\n",
              "      <td>3948114.0</td>\n",
              "      <td>20160305.0</td>\n",
              "      <td>20030528.0</td>\n",
              "      <td>20151229.0</td>\n",
              "      <td>20020514.0</td>\n",
              "      <td>NaN</td>\n",
              "      <td>1.0</td>\n",
              "      <td>0.0</td>\n",
              "      <td>2.0</td>\n",
              "      <td>Foetal exposure during pregnancy</td>\n",
              "      <td>...</td>\n",
              "      <td>1.0</td>\n",
              "      <td>1.0</td>\n",
              "      <td>804.0</td>\n",
              "      <td>NaN</td>\n",
              "      <td>NaN</td>\n",
              "      <td>NaN</td>\n",
              "      <td>NaN</td>\n",
              "      <td>NaN</td>\n",
              "      <td>NaN</td>\n",
              "      <td>NaN</td>\n",
              "    </tr>\n",
              "    <tr>\n",
              "      <th>4342069</th>\n",
              "      <td>3948114.0</td>\n",
              "      <td>20161109.0</td>\n",
              "      <td>20030528.0</td>\n",
              "      <td>20160826.0</td>\n",
              "      <td>20020514.0</td>\n",
              "      <td>NaN</td>\n",
              "      <td>1.0</td>\n",
              "      <td>0.0</td>\n",
              "      <td>2.0</td>\n",
              "      <td>Foetal exposure during pregnancy</td>\n",
              "      <td>...</td>\n",
              "      <td>1.0</td>\n",
              "      <td>1.0</td>\n",
              "      <td>804.0</td>\n",
              "      <td>NaN</td>\n",
              "      <td>NaN</td>\n",
              "      <td>3.0</td>\n",
              "      <td>NaN</td>\n",
              "      <td>NaN</td>\n",
              "      <td>NaN</td>\n",
              "      <td>NaN</td>\n",
              "    </tr>\n",
              "    <tr>\n",
              "      <th>4505534</th>\n",
              "      <td>4083807.0</td>\n",
              "      <td>20160526.0</td>\n",
              "      <td>20040209.0</td>\n",
              "      <td>20160323.0</td>\n",
              "      <td>2000.0</td>\n",
              "      <td>NaN</td>\n",
              "      <td>1.0</td>\n",
              "      <td>NaN</td>\n",
              "      <td>2.0</td>\n",
              "      <td>Papilloedema</td>\n",
              "      <td>...</td>\n",
              "      <td>1.0</td>\n",
              "      <td>1.0</td>\n",
              "      <td>804.0</td>\n",
              "      <td>NaN</td>\n",
              "      <td>NaN</td>\n",
              "      <td>NaN</td>\n",
              "      <td>NaN</td>\n",
              "      <td>NaN</td>\n",
              "      <td>NaN</td>\n",
              "      <td>NaN</td>\n",
              "    </tr>\n",
              "    <tr>\n",
              "      <th>...</th>\n",
              "      <td>...</td>\n",
              "      <td>...</td>\n",
              "      <td>...</td>\n",
              "      <td>...</td>\n",
              "      <td>...</td>\n",
              "      <td>...</td>\n",
              "      <td>...</td>\n",
              "      <td>...</td>\n",
              "      <td>...</td>\n",
              "      <td>...</td>\n",
              "      <td>...</td>\n",
              "      <td>...</td>\n",
              "      <td>...</td>\n",
              "      <td>...</td>\n",
              "      <td>...</td>\n",
              "      <td>...</td>\n",
              "      <td>...</td>\n",
              "      <td>...</td>\n",
              "      <td>...</td>\n",
              "      <td>...</td>\n",
              "      <td>...</td>\n",
              "    </tr>\n",
              "    <tr>\n",
              "      <th>2532340</th>\n",
              "      <td>14027791.0</td>\n",
              "      <td>20180321.0</td>\n",
              "      <td>20170929.0</td>\n",
              "      <td>20171214.0</td>\n",
              "      <td>20120127.0</td>\n",
              "      <td>2015.0</td>\n",
              "      <td>1.0</td>\n",
              "      <td>65.0</td>\n",
              "      <td>1.0</td>\n",
              "      <td>Lower gastrointestinal haemorrhage</td>\n",
              "      <td>...</td>\n",
              "      <td>2.0</td>\n",
              "      <td>1.0</td>\n",
              "      <td>804.0</td>\n",
              "      <td>NaN</td>\n",
              "      <td>NaN</td>\n",
              "      <td>3.0</td>\n",
              "      <td>NaN</td>\n",
              "      <td>NaN</td>\n",
              "      <td>NaN</td>\n",
              "      <td>NaN</td>\n",
              "    </tr>\n",
              "    <tr>\n",
              "      <th>1748271</th>\n",
              "      <td>14028370.0</td>\n",
              "      <td>20171128.0</td>\n",
              "      <td>20170930.0</td>\n",
              "      <td>20170930.0</td>\n",
              "      <td>20170803.0</td>\n",
              "      <td>NaN</td>\n",
              "      <td>1.0</td>\n",
              "      <td>46.0</td>\n",
              "      <td>2.0</td>\n",
              "      <td>Arthritis</td>\n",
              "      <td>...</td>\n",
              "      <td>1.0</td>\n",
              "      <td>1.0</td>\n",
              "      <td>804.0</td>\n",
              "      <td>NaN</td>\n",
              "      <td>NaN</td>\n",
              "      <td>NaN</td>\n",
              "      <td>NaN</td>\n",
              "      <td>NaN</td>\n",
              "      <td>NaN</td>\n",
              "      <td>NaN</td>\n",
              "    </tr>\n",
              "    <tr>\n",
              "      <th>2450161</th>\n",
              "      <td>14028370.0</td>\n",
              "      <td>20180321.0</td>\n",
              "      <td>20170930.0</td>\n",
              "      <td>20171218.0</td>\n",
              "      <td>20170803.0</td>\n",
              "      <td>NaN</td>\n",
              "      <td>1.0</td>\n",
              "      <td>46.0</td>\n",
              "      <td>2.0</td>\n",
              "      <td>Arthritis</td>\n",
              "      <td>...</td>\n",
              "      <td>2.0</td>\n",
              "      <td>1.0</td>\n",
              "      <td>804.0</td>\n",
              "      <td>NaN</td>\n",
              "      <td>NaN</td>\n",
              "      <td>1.0</td>\n",
              "      <td>NaN</td>\n",
              "      <td>NaN</td>\n",
              "      <td>NaN</td>\n",
              "      <td>NaN</td>\n",
              "    </tr>\n",
              "    <tr>\n",
              "      <th>1704654</th>\n",
              "      <td>14030122.0</td>\n",
              "      <td>20171128.0</td>\n",
              "      <td>20170930.0</td>\n",
              "      <td>20170930.0</td>\n",
              "      <td>20170626.0</td>\n",
              "      <td>20170712.0</td>\n",
              "      <td>1.0</td>\n",
              "      <td>NaN</td>\n",
              "      <td>NaN</td>\n",
              "      <td>Fatigue</td>\n",
              "      <td>...</td>\n",
              "      <td>NaN</td>\n",
              "      <td>NaN</td>\n",
              "      <td>NaN</td>\n",
              "      <td>NaN</td>\n",
              "      <td>NaN</td>\n",
              "      <td>1.0</td>\n",
              "      <td>NaN</td>\n",
              "      <td>NaN</td>\n",
              "      <td>NaN</td>\n",
              "      <td>NaN</td>\n",
              "    </tr>\n",
              "    <tr>\n",
              "      <th>2409365</th>\n",
              "      <td>14030122.0</td>\n",
              "      <td>20180321.0</td>\n",
              "      <td>20170930.0</td>\n",
              "      <td>20171218.0</td>\n",
              "      <td>20170626.0</td>\n",
              "      <td>20170712.0</td>\n",
              "      <td>1.0</td>\n",
              "      <td>NaN</td>\n",
              "      <td>NaN</td>\n",
              "      <td>Fatigue</td>\n",
              "      <td>...</td>\n",
              "      <td>NaN</td>\n",
              "      <td>NaN</td>\n",
              "      <td>NaN</td>\n",
              "      <td>NaN</td>\n",
              "      <td>NaN</td>\n",
              "      <td>1.0</td>\n",
              "      <td>NaN</td>\n",
              "      <td>NaN</td>\n",
              "      <td>NaN</td>\n",
              "      <td>NaN</td>\n",
              "    </tr>\n",
              "  </tbody>\n",
              "</table>\n",
              "<p>134726 rows × 36 columns</p>\n",
              "</div>"
            ],
            "text/plain": [
              "         safetyreportid  transmissiondate  receivedate  receiptdate  \\\n",
              "235884        3759885.0        20150721.0   20020131.0   20150218.0   \n",
              "5701020       3759885.0        20140414.0   20020131.0   20130612.0   \n",
              "912300        3948114.0        20160305.0   20030528.0   20151229.0   \n",
              "4342069       3948114.0        20161109.0   20030528.0   20160826.0   \n",
              "4505534       4083807.0        20160526.0   20040209.0   20160323.0   \n",
              "...                 ...               ...          ...          ...   \n",
              "2532340      14027791.0        20180321.0   20170929.0   20171214.0   \n",
              "1748271      14028370.0        20171128.0   20170930.0   20170930.0   \n",
              "2450161      14028370.0        20180321.0   20170930.0   20171218.0   \n",
              "1704654      14030122.0        20171128.0   20170930.0   20170930.0   \n",
              "2409365      14030122.0        20180321.0   20170930.0   20171218.0   \n",
              "\n",
              "         drugstartdate  drugenddate  serious patientonsetage  patientsex  \\\n",
              "235884      20000208.0   20000208.0      1.0            56.0         1.0   \n",
              "5701020     20000208.0   20020116.0      1.0            56.0         1.0   \n",
              "912300      20020514.0          NaN      1.0             0.0         2.0   \n",
              "4342069     20020514.0          NaN      1.0             0.0         2.0   \n",
              "4505534         2000.0          NaN      1.0             NaN         2.0   \n",
              "...                ...          ...      ...             ...         ...   \n",
              "2532340     20120127.0       2015.0      1.0            65.0         1.0   \n",
              "1748271     20170803.0          NaN      1.0            46.0         2.0   \n",
              "2450161     20170803.0          NaN      1.0            46.0         2.0   \n",
              "1704654     20170626.0   20170712.0      1.0             NaN         NaN   \n",
              "2409365     20170626.0   20170712.0      1.0             NaN         NaN   \n",
              "\n",
              "                           reactionmeddrapt  ...  drugseparatedosagenumb  \\\n",
              "235884        Human herpesvirus 8 infection  ...                     1.0   \n",
              "5701020                      Gastric polyps  ...                     NaN   \n",
              "912300     Foetal exposure during pregnancy  ...                     1.0   \n",
              "4342069    Foetal exposure during pregnancy  ...                     1.0   \n",
              "4505534                        Papilloedema  ...                     1.0   \n",
              "...                                     ...  ...                     ...   \n",
              "2532340  Lower gastrointestinal haemorrhage  ...                     2.0   \n",
              "1748271                           Arthritis  ...                     1.0   \n",
              "2450161                           Arthritis  ...                     2.0   \n",
              "1704654                             Fatigue  ...                     NaN   \n",
              "2409365                             Fatigue  ...                     NaN   \n",
              "\n",
              "        drugintervaldosageunitnumb  drugintervaldosagedefinition  \\\n",
              "235884                         1.0                         804.0   \n",
              "5701020                        NaN                           NaN   \n",
              "912300                         1.0                         804.0   \n",
              "4342069                        1.0                         804.0   \n",
              "4505534                        1.0                         804.0   \n",
              "...                            ...                           ...   \n",
              "2532340                        1.0                         804.0   \n",
              "1748271                        1.0                         804.0   \n",
              "2450161                        1.0                         804.0   \n",
              "1704654                        NaN                           NaN   \n",
              "2409365                        NaN                           NaN   \n",
              "\n",
              "        drugcumulativedosagenumb drugcumulativedosageunit  drugadditional  \\\n",
              "235884                       NaN                      NaN             NaN   \n",
              "5701020                      NaN                      NaN             NaN   \n",
              "912300                       NaN                      NaN             NaN   \n",
              "4342069                      NaN                      NaN             3.0   \n",
              "4505534                      NaN                      NaN             NaN   \n",
              "...                          ...                      ...             ...   \n",
              "2532340                      NaN                      NaN             3.0   \n",
              "1748271                      NaN                      NaN             NaN   \n",
              "2450161                      NaN                      NaN             1.0   \n",
              "1704654                      NaN                      NaN             1.0   \n",
              "2409365                      NaN                      NaN             1.0   \n",
              "\n",
              "        drugrecurrence drugrecuraction drugtreatmentduration  \\\n",
              "235884             NaN             NaN                   NaN   \n",
              "5701020            NaN             NaN                   NaN   \n",
              "912300             NaN             NaN                   NaN   \n",
              "4342069            NaN             NaN                   NaN   \n",
              "4505534            NaN             NaN                   NaN   \n",
              "...                ...             ...                   ...   \n",
              "2532340            NaN             NaN                   NaN   \n",
              "1748271            NaN             NaN                   NaN   \n",
              "2450161            NaN             NaN                   NaN   \n",
              "1704654            NaN             NaN                   NaN   \n",
              "2409365            NaN             NaN                   NaN   \n",
              "\n",
              "         drugtreatmentdurationunit  \n",
              "235884                         NaN  \n",
              "5701020                        NaN  \n",
              "912300                         NaN  \n",
              "4342069                        NaN  \n",
              "4505534                        NaN  \n",
              "...                            ...  \n",
              "2532340                        NaN  \n",
              "1748271                        NaN  \n",
              "2450161                        NaN  \n",
              "1704654                        NaN  \n",
              "2409365                        NaN  \n",
              "\n",
              "[134726 rows x 36 columns]"
            ]
          },
          "execution_count": 116,
          "metadata": {},
          "output_type": "execute_result"
        }
      ],
      "source": [
        "filtered_faers_data[[\n",
        "        'safetyreportid',  'transmissiondate', 'receivedate',  'receiptdate','drugstartdate','drugenddate',  'serious',\n",
        " 'patientonsetage', 'patientsex', 'reactionmeddrapt', 'reactionoutcome',\n",
        "        'drug', 'drugcharacterization', 'medicinalproduct', 'drugdosagetext',\n",
        "       'drugadministrationroute', 'drugindication',\n",
        "        'activesubstance', 'activesubstancename',\n",
        "        'actiondrug', 'summary',\n",
        "        'narrativeincludeclinical',\n",
        "      'drugrecurreadministration',\n",
        "        'literaturereference', 'patientagegroup',\n",
        "        'patientweight', 'drugseparatedosagenumb', 'drugintervaldosageunitnumb',\n",
        "        'drugintervaldosagedefinition',\n",
        "         'drugcumulativedosagenumb',\n",
        "        'drugcumulativedosageunit', 'drugadditional',\n",
        "        'drugrecurrence', 'drugrecuraction',\n",
        "        'drugtreatmentduration', 'drugtreatmentdurationunit']]"
      ]
    },
    {
      "cell_type": "code",
      "execution_count": null,
      "metadata": {
        "id": "cnMBYs7S7QLB",
        "outputId": "16623c0b-a79e-4a68-f23d-a4ab7457f743"
      },
      "outputs": [
        {
          "name": "stderr",
          "output_type": "stream",
          "text": [
            "C:\\Users\\ezzmo\\AppData\\Local\\Temp\\ipykernel_61256\\659813366.py:8: SettingWithCopyWarning: \n",
            "A value is trying to be set on a copy of a slice from a DataFrame\n",
            "\n",
            "See the caveats in the documentation: https://pandas.pydata.org/pandas-docs/stable/user_guide/indexing.html#returning-a-view-versus-a-copy\n",
            "  df.dropna(subset=['safetyreportid', 'medicinalproduct'], inplace=True)\n"
          ]
        }
      ],
      "source": [
        "import pandas as pd\n",
        "\n",
        "\n",
        "# Selecting the relevant columns\n",
        "df = faers_data[['safetyreportid', 'medicinalproduct']]\n",
        "\n",
        "# Drop any rows with missing data in these columns\n",
        "df.dropna(subset=['safetyreportid', 'medicinalproduct'], inplace=True)\n",
        "\n",
        "# Group by safetyreportid and remove duplicates within each group to ensure uniqueness\n",
        "df_unique = df.drop_duplicates(subset=['safetyreportid', 'medicinalproduct'])\n",
        "\n",
        "# Create a DataFrame to count the drugs per safety report ID\n",
        "drug_counts = df_unique.groupby('safetyreportid').nunique()\n",
        "\n",
        "# Filter out the safetyreportid with less than three unique drugs\n",
        "valid_reports = drug_counts[drug_counts['medicinalproduct'] >= 2].index\n",
        "\n",
        "# Filter the original dataframe to include only valid reports\n",
        "filtered_df = df[df['safetyreportid'].isin(valid_reports)]"
      ]
    },
    {
      "cell_type": "code",
      "execution_count": null,
      "metadata": {
        "id": "P0adTrVb7QLC",
        "outputId": "3f5737b5-fa68-4c18-f1cd-6b123d8e58a7"
      },
      "outputs": [
        {
          "data": {
            "text/plain": [
              "(360186, 2)"
            ]
          },
          "execution_count": 54,
          "metadata": {},
          "output_type": "execute_result"
        }
      ],
      "source": [
        "filtered_df.shape"
      ]
    },
    {
      "cell_type": "code",
      "execution_count": null,
      "metadata": {
        "id": "GJzmVyzh7QLC",
        "outputId": "ab6e18ca-06b9-4e0a-dca7-f90581a943f6"
      },
      "outputs": [
        {
          "data": {
            "text/html": [
              "<div>\n",
              "<style scoped>\n",
              "    .dataframe tbody tr th:only-of-type {\n",
              "        vertical-align: middle;\n",
              "    }\n",
              "\n",
              "    .dataframe tbody tr th {\n",
              "        vertical-align: top;\n",
              "    }\n",
              "\n",
              "    .dataframe thead th {\n",
              "        text-align: right;\n",
              "    }\n",
              "</style>\n",
              "<table border=\"1\" class=\"dataframe\">\n",
              "  <thead>\n",
              "    <tr style=\"text-align: right;\">\n",
              "      <th></th>\n",
              "      <th>medicinalproduct</th>\n",
              "    </tr>\n",
              "    <tr>\n",
              "      <th>safetyreportid</th>\n",
              "      <th></th>\n",
              "    </tr>\n",
              "  </thead>\n",
              "  <tbody>\n",
              "    <tr>\n",
              "      <th>3759885.0</th>\n",
              "      <td>2</td>\n",
              "    </tr>\n",
              "    <tr>\n",
              "      <th>3839792.0</th>\n",
              "      <td>2</td>\n",
              "    </tr>\n",
              "    <tr>\n",
              "      <th>3942227.0</th>\n",
              "      <td>2</td>\n",
              "    </tr>\n",
              "    <tr>\n",
              "      <th>3948114.0</th>\n",
              "      <td>2</td>\n",
              "    </tr>\n",
              "    <tr>\n",
              "      <th>3996584.0</th>\n",
              "      <td>2</td>\n",
              "    </tr>\n",
              "    <tr>\n",
              "      <th>...</th>\n",
              "      <td>...</td>\n",
              "    </tr>\n",
              "    <tr>\n",
              "      <th>14027716.0</th>\n",
              "      <td>2</td>\n",
              "    </tr>\n",
              "    <tr>\n",
              "      <th>14027791.0</th>\n",
              "      <td>2</td>\n",
              "    </tr>\n",
              "    <tr>\n",
              "      <th>14028370.0</th>\n",
              "      <td>2</td>\n",
              "    </tr>\n",
              "    <tr>\n",
              "      <th>14028386.0</th>\n",
              "      <td>2</td>\n",
              "    </tr>\n",
              "    <tr>\n",
              "      <th>14030122.0</th>\n",
              "      <td>2</td>\n",
              "    </tr>\n",
              "  </tbody>\n",
              "</table>\n",
              "<p>165069 rows × 1 columns</p>\n",
              "</div>"
            ],
            "text/plain": [
              "                medicinalproduct\n",
              "safetyreportid                  \n",
              "3759885.0                      2\n",
              "3839792.0                      2\n",
              "3942227.0                      2\n",
              "3948114.0                      2\n",
              "3996584.0                      2\n",
              "...                          ...\n",
              "14027716.0                     2\n",
              "14027791.0                     2\n",
              "14028370.0                     2\n",
              "14028386.0                     2\n",
              "14030122.0                     2\n",
              "\n",
              "[165069 rows x 1 columns]"
            ]
          },
          "execution_count": 55,
          "metadata": {},
          "output_type": "execute_result"
        }
      ],
      "source": [
        "drug_counts[drug_counts['medicinalproduct'] >= 2]"
      ]
    },
    {
      "cell_type": "code",
      "execution_count": null,
      "metadata": {
        "id": "fz7DUoJA7QLC"
      },
      "outputs": [],
      "source": []
    },
    {
      "cell_type": "code",
      "execution_count": null,
      "metadata": {
        "id": "9PPtYV8n7QLC",
        "outputId": "a109d701-c372-4202-b0e7-670470d31fc0"
      },
      "outputs": [
        {
          "data": {
            "text/html": [
              "<div>\n",
              "<style scoped>\n",
              "    .dataframe tbody tr th:only-of-type {\n",
              "        vertical-align: middle;\n",
              "    }\n",
              "\n",
              "    .dataframe tbody tr th {\n",
              "        vertical-align: top;\n",
              "    }\n",
              "\n",
              "    .dataframe thead th {\n",
              "        text-align: right;\n",
              "    }\n",
              "</style>\n",
              "<table border=\"1\" class=\"dataframe\">\n",
              "  <thead>\n",
              "    <tr style=\"text-align: right;\">\n",
              "      <th></th>\n",
              "      <th>safetyreportid</th>\n",
              "      <th>transmissiondate</th>\n",
              "      <th>receivedate</th>\n",
              "      <th>receiptdate</th>\n",
              "      <th>drugstartdate</th>\n",
              "      <th>drugenddate</th>\n",
              "      <th>serious</th>\n",
              "      <th>patientonsetage</th>\n",
              "      <th>patientsex</th>\n",
              "      <th>reactionmeddrapt</th>\n",
              "      <th>...</th>\n",
              "      <th>drugseparatedosagenumb</th>\n",
              "      <th>drugintervaldosageunitnumb</th>\n",
              "      <th>drugintervaldosagedefinition</th>\n",
              "      <th>drugcumulativedosagenumb</th>\n",
              "      <th>drugcumulativedosageunit</th>\n",
              "      <th>drugadditional</th>\n",
              "      <th>drugrecurrence</th>\n",
              "      <th>drugrecuraction</th>\n",
              "      <th>drugtreatmentduration</th>\n",
              "      <th>drugtreatmentdurationunit</th>\n",
              "    </tr>\n",
              "  </thead>\n",
              "  <tbody>\n",
              "    <tr>\n",
              "      <th>5701020</th>\n",
              "      <td>3759885.0</td>\n",
              "      <td>20140414.0</td>\n",
              "      <td>20020131.0</td>\n",
              "      <td>20130612.0</td>\n",
              "      <td>20000208.0</td>\n",
              "      <td>20020116.0</td>\n",
              "      <td>1.0</td>\n",
              "      <td>56.0</td>\n",
              "      <td>1.0</td>\n",
              "      <td>Gastric polyps</td>\n",
              "      <td>...</td>\n",
              "      <td>NaN</td>\n",
              "      <td>NaN</td>\n",
              "      <td>NaN</td>\n",
              "      <td>NaN</td>\n",
              "      <td>NaN</td>\n",
              "      <td>NaN</td>\n",
              "      <td>NaN</td>\n",
              "      <td>NaN</td>\n",
              "      <td>NaN</td>\n",
              "      <td>NaN</td>\n",
              "    </tr>\n",
              "    <tr>\n",
              "      <th>235884</th>\n",
              "      <td>3759885.0</td>\n",
              "      <td>20150721.0</td>\n",
              "      <td>20020131.0</td>\n",
              "      <td>20150218.0</td>\n",
              "      <td>20000208.0</td>\n",
              "      <td>20000208.0</td>\n",
              "      <td>1.0</td>\n",
              "      <td>56.0</td>\n",
              "      <td>1.0</td>\n",
              "      <td>Human herpesvirus 8 infection</td>\n",
              "      <td>...</td>\n",
              "      <td>1.0</td>\n",
              "      <td>1.0</td>\n",
              "      <td>804.0</td>\n",
              "      <td>NaN</td>\n",
              "      <td>NaN</td>\n",
              "      <td>NaN</td>\n",
              "      <td>NaN</td>\n",
              "      <td>NaN</td>\n",
              "      <td>NaN</td>\n",
              "      <td>NaN</td>\n",
              "    </tr>\n",
              "    <tr>\n",
              "      <th>4185318</th>\n",
              "      <td>3839792.0</td>\n",
              "      <td>20161109.0</td>\n",
              "      <td>20020918.0</td>\n",
              "      <td>20160825.0</td>\n",
              "      <td>20020218.0</td>\n",
              "      <td>20020215.0</td>\n",
              "      <td>1.0</td>\n",
              "      <td>0.0</td>\n",
              "      <td>2.0</td>\n",
              "      <td>Foetal exposure during pregnancy</td>\n",
              "      <td>...</td>\n",
              "      <td>1.0</td>\n",
              "      <td>1.0</td>\n",
              "      <td>804.0</td>\n",
              "      <td>NaN</td>\n",
              "      <td>NaN</td>\n",
              "      <td>3.0</td>\n",
              "      <td>NaN</td>\n",
              "      <td>NaN</td>\n",
              "      <td>NaN</td>\n",
              "      <td>NaN</td>\n",
              "    </tr>\n",
              "    <tr>\n",
              "      <th>755043</th>\n",
              "      <td>3839792.0</td>\n",
              "      <td>20160305.0</td>\n",
              "      <td>20020918.0</td>\n",
              "      <td>20151211.0</td>\n",
              "      <td>20020710.0</td>\n",
              "      <td>20020710.0</td>\n",
              "      <td>1.0</td>\n",
              "      <td>0.0</td>\n",
              "      <td>2.0</td>\n",
              "      <td>Foetal exposure during pregnancy</td>\n",
              "      <td>...</td>\n",
              "      <td>1.0</td>\n",
              "      <td>1.0</td>\n",
              "      <td>804.0</td>\n",
              "      <td>NaN</td>\n",
              "      <td>NaN</td>\n",
              "      <td>NaN</td>\n",
              "      <td>NaN</td>\n",
              "      <td>NaN</td>\n",
              "      <td>NaN</td>\n",
              "      <td>NaN</td>\n",
              "    </tr>\n",
              "    <tr>\n",
              "      <th>2902791</th>\n",
              "      <td>3839792.0</td>\n",
              "      <td>20130627.0</td>\n",
              "      <td>20020918.0</td>\n",
              "      <td>20121128.0</td>\n",
              "      <td>20020710.0</td>\n",
              "      <td>20020710.0</td>\n",
              "      <td>1.0</td>\n",
              "      <td>1.0</td>\n",
              "      <td>2.0</td>\n",
              "      <td>Cleft palate</td>\n",
              "      <td>...</td>\n",
              "      <td>NaN</td>\n",
              "      <td>NaN</td>\n",
              "      <td>NaN</td>\n",
              "      <td>NaN</td>\n",
              "      <td>NaN</td>\n",
              "      <td>NaN</td>\n",
              "      <td>NaN</td>\n",
              "      <td>NaN</td>\n",
              "      <td>NaN</td>\n",
              "      <td>NaN</td>\n",
              "    </tr>\n",
              "    <tr>\n",
              "      <th>...</th>\n",
              "      <td>...</td>\n",
              "      <td>...</td>\n",
              "      <td>...</td>\n",
              "      <td>...</td>\n",
              "      <td>...</td>\n",
              "      <td>...</td>\n",
              "      <td>...</td>\n",
              "      <td>...</td>\n",
              "      <td>...</td>\n",
              "      <td>...</td>\n",
              "      <td>...</td>\n",
              "      <td>...</td>\n",
              "      <td>...</td>\n",
              "      <td>...</td>\n",
              "      <td>...</td>\n",
              "      <td>...</td>\n",
              "      <td>...</td>\n",
              "      <td>...</td>\n",
              "      <td>...</td>\n",
              "      <td>...</td>\n",
              "      <td>...</td>\n",
              "    </tr>\n",
              "    <tr>\n",
              "      <th>2450161</th>\n",
              "      <td>14028370.0</td>\n",
              "      <td>20180321.0</td>\n",
              "      <td>20170930.0</td>\n",
              "      <td>20171218.0</td>\n",
              "      <td>20170803.0</td>\n",
              "      <td>NaN</td>\n",
              "      <td>1.0</td>\n",
              "      <td>46.0</td>\n",
              "      <td>2.0</td>\n",
              "      <td>Arthritis</td>\n",
              "      <td>...</td>\n",
              "      <td>2.0</td>\n",
              "      <td>1.0</td>\n",
              "      <td>804.0</td>\n",
              "      <td>NaN</td>\n",
              "      <td>NaN</td>\n",
              "      <td>1.0</td>\n",
              "      <td>NaN</td>\n",
              "      <td>NaN</td>\n",
              "      <td>NaN</td>\n",
              "      <td>NaN</td>\n",
              "    </tr>\n",
              "    <tr>\n",
              "      <th>1879932</th>\n",
              "      <td>14028386.0</td>\n",
              "      <td>20171128.0</td>\n",
              "      <td>20170930.0</td>\n",
              "      <td>20170930.0</td>\n",
              "      <td>NaN</td>\n",
              "      <td>NaN</td>\n",
              "      <td>2.0</td>\n",
              "      <td>NaN</td>\n",
              "      <td>2.0</td>\n",
              "      <td>Cough</td>\n",
              "      <td>...</td>\n",
              "      <td>1.0</td>\n",
              "      <td>1.0</td>\n",
              "      <td>802.0</td>\n",
              "      <td>NaN</td>\n",
              "      <td>NaN</td>\n",
              "      <td>3.0</td>\n",
              "      <td>NaN</td>\n",
              "      <td>NaN</td>\n",
              "      <td>NaN</td>\n",
              "      <td>NaN</td>\n",
              "    </tr>\n",
              "    <tr>\n",
              "      <th>2573216</th>\n",
              "      <td>14028386.0</td>\n",
              "      <td>20180321.0</td>\n",
              "      <td>20170930.0</td>\n",
              "      <td>20171204.0</td>\n",
              "      <td>NaN</td>\n",
              "      <td>NaN</td>\n",
              "      <td>2.0</td>\n",
              "      <td>NaN</td>\n",
              "      <td>2.0</td>\n",
              "      <td>Cough</td>\n",
              "      <td>...</td>\n",
              "      <td>1.0</td>\n",
              "      <td>1.0</td>\n",
              "      <td>802.0</td>\n",
              "      <td>NaN</td>\n",
              "      <td>NaN</td>\n",
              "      <td>3.0</td>\n",
              "      <td>NaN</td>\n",
              "      <td>NaN</td>\n",
              "      <td>NaN</td>\n",
              "      <td>NaN</td>\n",
              "    </tr>\n",
              "    <tr>\n",
              "      <th>1704654</th>\n",
              "      <td>14030122.0</td>\n",
              "      <td>20171128.0</td>\n",
              "      <td>20170930.0</td>\n",
              "      <td>20170930.0</td>\n",
              "      <td>20170626.0</td>\n",
              "      <td>20170712.0</td>\n",
              "      <td>1.0</td>\n",
              "      <td>NaN</td>\n",
              "      <td>NaN</td>\n",
              "      <td>Fatigue</td>\n",
              "      <td>...</td>\n",
              "      <td>NaN</td>\n",
              "      <td>NaN</td>\n",
              "      <td>NaN</td>\n",
              "      <td>NaN</td>\n",
              "      <td>NaN</td>\n",
              "      <td>1.0</td>\n",
              "      <td>NaN</td>\n",
              "      <td>NaN</td>\n",
              "      <td>NaN</td>\n",
              "      <td>NaN</td>\n",
              "    </tr>\n",
              "    <tr>\n",
              "      <th>2409365</th>\n",
              "      <td>14030122.0</td>\n",
              "      <td>20180321.0</td>\n",
              "      <td>20170930.0</td>\n",
              "      <td>20171218.0</td>\n",
              "      <td>20170626.0</td>\n",
              "      <td>20170712.0</td>\n",
              "      <td>1.0</td>\n",
              "      <td>NaN</td>\n",
              "      <td>NaN</td>\n",
              "      <td>Fatigue</td>\n",
              "      <td>...</td>\n",
              "      <td>NaN</td>\n",
              "      <td>NaN</td>\n",
              "      <td>NaN</td>\n",
              "      <td>NaN</td>\n",
              "      <td>NaN</td>\n",
              "      <td>1.0</td>\n",
              "      <td>NaN</td>\n",
              "      <td>NaN</td>\n",
              "      <td>NaN</td>\n",
              "      <td>NaN</td>\n",
              "    </tr>\n",
              "  </tbody>\n",
              "</table>\n",
              "<p>360186 rows × 36 columns</p>\n",
              "</div>"
            ],
            "text/plain": [
              "         safetyreportid  transmissiondate  receivedate  receiptdate  \\\n",
              "5701020       3759885.0        20140414.0   20020131.0   20130612.0   \n",
              "235884        3759885.0        20150721.0   20020131.0   20150218.0   \n",
              "4185318       3839792.0        20161109.0   20020918.0   20160825.0   \n",
              "755043        3839792.0        20160305.0   20020918.0   20151211.0   \n",
              "2902791       3839792.0        20130627.0   20020918.0   20121128.0   \n",
              "...                 ...               ...          ...          ...   \n",
              "2450161      14028370.0        20180321.0   20170930.0   20171218.0   \n",
              "1879932      14028386.0        20171128.0   20170930.0   20170930.0   \n",
              "2573216      14028386.0        20180321.0   20170930.0   20171204.0   \n",
              "1704654      14030122.0        20171128.0   20170930.0   20170930.0   \n",
              "2409365      14030122.0        20180321.0   20170930.0   20171218.0   \n",
              "\n",
              "         drugstartdate  drugenddate  serious patientonsetage  patientsex  \\\n",
              "5701020     20000208.0   20020116.0      1.0            56.0         1.0   \n",
              "235884      20000208.0   20000208.0      1.0            56.0         1.0   \n",
              "4185318     20020218.0   20020215.0      1.0             0.0         2.0   \n",
              "755043      20020710.0   20020710.0      1.0             0.0         2.0   \n",
              "2902791     20020710.0   20020710.0      1.0             1.0         2.0   \n",
              "...                ...          ...      ...             ...         ...   \n",
              "2450161     20170803.0          NaN      1.0            46.0         2.0   \n",
              "1879932            NaN          NaN      2.0             NaN         2.0   \n",
              "2573216            NaN          NaN      2.0             NaN         2.0   \n",
              "1704654     20170626.0   20170712.0      1.0             NaN         NaN   \n",
              "2409365     20170626.0   20170712.0      1.0             NaN         NaN   \n",
              "\n",
              "                         reactionmeddrapt  ...  drugseparatedosagenumb  \\\n",
              "5701020                    Gastric polyps  ...                     NaN   \n",
              "235884      Human herpesvirus 8 infection  ...                     1.0   \n",
              "4185318  Foetal exposure during pregnancy  ...                     1.0   \n",
              "755043   Foetal exposure during pregnancy  ...                     1.0   \n",
              "2902791                      Cleft palate  ...                     NaN   \n",
              "...                                   ...  ...                     ...   \n",
              "2450161                         Arthritis  ...                     2.0   \n",
              "1879932                             Cough  ...                     1.0   \n",
              "2573216                             Cough  ...                     1.0   \n",
              "1704654                           Fatigue  ...                     NaN   \n",
              "2409365                           Fatigue  ...                     NaN   \n",
              "\n",
              "        drugintervaldosageunitnumb  drugintervaldosagedefinition  \\\n",
              "5701020                        NaN                           NaN   \n",
              "235884                         1.0                         804.0   \n",
              "4185318                        1.0                         804.0   \n",
              "755043                         1.0                         804.0   \n",
              "2902791                        NaN                           NaN   \n",
              "...                            ...                           ...   \n",
              "2450161                        1.0                         804.0   \n",
              "1879932                        1.0                         802.0   \n",
              "2573216                        1.0                         802.0   \n",
              "1704654                        NaN                           NaN   \n",
              "2409365                        NaN                           NaN   \n",
              "\n",
              "        drugcumulativedosagenumb drugcumulativedosageunit  drugadditional  \\\n",
              "5701020                      NaN                      NaN             NaN   \n",
              "235884                       NaN                      NaN             NaN   \n",
              "4185318                      NaN                      NaN             3.0   \n",
              "755043                       NaN                      NaN             NaN   \n",
              "2902791                      NaN                      NaN             NaN   \n",
              "...                          ...                      ...             ...   \n",
              "2450161                      NaN                      NaN             1.0   \n",
              "1879932                      NaN                      NaN             3.0   \n",
              "2573216                      NaN                      NaN             3.0   \n",
              "1704654                      NaN                      NaN             1.0   \n",
              "2409365                      NaN                      NaN             1.0   \n",
              "\n",
              "        drugrecurrence drugrecuraction drugtreatmentduration  \\\n",
              "5701020            NaN             NaN                   NaN   \n",
              "235884             NaN             NaN                   NaN   \n",
              "4185318            NaN             NaN                   NaN   \n",
              "755043             NaN             NaN                   NaN   \n",
              "2902791            NaN             NaN                   NaN   \n",
              "...                ...             ...                   ...   \n",
              "2450161            NaN             NaN                   NaN   \n",
              "1879932            NaN             NaN                   NaN   \n",
              "2573216            NaN             NaN                   NaN   \n",
              "1704654            NaN             NaN                   NaN   \n",
              "2409365            NaN             NaN                   NaN   \n",
              "\n",
              "         drugtreatmentdurationunit  \n",
              "5701020                        NaN  \n",
              "235884                         NaN  \n",
              "4185318                        NaN  \n",
              "755043                         NaN  \n",
              "2902791                        NaN  \n",
              "...                            ...  \n",
              "2450161                        NaN  \n",
              "1879932                        NaN  \n",
              "2573216                        NaN  \n",
              "1704654                        NaN  \n",
              "2409365                        NaN  \n",
              "\n",
              "[360186 rows x 36 columns]"
            ]
          },
          "execution_count": 61,
          "metadata": {},
          "output_type": "execute_result"
        }
      ],
      "source": [
        "filtered_faers_data = faers_data[faers_data.safetyreportid.isin(filtered_df.safetyreportid)].sort_values('safetyreportid')\n",
        "filtered_faers_data[[\n",
        "        'safetyreportid',  'transmissiondate', 'receivedate',  'receiptdate','drugstartdate','drugenddate',  'serious',\n",
        " 'patientonsetage', 'patientsex', 'reactionmeddrapt', 'reactionoutcome',\n",
        "        'drug', 'drugcharacterization', 'medicinalproduct', 'drugdosagetext',\n",
        "       'drugadministrationroute', 'drugindication',\n",
        "        'activesubstance', 'activesubstancename',\n",
        "        'actiondrug', 'summary',\n",
        "        'narrativeincludeclinical',\n",
        "      'drugrecurreadministration',\n",
        "        'literaturereference', 'patientagegroup',\n",
        "        'patientweight', 'drugseparatedosagenumb', 'drugintervaldosageunitnumb',\n",
        "        'drugintervaldosagedefinition',\n",
        "         'drugcumulativedosagenumb',\n",
        "        'drugcumulativedosageunit', 'drugadditional',\n",
        "        'drugrecurrence', 'drugrecuraction',\n",
        "        'drugtreatmentduration', 'drugtreatmentdurationunit']]"
      ]
    },
    {
      "cell_type": "code",
      "execution_count": null,
      "metadata": {
        "id": "JoY5CZtf7QLD",
        "outputId": "799bb9d3-0171-496a-e527-25f885e0b6d1"
      },
      "outputs": [
        {
          "data": {
            "text/plain": [
              "(267612, 4)"
            ]
          },
          "execution_count": 98,
          "metadata": {},
          "output_type": "execute_result"
        }
      ],
      "source": []
    },
    {
      "cell_type": "code",
      "execution_count": null,
      "metadata": {
        "id": "3ffCI28v7QLD",
        "scrolled": true
      },
      "outputs": [],
      "source": []
    },
    {
      "cell_type": "code",
      "execution_count": null,
      "metadata": {
        "id": "1fK-dyIy7QLI",
        "outputId": "e39be8b8-ffe8-4913-c32b-e57192bed771"
      },
      "outputs": [
        {
          "data": {
            "text/html": [
              "<div>\n",
              "<style scoped>\n",
              "    .dataframe tbody tr th:only-of-type {\n",
              "        vertical-align: middle;\n",
              "    }\n",
              "\n",
              "    .dataframe tbody tr th {\n",
              "        vertical-align: top;\n",
              "    }\n",
              "\n",
              "    .dataframe thead th {\n",
              "        text-align: right;\n",
              "    }\n",
              "</style>\n",
              "<table border=\"1\" class=\"dataframe\">\n",
              "  <thead>\n",
              "    <tr style=\"text-align: right;\">\n",
              "      <th></th>\n",
              "      <th>safetyreportid</th>\n",
              "      <th>medicinalproduct</th>\n",
              "      <th>drugstartdate</th>\n",
              "      <th>parsed_date</th>\n",
              "      <th>time_diff</th>\n",
              "      <th>new_group</th>\n",
              "      <th>group_id</th>\n",
              "    </tr>\n",
              "  </thead>\n",
              "  <tbody>\n",
              "    <tr>\n",
              "      <th>2008722</th>\n",
              "      <td>9268915.0</td>\n",
              "      <td>CYMBALTA</td>\n",
              "      <td>20120523</td>\n",
              "      <td>2012-05-23</td>\n",
              "      <td>0 days</td>\n",
              "      <td>0</td>\n",
              "      <td>0</td>\n",
              "    </tr>\n",
              "    <tr>\n",
              "      <th>365078</th>\n",
              "      <td>9268915.0</td>\n",
              "      <td>CRANBERRY.</td>\n",
              "      <td>20120523</td>\n",
              "      <td>2012-05-23</td>\n",
              "      <td>0 days</td>\n",
              "      <td>0</td>\n",
              "      <td>0</td>\n",
              "    </tr>\n",
              "    <tr>\n",
              "      <th>4864957</th>\n",
              "      <td>9268915.0</td>\n",
              "      <td>D50W</td>\n",
              "      <td>20120523</td>\n",
              "      <td>2012-05-23</td>\n",
              "      <td>0 days</td>\n",
              "      <td>0</td>\n",
              "      <td>0</td>\n",
              "    </tr>\n",
              "    <tr>\n",
              "      <th>5144788</th>\n",
              "      <td>9268915.0</td>\n",
              "      <td>PREDNISONE</td>\n",
              "      <td>20120523</td>\n",
              "      <td>2012-05-23</td>\n",
              "      <td>0 days</td>\n",
              "      <td>0</td>\n",
              "      <td>0</td>\n",
              "    </tr>\n",
              "    <tr>\n",
              "      <th>4505724</th>\n",
              "      <td>9268915.0</td>\n",
              "      <td>ACTEMRA</td>\n",
              "      <td>20120523</td>\n",
              "      <td>2012-05-23</td>\n",
              "      <td>0 days</td>\n",
              "      <td>0</td>\n",
              "      <td>0</td>\n",
              "    </tr>\n",
              "    <tr>\n",
              "      <th>1660650</th>\n",
              "      <td>9268915.0</td>\n",
              "      <td>METHOTREXATE.</td>\n",
              "      <td>20120523</td>\n",
              "      <td>2012-05-23</td>\n",
              "      <td>0 days</td>\n",
              "      <td>0</td>\n",
              "      <td>0</td>\n",
              "    </tr>\n",
              "  </tbody>\n",
              "</table>\n",
              "</div>"
            ],
            "text/plain": [
              "         safetyreportid medicinalproduct drugstartdate parsed_date time_diff  \\\n",
              "2008722       9268915.0         CYMBALTA      20120523  2012-05-23    0 days   \n",
              "365078        9268915.0       CRANBERRY.      20120523  2012-05-23    0 days   \n",
              "4864957       9268915.0             D50W      20120523  2012-05-23    0 days   \n",
              "5144788       9268915.0       PREDNISONE      20120523  2012-05-23    0 days   \n",
              "4505724       9268915.0          ACTEMRA      20120523  2012-05-23    0 days   \n",
              "1660650       9268915.0    METHOTREXATE.      20120523  2012-05-23    0 days   \n",
              "\n",
              "         new_group  group_id  \n",
              "2008722          0         0  \n",
              "365078           0         0  \n",
              "4864957          0         0  \n",
              "5144788          0         0  \n",
              "4505724          0         0  \n",
              "1660650          0         0  "
            ]
          },
          "execution_count": 102,
          "metadata": {},
          "output_type": "execute_result"
        }
      ],
      "source": [
        "df[df.safetyreportid== 9268915]"
      ]
    },
    {
      "cell_type": "code",
      "execution_count": null,
      "metadata": {
        "id": "m5HlHuAx7QLJ"
      },
      "outputs": [],
      "source": []
    },
    {
      "cell_type": "code",
      "execution_count": null,
      "metadata": {
        "id": "npg2dOcq7QLJ",
        "outputId": "5c0ca533-54f3-4054-efc0-983d9b572c01"
      },
      "outputs": [
        {
          "data": {
            "text/plain": [
              "73638"
            ]
          },
          "execution_count": 111,
          "metadata": {},
          "output_type": "execute_result"
        }
      ],
      "source": [
        "(df.safetyreportid.value_counts()>1).sum()"
      ]
    },
    {
      "cell_type": "code",
      "execution_count": null,
      "metadata": {
        "id": "5ZadopmG7QLJ",
        "outputId": "e3623b8c-eb4a-44ec-80db-c45899e75be2"
      },
      "outputs": [
        {
          "data": {
            "text/html": [
              "<div>\n",
              "<style scoped>\n",
              "    .dataframe tbody tr th:only-of-type {\n",
              "        vertical-align: middle;\n",
              "    }\n",
              "\n",
              "    .dataframe tbody tr th {\n",
              "        vertical-align: top;\n",
              "    }\n",
              "\n",
              "    .dataframe thead th {\n",
              "        text-align: right;\n",
              "    }\n",
              "</style>\n",
              "<table border=\"1\" class=\"dataframe\">\n",
              "  <thead>\n",
              "    <tr style=\"text-align: right;\">\n",
              "      <th></th>\n",
              "      <th>safetyreportid</th>\n",
              "      <th>transmissiondate</th>\n",
              "      <th>receivedate</th>\n",
              "      <th>receiptdate</th>\n",
              "      <th>drugstartdate</th>\n",
              "      <th>drugenddate</th>\n",
              "      <th>serious</th>\n",
              "      <th>patientonsetage</th>\n",
              "      <th>patientsex</th>\n",
              "      <th>reactionmeddrapt</th>\n",
              "      <th>...</th>\n",
              "      <th>drugseparatedosagenumb</th>\n",
              "      <th>drugintervaldosageunitnumb</th>\n",
              "      <th>drugintervaldosagedefinition</th>\n",
              "      <th>drugcumulativedosagenumb</th>\n",
              "      <th>drugcumulativedosageunit</th>\n",
              "      <th>drugadditional</th>\n",
              "      <th>drugrecurrence</th>\n",
              "      <th>drugrecuraction</th>\n",
              "      <th>drugtreatmentduration</th>\n",
              "      <th>drugtreatmentdurationunit</th>\n",
              "    </tr>\n",
              "  </thead>\n",
              "  <tbody>\n",
              "    <tr>\n",
              "      <th>5701020</th>\n",
              "      <td>3759885.0</td>\n",
              "      <td>20140414.0</td>\n",
              "      <td>20020131.0</td>\n",
              "      <td>20130612.0</td>\n",
              "      <td>20000208.0</td>\n",
              "      <td>20020116.0</td>\n",
              "      <td>1.0</td>\n",
              "      <td>56.0</td>\n",
              "      <td>1.0</td>\n",
              "      <td>Gastric polyps</td>\n",
              "      <td>...</td>\n",
              "      <td>NaN</td>\n",
              "      <td>NaN</td>\n",
              "      <td>NaN</td>\n",
              "      <td>NaN</td>\n",
              "      <td>NaN</td>\n",
              "      <td>NaN</td>\n",
              "      <td>NaN</td>\n",
              "      <td>NaN</td>\n",
              "      <td>NaN</td>\n",
              "      <td>NaN</td>\n",
              "    </tr>\n",
              "    <tr>\n",
              "      <th>235884</th>\n",
              "      <td>3759885.0</td>\n",
              "      <td>20150721.0</td>\n",
              "      <td>20020131.0</td>\n",
              "      <td>20150218.0</td>\n",
              "      <td>20000208.0</td>\n",
              "      <td>20000208.0</td>\n",
              "      <td>1.0</td>\n",
              "      <td>56.0</td>\n",
              "      <td>1.0</td>\n",
              "      <td>Human herpesvirus 8 infection</td>\n",
              "      <td>...</td>\n",
              "      <td>1.0</td>\n",
              "      <td>1.0</td>\n",
              "      <td>804.0</td>\n",
              "      <td>NaN</td>\n",
              "      <td>NaN</td>\n",
              "      <td>NaN</td>\n",
              "      <td>NaN</td>\n",
              "      <td>NaN</td>\n",
              "      <td>NaN</td>\n",
              "      <td>NaN</td>\n",
              "    </tr>\n",
              "    <tr>\n",
              "      <th>912300</th>\n",
              "      <td>3948114.0</td>\n",
              "      <td>20160305.0</td>\n",
              "      <td>20030528.0</td>\n",
              "      <td>20151229.0</td>\n",
              "      <td>20020514.0</td>\n",
              "      <td>NaN</td>\n",
              "      <td>1.0</td>\n",
              "      <td>0.0</td>\n",
              "      <td>2.0</td>\n",
              "      <td>Foetal exposure during pregnancy</td>\n",
              "      <td>...</td>\n",
              "      <td>1.0</td>\n",
              "      <td>1.0</td>\n",
              "      <td>804.0</td>\n",
              "      <td>NaN</td>\n",
              "      <td>NaN</td>\n",
              "      <td>NaN</td>\n",
              "      <td>NaN</td>\n",
              "      <td>NaN</td>\n",
              "      <td>NaN</td>\n",
              "      <td>NaN</td>\n",
              "    </tr>\n",
              "    <tr>\n",
              "      <th>4342069</th>\n",
              "      <td>3948114.0</td>\n",
              "      <td>20161109.0</td>\n",
              "      <td>20030528.0</td>\n",
              "      <td>20160826.0</td>\n",
              "      <td>20020514.0</td>\n",
              "      <td>NaN</td>\n",
              "      <td>1.0</td>\n",
              "      <td>0.0</td>\n",
              "      <td>2.0</td>\n",
              "      <td>Foetal exposure during pregnancy</td>\n",
              "      <td>...</td>\n",
              "      <td>1.0</td>\n",
              "      <td>1.0</td>\n",
              "      <td>804.0</td>\n",
              "      <td>NaN</td>\n",
              "      <td>NaN</td>\n",
              "      <td>3.0</td>\n",
              "      <td>NaN</td>\n",
              "      <td>NaN</td>\n",
              "      <td>NaN</td>\n",
              "      <td>NaN</td>\n",
              "    </tr>\n",
              "    <tr>\n",
              "      <th>4864944</th>\n",
              "      <td>4083807.0</td>\n",
              "      <td>20170207.0</td>\n",
              "      <td>20040209.0</td>\n",
              "      <td>20161107.0</td>\n",
              "      <td>2000.0</td>\n",
              "      <td>NaN</td>\n",
              "      <td>1.0</td>\n",
              "      <td>59.0</td>\n",
              "      <td>2.0</td>\n",
              "      <td>Hot flush</td>\n",
              "      <td>...</td>\n",
              "      <td>2.0</td>\n",
              "      <td>1.0</td>\n",
              "      <td>804.0</td>\n",
              "      <td>NaN</td>\n",
              "      <td>NaN</td>\n",
              "      <td>3.0</td>\n",
              "      <td>NaN</td>\n",
              "      <td>NaN</td>\n",
              "      <td>NaN</td>\n",
              "      <td>NaN</td>\n",
              "    </tr>\n",
              "    <tr>\n",
              "      <th>...</th>\n",
              "      <td>...</td>\n",
              "      <td>...</td>\n",
              "      <td>...</td>\n",
              "      <td>...</td>\n",
              "      <td>...</td>\n",
              "      <td>...</td>\n",
              "      <td>...</td>\n",
              "      <td>...</td>\n",
              "      <td>...</td>\n",
              "      <td>...</td>\n",
              "      <td>...</td>\n",
              "      <td>...</td>\n",
              "      <td>...</td>\n",
              "      <td>...</td>\n",
              "      <td>...</td>\n",
              "      <td>...</td>\n",
              "      <td>...</td>\n",
              "      <td>...</td>\n",
              "      <td>...</td>\n",
              "      <td>...</td>\n",
              "      <td>...</td>\n",
              "    </tr>\n",
              "    <tr>\n",
              "      <th>2532340</th>\n",
              "      <td>14027791.0</td>\n",
              "      <td>20180321.0</td>\n",
              "      <td>20170929.0</td>\n",
              "      <td>20171214.0</td>\n",
              "      <td>20120127.0</td>\n",
              "      <td>2015.0</td>\n",
              "      <td>1.0</td>\n",
              "      <td>65.0</td>\n",
              "      <td>1.0</td>\n",
              "      <td>Lower gastrointestinal haemorrhage</td>\n",
              "      <td>...</td>\n",
              "      <td>2.0</td>\n",
              "      <td>1.0</td>\n",
              "      <td>804.0</td>\n",
              "      <td>NaN</td>\n",
              "      <td>NaN</td>\n",
              "      <td>3.0</td>\n",
              "      <td>NaN</td>\n",
              "      <td>NaN</td>\n",
              "      <td>NaN</td>\n",
              "      <td>NaN</td>\n",
              "    </tr>\n",
              "    <tr>\n",
              "      <th>1748271</th>\n",
              "      <td>14028370.0</td>\n",
              "      <td>20171128.0</td>\n",
              "      <td>20170930.0</td>\n",
              "      <td>20170930.0</td>\n",
              "      <td>20170803.0</td>\n",
              "      <td>NaN</td>\n",
              "      <td>1.0</td>\n",
              "      <td>46.0</td>\n",
              "      <td>2.0</td>\n",
              "      <td>Arthritis</td>\n",
              "      <td>...</td>\n",
              "      <td>1.0</td>\n",
              "      <td>1.0</td>\n",
              "      <td>804.0</td>\n",
              "      <td>NaN</td>\n",
              "      <td>NaN</td>\n",
              "      <td>NaN</td>\n",
              "      <td>NaN</td>\n",
              "      <td>NaN</td>\n",
              "      <td>NaN</td>\n",
              "      <td>NaN</td>\n",
              "    </tr>\n",
              "    <tr>\n",
              "      <th>2450161</th>\n",
              "      <td>14028370.0</td>\n",
              "      <td>20180321.0</td>\n",
              "      <td>20170930.0</td>\n",
              "      <td>20171218.0</td>\n",
              "      <td>20170803.0</td>\n",
              "      <td>NaN</td>\n",
              "      <td>1.0</td>\n",
              "      <td>46.0</td>\n",
              "      <td>2.0</td>\n",
              "      <td>Arthritis</td>\n",
              "      <td>...</td>\n",
              "      <td>2.0</td>\n",
              "      <td>1.0</td>\n",
              "      <td>804.0</td>\n",
              "      <td>NaN</td>\n",
              "      <td>NaN</td>\n",
              "      <td>1.0</td>\n",
              "      <td>NaN</td>\n",
              "      <td>NaN</td>\n",
              "      <td>NaN</td>\n",
              "      <td>NaN</td>\n",
              "    </tr>\n",
              "    <tr>\n",
              "      <th>1704654</th>\n",
              "      <td>14030122.0</td>\n",
              "      <td>20171128.0</td>\n",
              "      <td>20170930.0</td>\n",
              "      <td>20170930.0</td>\n",
              "      <td>20170626.0</td>\n",
              "      <td>20170712.0</td>\n",
              "      <td>1.0</td>\n",
              "      <td>NaN</td>\n",
              "      <td>NaN</td>\n",
              "      <td>Fatigue</td>\n",
              "      <td>...</td>\n",
              "      <td>NaN</td>\n",
              "      <td>NaN</td>\n",
              "      <td>NaN</td>\n",
              "      <td>NaN</td>\n",
              "      <td>NaN</td>\n",
              "      <td>1.0</td>\n",
              "      <td>NaN</td>\n",
              "      <td>NaN</td>\n",
              "      <td>NaN</td>\n",
              "      <td>NaN</td>\n",
              "    </tr>\n",
              "    <tr>\n",
              "      <th>2409365</th>\n",
              "      <td>14030122.0</td>\n",
              "      <td>20180321.0</td>\n",
              "      <td>20170930.0</td>\n",
              "      <td>20171218.0</td>\n",
              "      <td>20170626.0</td>\n",
              "      <td>20170712.0</td>\n",
              "      <td>1.0</td>\n",
              "      <td>NaN</td>\n",
              "      <td>NaN</td>\n",
              "      <td>Fatigue</td>\n",
              "      <td>...</td>\n",
              "      <td>NaN</td>\n",
              "      <td>NaN</td>\n",
              "      <td>NaN</td>\n",
              "      <td>NaN</td>\n",
              "      <td>NaN</td>\n",
              "      <td>1.0</td>\n",
              "      <td>NaN</td>\n",
              "      <td>NaN</td>\n",
              "      <td>NaN</td>\n",
              "      <td>NaN</td>\n",
              "    </tr>\n",
              "  </tbody>\n",
              "</table>\n",
              "<p>151933 rows × 36 columns</p>\n",
              "</div>"
            ],
            "text/plain": [
              "         safetyreportid  transmissiondate  receivedate  receiptdate  \\\n",
              "5701020       3759885.0        20140414.0   20020131.0   20130612.0   \n",
              "235884        3759885.0        20150721.0   20020131.0   20150218.0   \n",
              "912300        3948114.0        20160305.0   20030528.0   20151229.0   \n",
              "4342069       3948114.0        20161109.0   20030528.0   20160826.0   \n",
              "4864944       4083807.0        20170207.0   20040209.0   20161107.0   \n",
              "...                 ...               ...          ...          ...   \n",
              "2532340      14027791.0        20180321.0   20170929.0   20171214.0   \n",
              "1748271      14028370.0        20171128.0   20170930.0   20170930.0   \n",
              "2450161      14028370.0        20180321.0   20170930.0   20171218.0   \n",
              "1704654      14030122.0        20171128.0   20170930.0   20170930.0   \n",
              "2409365      14030122.0        20180321.0   20170930.0   20171218.0   \n",
              "\n",
              "         drugstartdate  drugenddate  serious patientonsetage  patientsex  \\\n",
              "5701020     20000208.0   20020116.0      1.0            56.0         1.0   \n",
              "235884      20000208.0   20000208.0      1.0            56.0         1.0   \n",
              "912300      20020514.0          NaN      1.0             0.0         2.0   \n",
              "4342069     20020514.0          NaN      1.0             0.0         2.0   \n",
              "4864944         2000.0          NaN      1.0            59.0         2.0   \n",
              "...                ...          ...      ...             ...         ...   \n",
              "2532340     20120127.0       2015.0      1.0            65.0         1.0   \n",
              "1748271     20170803.0          NaN      1.0            46.0         2.0   \n",
              "2450161     20170803.0          NaN      1.0            46.0         2.0   \n",
              "1704654     20170626.0   20170712.0      1.0             NaN         NaN   \n",
              "2409365     20170626.0   20170712.0      1.0             NaN         NaN   \n",
              "\n",
              "                           reactionmeddrapt  ...  drugseparatedosagenumb  \\\n",
              "5701020                      Gastric polyps  ...                     NaN   \n",
              "235884        Human herpesvirus 8 infection  ...                     1.0   \n",
              "912300     Foetal exposure during pregnancy  ...                     1.0   \n",
              "4342069    Foetal exposure during pregnancy  ...                     1.0   \n",
              "4864944                           Hot flush  ...                     2.0   \n",
              "...                                     ...  ...                     ...   \n",
              "2532340  Lower gastrointestinal haemorrhage  ...                     2.0   \n",
              "1748271                           Arthritis  ...                     1.0   \n",
              "2450161                           Arthritis  ...                     2.0   \n",
              "1704654                             Fatigue  ...                     NaN   \n",
              "2409365                             Fatigue  ...                     NaN   \n",
              "\n",
              "        drugintervaldosageunitnumb  drugintervaldosagedefinition  \\\n",
              "5701020                        NaN                           NaN   \n",
              "235884                         1.0                         804.0   \n",
              "912300                         1.0                         804.0   \n",
              "4342069                        1.0                         804.0   \n",
              "4864944                        1.0                         804.0   \n",
              "...                            ...                           ...   \n",
              "2532340                        1.0                         804.0   \n",
              "1748271                        1.0                         804.0   \n",
              "2450161                        1.0                         804.0   \n",
              "1704654                        NaN                           NaN   \n",
              "2409365                        NaN                           NaN   \n",
              "\n",
              "        drugcumulativedosagenumb drugcumulativedosageunit  drugadditional  \\\n",
              "5701020                      NaN                      NaN             NaN   \n",
              "235884                       NaN                      NaN             NaN   \n",
              "912300                       NaN                      NaN             NaN   \n",
              "4342069                      NaN                      NaN             3.0   \n",
              "4864944                      NaN                      NaN             3.0   \n",
              "...                          ...                      ...             ...   \n",
              "2532340                      NaN                      NaN             3.0   \n",
              "1748271                      NaN                      NaN             NaN   \n",
              "2450161                      NaN                      NaN             1.0   \n",
              "1704654                      NaN                      NaN             1.0   \n",
              "2409365                      NaN                      NaN             1.0   \n",
              "\n",
              "        drugrecurrence drugrecuraction drugtreatmentduration  \\\n",
              "5701020            NaN             NaN                   NaN   \n",
              "235884             NaN             NaN                   NaN   \n",
              "912300             NaN             NaN                   NaN   \n",
              "4342069            NaN             NaN                   NaN   \n",
              "4864944            NaN             NaN                   NaN   \n",
              "...                ...             ...                   ...   \n",
              "2532340            NaN             NaN                   NaN   \n",
              "1748271            NaN             NaN                   NaN   \n",
              "2450161            NaN             NaN                   NaN   \n",
              "1704654            NaN             NaN                   NaN   \n",
              "2409365            NaN             NaN                   NaN   \n",
              "\n",
              "         drugtreatmentdurationunit  \n",
              "5701020                        NaN  \n",
              "235884                         NaN  \n",
              "912300                         NaN  \n",
              "4342069                        NaN  \n",
              "4864944                        NaN  \n",
              "...                            ...  \n",
              "2532340                        NaN  \n",
              "1748271                        NaN  \n",
              "2450161                        NaN  \n",
              "1704654                        NaN  \n",
              "2409365                        NaN  \n",
              "\n",
              "[151933 rows x 36 columns]"
            ]
          },
          "execution_count": 112,
          "metadata": {},
          "output_type": "execute_result"
        }
      ],
      "source": [
        "filtered_faers_data = faers_data.loc[df.index].sort_values('safetyreportid')\n",
        "filtered_faers_data[[\n",
        "        'safetyreportid',  'transmissiondate', 'receivedate',  'receiptdate','drugstartdate','drugenddate',  'serious',\n",
        " 'patientonsetage', 'patientsex', 'reactionmeddrapt', 'reactionoutcome',\n",
        "        'drug', 'drugcharacterization', 'medicinalproduct', 'drugdosagetext',\n",
        "       'drugadministrationroute', 'drugindication',\n",
        "        'activesubstance', 'activesubstancename',\n",
        "        'actiondrug', 'summary',\n",
        "        'narrativeincludeclinical',\n",
        "      'drugrecurreadministration',\n",
        "        'literaturereference', 'patientagegroup',\n",
        "        'patientweight', 'drugseparatedosagenumb', 'drugintervaldosageunitnumb',\n",
        "        'drugintervaldosagedefinition',\n",
        "         'drugcumulativedosagenumb',\n",
        "        'drugcumulativedosageunit', 'drugadditional',\n",
        "        'drugrecurrence', 'drugrecuraction',\n",
        "        'drugtreatmentduration', 'drugtreatmentdurationunit']]"
      ]
    },
    {
      "cell_type": "code",
      "execution_count": null,
      "metadata": {
        "id": "GvnvQCot7QLJ",
        "outputId": "63cd7587-442c-412e-d537-85a9186473dd"
      },
      "outputs": [
        {
          "data": {
            "text/plain": [
              "102.0    2275944\n",
              "610.0     665406\n",
              "602.0     414071\n",
              "Name: drugstartdateformat, dtype: int64"
            ]
          },
          "execution_count": 59,
          "metadata": {},
          "output_type": "execute_result"
        }
      ],
      "source": [
        "faers_data.drugstartdateformat.value_counts()"
      ]
    },
    {
      "cell_type": "code",
      "execution_count": null,
      "metadata": {
        "id": "E5lbOClr7QLK",
        "outputId": "895cb257-5d82-4bf2-df04-486adce72551"
      },
      "outputs": [
        {
          "data": {
            "text/plain": [
              "Headache                                                 425\n",
              "Diarrhoea                                                390\n",
              "Nausea                                                   363\n",
              "Injection site pain                                      350\n",
              "Rash                                                     339\n",
              "Dizziness                                                255\n",
              "Drug ineffective                                         219\n",
              "Completed suicide                                        205\n",
              "Vomiting                                                 192\n",
              "Pruritus                                                 189\n",
              "Fatigue                                                  185\n",
              "Neutropenia                                              165\n",
              "Arthralgia                                               159\n",
              "Urticaria                                                150\n",
              "Dyspnoea                                                 144\n",
              "Injection site erythema                                  130\n",
              "Pyrexia                                                  129\n",
              "Pain                                                     124\n",
              "Pain in extremity                                        119\n",
              "Hypersensitivity                                         116\n",
              "Myalgia                                                  115\n",
              "Malaise                                                  114\n",
              "Back pain                                                113\n",
              "Muscle spasms                                            108\n",
              "Abdominal pain upper                                     105\n",
              "Injection site reaction                                  103\n",
              "Injection site swelling                                  102\n",
              "Injection site bruising                                   99\n",
              "Abdominal pain                                            94\n",
              "Somnolence                                                93\n",
              "Injection site pruritus                                   90\n",
              "Cough                                                     85\n",
              "Feeling abnormal                                          84\n",
              "Hypertension                                              77\n",
              "Erythema                                                  77\n",
              "Application site erythema                                 75\n",
              "Asthenia                                                  75\n",
              "Chest pain                                                67\n",
              "Thrombocytopenia                                          66\n",
              "Drug reaction with eosinophilia and systemic symptoms     66\n",
              "Insomnia                                                  66\n",
              "Palpitations                                              64\n",
              "Migraine                                                  63\n",
              "Paraesthesia                                              62\n",
              "Anaphylactic reaction                                     62\n",
              "Hypotension                                               61\n",
              "Blood pressure increased                                  59\n",
              "Pneumonia                                                 59\n",
              "Platelet count decreased                                  57\n",
              "Infusion related reaction                                 56\n",
              "Name: drugrecuraction, dtype: int64"
            ]
          },
          "execution_count": 7,
          "metadata": {},
          "output_type": "execute_result"
        }
      ],
      "source": [
        "faers_data.drugrecuraction.value_counts().head(50)"
      ]
    },
    {
      "cell_type": "code",
      "execution_count": null,
      "metadata": {
        "id": "W7isQ1dl7QLK",
        "outputId": "cb9062a4-4ad5-4c63-f04e-9013f94807dd",
        "scrolled": true
      },
      "outputs": [
        {
          "data": {
            "text/plain": [
              "Drug ineffective                                 228902\n",
              "Death                                            198283\n",
              "Off label use                                     89956\n",
              "Fatigue                                           67075\n",
              "Nausea                                            65860\n",
              "Headache                                          61732\n",
              "Diarrhoea                                         59629\n",
              "Drug dose omission                                57224\n",
              "Malaise                                           54322\n",
              "Rash                                              49083\n",
              "Pain                                              48944\n",
              "Dyspnoea                                          48262\n",
              "Injection site pain                               47565\n",
              "Myocardial infarction                             45177\n",
              "Dizziness                                         42081\n",
              "Drug hypersensitivity                             41814\n",
              "Pneumonia                                         38011\n",
              "Vomiting                                          37358\n",
              "Cerebrovascular accident                          34811\n",
              "Arthralgia                                        32737\n",
              "Pruritus                                          30790\n",
              "Product use issue                                 30245\n",
              "Product quality issue                             29608\n",
              "Hospitalisation                                   28963\n",
              "Blood glucose increased                           27280\n",
              "Pain in extremity                                 26993\n",
              "Asthenia                                          26448\n",
              "Fall                                              26358\n",
              "Gastrointestinal haemorrhage                      25573\n",
              "Inappropriate schedule of drug administration     25414\n",
              "Nasopharyngitis                                   25331\n",
              "No adverse event                                  24992\n",
              "Pyrexia                                           24410\n",
              "Alopecia                                          22902\n",
              "Insomnia                                          22528\n",
              "Feeling abnormal                                  22372\n",
              "Weight increased                                  21672\n",
              "Psoriasis                                         21505\n",
              "Weight decreased                                  21321\n",
              "Incorrect dose administered                       21321\n",
              "Cough                                             20856\n",
              "Hypersensitivity                                  20784\n",
              "Adverse event                                     20444\n",
              "Toxicity to various agents                        20386\n",
              "Constipation                                      19932\n",
              "Device expulsion                                  19853\n",
              "Injury                                            19680\n",
              "Cardiac failure congestive                        19572\n",
              "Back pain                                         19561\n",
              "Muscle spasms                                     19430\n",
              "Name: reactionmeddrapt, dtype: int64"
            ]
          },
          "execution_count": 8,
          "metadata": {},
          "output_type": "execute_result"
        }
      ],
      "source": [
        "#faers_data.reactionmeddrapt.value_counts().head(20)\n",
        "#Hepatitis\n",
        "\n",
        "\n",
        "#\n",
        "#faers_data.reactionmeddrapt.str.contains('Neutropenic sepsis').sum()\n",
        "faers_data.reactionmeddrapt.value_counts().head(50)"
      ]
    },
    {
      "cell_type": "code",
      "execution_count": null,
      "metadata": {
        "id": "zhX3lCt77QLK",
        "outputId": "15431c17-25aa-46b6-9611-c4dcc97d2cc3",
        "scrolled": true
      },
      "outputs": [
        {
          "data": {
            "text/plain": [
              "DENOSUMAB                                                                        11952\n",
              "DARBEPOETIN ALFA                                                                  8144\n",
              "CALCIUM CHLORIDE\\DEXTROSE\\MAGNESIUM CHLORIDE\\SODIUM CHLORIDE\\SODIUM LACTATE       4980\n",
              "LENALIDOMIDE                                                                      3833\n",
              "IMATINIB MESYLATE                                                                 3710\n",
              "ENZALUTAMIDE                                                                      3368\n",
              "NIVOLUMAB                                                                         2373\n",
              "AMBRISENTAN                                                                       2282\n",
              "AFLIBERCEPT                                                                       2047\n",
              "ADALIMUMAB                                                                        1840\n",
              "PARICALCITOL                                                                      1652\n",
              "LEUPROLIDE ACETATE                                                                1635\n",
              "SUNITINIB MALATE                                                                  1564\n",
              "ETANERCEPT                                                                        1526\n",
              "APIXABAN                                                                          1458\n",
              "ERLOTINIB                                                                         1300\n",
              "PAZOPANIB HYDROCHLORIDE                                                           1281\n",
              "BEVACIZUMAB                                                                       1271\n",
              "EVEROLIMUS                                                                        1270\n",
              "PIRFENIDONE                                                                       1143\n",
              "INTERFERON BETA-1A                                                                1138\n",
              "RIVAROXABAN                                                                       1122\n",
              "RANIBIZUMAB                                                                       1038\n",
              "MACITENTAN                                                                        1037\n",
              "POMALIDOMIDE                                                                      1036\n",
              "CINACALCET HYDROCHLORIDE                                                          1025\n",
              "CLOZAPINE                                                                         1016\n",
              "TREPROSTINIL                                                                      1003\n",
              "CALCIUM CHLORIDE\\ICODEXTRIN\\MAGNESIUM CHLORIDE\\SODIUM CHLORIDE\\SODIUM LACTATE      999\n",
              "ERLOTINIB HYDROCHLORIDE                                                            957\n",
              "ZOLEDRONIC ACID                                                                    865\n",
              "SACUBITRIL\\VALSARTAN                                                               854\n",
              "ABIRATERONE ACETATE                                                                844\n",
              "RUXOLITINIB                                                                        820\n",
              "SILDENAFIL CITRATE                                                                 786\n",
              "NILOTINIB                                                                          781\n",
              "PACLITAXEL                                                                         741\n",
              "ACETAMINOPHEN                                                                      731\n",
              "FENTANYL                                                                           702\n",
              "PEGFILGRASTIM                                                                      679\n",
              "Name: activesubstancename, dtype: int64"
            ]
          },
          "execution_count": 9,
          "metadata": {},
          "output_type": "execute_result"
        }
      ],
      "source": [
        "#safetyreportid,medicinalproduct\n",
        "#Gastrointestinal haemorrhage\n",
        "#Blood glucose increased\n",
        "faers_data[faers_data.reactionmeddrapt == 'Death'].activesubstancename.value_counts().head(40)"
      ]
    },
    {
      "cell_type": "code",
      "execution_count": null,
      "metadata": {
        "id": "gl_wY4e07QLK",
        "outputId": "a3a266ce-e1fb-4d3b-d80b-4cfb84f74dcb",
        "scrolled": true
      },
      "outputs": [
        {
          "data": {
            "text/plain": [
              "9319489     9\n",
              "9002414     9\n",
              "9539849     8\n",
              "10080058    8\n",
              "8583598     8\n",
              "           ..\n",
              "13290563    1\n",
              "13290345    1\n",
              "13290078    1\n",
              "13290076    1\n",
              "9559509     1\n",
              "Name: safetyreportid, Length: 5557832, dtype: int64"
            ]
          },
          "execution_count": 70,
          "metadata": {},
          "output_type": "execute_result"
        }
      ],
      "source": [
        "faers_data.safetyreportid.fillna(0, inplace=True)\n",
        "faers_data = faers_data[faers_data.safetyreportid !=0]\n",
        "faers_data.safetyreportid = faers_data.safetyreportid.astype(int)\n",
        "faers_data.safetyreportid.value_counts()\n",
        "\n",
        "#(faers_data.safetyreportid.value_counts()>1).sum()"
      ]
    },
    {
      "cell_type": "code",
      "execution_count": null,
      "metadata": {
        "id": "pY1GJOZn7QLK",
        "outputId": "443e524d-6ad5-4519-948c-025d434bb65d"
      },
      "outputs": [
        {
          "data": {
            "text/plain": [
              "(5948514, 87)"
            ]
          },
          "execution_count": 10,
          "metadata": {},
          "output_type": "execute_result"
        }
      ],
      "source": [
        "faers_data.shape"
      ]
    },
    {
      "cell_type": "code",
      "execution_count": null,
      "metadata": {
        "id": "TOJ8O0hn7QLL"
      },
      "outputs": [],
      "source": [
        "faers_data = faers_data.drop_duplicates()"
      ]
    },
    {
      "cell_type": "code",
      "execution_count": null,
      "metadata": {
        "id": "hLFoJDo17QLL"
      },
      "outputs": [],
      "source": [
        "faers_data.dropna(subset=['activesubstancename'], inplace=True)"
      ]
    },
    {
      "cell_type": "code",
      "execution_count": null,
      "metadata": {
        "id": "DtCq4FRs7QLL",
        "outputId": "93d7257d-310b-48e3-af0d-4b249f307380"
      },
      "outputs": [
        {
          "data": {
            "text/plain": [
              "(4413507, 87)"
            ]
          },
          "execution_count": 13,
          "metadata": {},
          "output_type": "execute_result"
        }
      ],
      "source": [
        "faers_data.shape"
      ]
    },
    {
      "cell_type": "markdown",
      "metadata": {
        "id": "6eR2SYAG7QLP"
      },
      "source": [
        "# Apply Deep Learning"
      ]
    },
    {
      "cell_type": "code",
      "execution_count": null,
      "metadata": {
        "id": "agYE-Cpl7QLP"
      },
      "outputs": [],
      "source": [
        "faers_data['activesubstancename'] =faers_data['activesubstancename'].astype(str)"
      ]
    },
    {
      "cell_type": "code",
      "execution_count": null,
      "metadata": {
        "id": "sYIDZpgB7QLP"
      },
      "outputs": [],
      "source": [
        "import pandas as pd\n",
        "import numpy as np\n",
        "from sklearn.preprocessing import LabelEncoder, MinMaxScaler\n",
        "from sklearn.model_selection import train_test_split\n",
        "from tensorflow.keras.models import Model\n",
        "from tensorflow.keras.layers import Input, Dense, Embedding, Conv1D, GlobalMaxPooling1D, Concatenate\n",
        "\n"
      ]
    },
    {
      "cell_type": "code",
      "execution_count": null,
      "metadata": {
        "id": "IiX4vecX7QLP"
      },
      "outputs": [],
      "source": [
        "\n",
        "# 1. Extract NLP features from faers_data (activesubstancename)\n",
        "# Tokenize and encode activesubstancename column\n",
        "max_features = 10000\n",
        "maxlen = 50\n",
        "tokenizer = Tokenizer(num_words=max_features)\n",
        "tokenizer.fit_on_texts(faers_data['activesubstancename'])"
      ]
    },
    {
      "cell_type": "code",
      "execution_count": null,
      "metadata": {
        "id": "arO3xeuf7QLQ"
      },
      "outputs": [],
      "source": [
        "#from tensorflow.keras.preprocessing.text import Tokenizer\n",
        "from tensorflow.keras.preprocessing.sequence import pad_sequences\n",
        "\n",
        "#Approach 1\n",
        "sequence_data = tokenizer.texts_to_sequences(faers_data['activesubstancename'])\n",
        "nlp_features = pad_sequences(sequence_data, maxlen=maxlen)\n"
      ]
    },
    {
      "cell_type": "code",
      "execution_count": null,
      "metadata": {
        "id": "8RpQWuHq7QLQ"
      },
      "outputs": [],
      "source": [
        "faers_data['seriousness_level'] = 0\n",
        "faers_data.loc[faers_data['serious']==1, 'seriousness_level'] =1"
      ]
    },
    {
      "cell_type": "code",
      "execution_count": null,
      "metadata": {
        "id": "Za7UwloI7QLQ",
        "outputId": "ce168153-8c9c-476d-8f7e-b6ef22ed97eb"
      },
      "outputs": [
        {
          "name": "stdout",
          "output_type": "stream",
          "text": [
            "(4413507, 88)\n",
            "(441350, 88)\n"
          ]
        }
      ],
      "source": [
        "# Prepare the target variable (seriousness) and split the data into training and testing sets\n",
        "target = faers_data['seriousness_level']\n",
        "print(faers_data.shape)\n",
        "\n",
        "small_faers_data, X_test_nlp, small_faers_target, y_test = train_test_split(faers_data, target, test_size=0.90, random_state=42, stratify=target)\n",
        "print(small_faers_data.shape)"
      ]
    },
    {
      "cell_type": "code",
      "execution_count": null,
      "metadata": {
        "id": "9XEwhfER7QLQ"
      },
      "outputs": [],
      "source": [
        "#Approach 2\n",
        "from sklearn.feature_extraction.text import TfidfVectorizer\n",
        "\n",
        "# 1. Extract NLP features (TF-IDF) from faers_data (activesubstancename)\n",
        "vectorizer = TfidfVectorizer(max_features=5000)\n",
        "nlp_features = vectorizer.fit_transform(small_faers_data['activesubstancename'])#.toarray()\n"
      ]
    },
    {
      "cell_type": "code",
      "execution_count": null,
      "metadata": {
        "id": "vWZ8Cb5c7QLR",
        "outputId": "e0dd5785-4a6d-4cee-94ea-e229083c9ef0"
      },
      "outputs": [
        {
          "data": {
            "text/plain": [
              "(441350, 2911)"
            ]
          },
          "execution_count": 18,
          "metadata": {},
          "output_type": "execute_result"
        }
      ],
      "source": [
        "nlp_features.shape"
      ]
    },
    {
      "cell_type": "code",
      "execution_count": null,
      "metadata": {
        "id": "BP43OdkU7QLR",
        "outputId": "56b14edd-47e4-42f2-e1a4-64ae6adfc177"
      },
      "outputs": [
        {
          "name": "stderr",
          "output_type": "stream",
          "text": [
            "C:\\Users\\ezzmo\\AppData\\Local\\Temp\\ipykernel_24392\\3542123774.py:11: SettingWithCopyWarning: \n",
            "A value is trying to be set on a copy of a slice from a DataFrame.\n",
            "Try using .loc[row_indexer,col_indexer] = value instead\n",
            "\n",
            "See the caveats in the documentation: https://pandas.pydata.org/pandas-docs/stable/user_guide/indexing.html#returning-a-view-versus-a-copy\n",
            "  demographic_features[column] = label_encoder.fit_transform(demographic_features[column])\n",
            "C:\\Users\\ezzmo\\AppData\\Local\\Temp\\ipykernel_24392\\3542123774.py:15: SettingWithCopyWarning: \n",
            "A value is trying to be set on a copy of a slice from a DataFrame.\n",
            "Try using .loc[row_indexer,col_indexer] = value instead\n",
            "\n",
            "See the caveats in the documentation: https://pandas.pydata.org/pandas-docs/stable/user_guide/indexing.html#returning-a-view-versus-a-copy\n",
            "  demographic_features[continuous_columns] = scaler.fit_transform(demographic_features[continuous_columns])\n"
          ]
        },
        {
          "data": {
            "text/plain": [
              "(441350, 3)"
            ]
          },
          "execution_count": 22,
          "metadata": {},
          "output_type": "execute_result"
        }
      ],
      "source": [
        "# 2. Prepare faers_data demographic data (patientagegroup, patientweight, patientsex, etc) features\n",
        "demographic_features = small_faers_data[['patientagegroup', 'patientweight', 'patientsex']]\n",
        "\n",
        "# Encode categorical features and scale continuous features\n",
        "categorical_columns = ['patientagegroup', 'patientsex']\n",
        "continuous_columns = ['patientweight']\n",
        "\n",
        "# Encode categorical columns\n",
        "for column in categorical_columns:\n",
        "    label_encoder = LabelEncoder()\n",
        "    demographic_features[column] = label_encoder.fit_transform(demographic_features[column])\n",
        "\n",
        "# Scale continuous columns\n",
        "scaler = MinMaxScaler()\n",
        "demographic_features[continuous_columns] = scaler.fit_transform(demographic_features[continuous_columns])\n",
        "demographic_features.shape"
      ]
    },
    {
      "cell_type": "code",
      "execution_count": null,
      "metadata": {
        "id": "2HtXxDgP7QLR",
        "outputId": "9381bbae-6c82-4dd0-9e05-9ef14d78851a"
      },
      "outputs": [
        {
          "name": "stdout",
          "output_type": "stream",
          "text": [
            "Model: \"model_5\"\n",
            "__________________________________________________________________________________________________\n",
            "Layer (type)                    Output Shape         Param #     Connected to                     \n",
            "==================================================================================================\n",
            "input_12 (InputLayer)           [(None, 50)]         0                                            \n",
            "__________________________________________________________________________________________________\n",
            "embedding_3 (Embedding)         (None, 50, 128)      1280000     input_12[0][0]                   \n",
            "__________________________________________________________________________________________________\n",
            "conv1d_5 (Conv1D)               (None, 48, 64)       24640       embedding_3[0][0]                \n",
            "__________________________________________________________________________________________________\n",
            "conv1d_6 (Conv1D)               (None, 46, 10)       1930        conv1d_5[0][0]                   \n",
            "__________________________________________________________________________________________________\n",
            "global_max_pooling1d_3 (GlobalM (None, 10)           0           conv1d_6[0][0]                   \n",
            "__________________________________________________________________________________________________\n",
            "input_13 (InputLayer)           [(None, 3)]          0                                            \n",
            "__________________________________________________________________________________________________\n",
            "concatenate_5 (Concatenate)     (None, 13)           0           global_max_pooling1d_3[0][0]     \n",
            "                                                                 input_13[0][0]                   \n",
            "__________________________________________________________________________________________________\n",
            "dense_17 (Dense)                (None, 64)           896         concatenate_5[0][0]              \n",
            "__________________________________________________________________________________________________\n",
            "dense_18 (Dense)                (None, 1)            65          dense_17[0][0]                   \n",
            "==================================================================================================\n",
            "Total params: 1,307,531\n",
            "Trainable params: 1,307,531\n",
            "Non-trainable params: 0\n",
            "__________________________________________________________________________________________________\n"
          ]
        }
      ],
      "source": [
        "def Build_model1():\n",
        "    # 3. Use one layer CNN to encode NLP features\n",
        "    input_nlp = Input(shape=(maxlen,))\n",
        "    embedding_layer = Embedding(max_features, 128)(input_nlp)\n",
        "    conv_layer1 = Conv1D(64, 3, activation='relu')(embedding_layer)\n",
        "    conv_layer2 = Conv1D(10, 3, activation='relu')(conv_layer1)\n",
        "    pooled_layer = GlobalMaxPooling1D()(conv_layer2)\n",
        "\n",
        "    # 4. Use a Deep Learning model that takes encoded features + demographic features to predict seriousness\n",
        "    input_demo = Input(shape=(demographic_features.shape[1],))\n",
        "    concat_layer = Concatenate()([pooled_layer, input_demo])\n",
        "    dense_layer = Dense(64, activation='relu')(concat_layer)\n",
        "    output_layer = Dense(1, activation='sigmoid')(dense_layer)\n",
        "\n",
        "\n",
        "    model = Model(inputs=[input_nlp, input_demo], outputs=output_layer)\n",
        "\n",
        "    # Compile and train the model\n",
        "    model.compile(optimizer='adam', loss='binary_crossentropy', metrics=['accuracy'])\n",
        "    model.summary()\n",
        "    return model\n",
        "model = Build_model1()"
      ]
    },
    {
      "cell_type": "code",
      "execution_count": null,
      "metadata": {
        "id": "8_NBlX1g7QLR",
        "outputId": "3513e0ea-1001-42eb-b0ab-248019f38f8a"
      },
      "outputs": [
        {
          "name": "stdout",
          "output_type": "stream",
          "text": [
            "Model: \"model\"\n",
            "__________________________________________________________________________________________________\n",
            "Layer (type)                    Output Shape         Param #     Connected to                     \n",
            "==================================================================================================\n",
            "input_1 (InputLayer)            [(None, 2911)]       0                                            \n",
            "__________________________________________________________________________________________________\n",
            "dense (Dense)                   (None, 128)          372736      input_1[0][0]                    \n",
            "__________________________________________________________________________________________________\n",
            "dense_1 (Dense)                 (None, 10)           1290        dense[0][0]                      \n",
            "__________________________________________________________________________________________________\n",
            "input_2 (InputLayer)            [(None, 3)]          0                                            \n",
            "__________________________________________________________________________________________________\n",
            "concatenate (Concatenate)       (None, 13)           0           dense_1[0][0]                    \n",
            "                                                                 input_2[0][0]                    \n",
            "__________________________________________________________________________________________________\n",
            "dense_2 (Dense)                 (None, 128)          1792        concatenate[0][0]                \n",
            "__________________________________________________________________________________________________\n",
            "dense_3 (Dense)                 (None, 64)           8256        dense_2[0][0]                    \n",
            "__________________________________________________________________________________________________\n",
            "dense_4 (Dense)                 (None, 1)            65          dense_3[0][0]                    \n",
            "==================================================================================================\n",
            "Total params: 384,139\n",
            "Trainable params: 384,139\n",
            "Non-trainable params: 0\n",
            "__________________________________________________________________________________________________\n"
          ]
        }
      ],
      "source": [
        "def Build_model2():\n",
        "    # 3. Use a Deep Learning model that takes NLP features + demographic features to predict seriousness_level\n",
        "    input_nlp = Input(shape=(nlp_features.shape[1],))\n",
        "    dense_layer1_nlp = Dense(128, activation='relu')(input_nlp)\n",
        "    dense_layer2_nlp = Dense(10, activation='relu')(dense_layer1_nlp)\n",
        "\n",
        "    input_demo = Input(shape=(demographic_features.shape[1],))\n",
        "    concat_layer = Concatenate()([dense_layer2_nlp, input_demo])\n",
        "    dense_layer1 = Dense(128, activation='relu')(concat_layer)\n",
        "    dense_layer2 = Dense(64, activation='relu')(dense_layer1)\n",
        "    output_layer = Dense(1, activation='sigmoid')(dense_layer2)\n",
        "\n",
        "    model = Model(inputs=[input_nlp, input_demo], outputs=output_layer)\n",
        "\n",
        "    # Compile and train the model\n",
        "    model.compile(optimizer='adam', loss='binary_crossentropy', metrics=['accuracy'])\n",
        "\n",
        "    model.summary()\n",
        "    return model\n",
        "model = Build_model2()"
      ]
    },
    {
      "cell_type": "code",
      "execution_count": null,
      "metadata": {
        "id": "jPAFzXnm7QLS"
      },
      "outputs": [],
      "source": []
    },
    {
      "cell_type": "code",
      "execution_count": null,
      "metadata": {
        "id": "B87iUELd7QLS",
        "outputId": "30544b0f-1e8a-4382-9dae-818869140f64",
        "scrolled": false
      },
      "outputs": [
        {
          "name": "stdout",
          "output_type": "stream",
          "text": [
            "(441350, 88)\n"
          ]
        }
      ],
      "source": [
        "\n",
        "# Prepare the target variable (seriousness) and split the data into training and testing sets\n",
        "'''\n",
        "\n",
        "target = faers_data['seriousness_level']\n",
        "print(faers_data.shape)\n",
        "\n",
        "faers_data_50_nlp, X_test_nlp, faers_data_50_demo, X_test_demo, faers_data_50_target, y_test = train_test_split(nlp_features, demographic_features, target, test_size=0.90, random_state=42, stratify=target)\n",
        "'''\n",
        "\n",
        "print(small_faers_data.shape)\n",
        "\n",
        "X_train_nlp, X_test_nlp, X_train_demo, X_test_demo, y_train, y_test = train_test_split(nlp_features, demographic_features, small_faers_target, test_size=0.2, random_state=42, stratify=small_faers_target)"
      ]
    },
    {
      "cell_type": "code",
      "execution_count": null,
      "metadata": {
        "id": "bbd5PXQm7QLS",
        "outputId": "f7ed13ad-9d1d-4396-d19c-518eac513117"
      },
      "outputs": [
        {
          "name": "stdout",
          "output_type": "stream",
          "text": [
            "Physical devices cannot be modified after being initialized\n",
            "Epoch 1/3\n",
            "35308/35308 [==============================] - 193s 5ms/step - loss: nan - accuracy: 0.4667 - val_loss: nan - val_accuracy: 0.4667\n",
            "Epoch 2/3\n",
            "35308/35308 [==============================] - 194s 5ms/step - loss: nan - accuracy: 0.4667 - val_loss: nan - val_accuracy: 0.4667\n",
            "Epoch 3/3\n",
            "35308/35308 [==============================] - 201s 6ms/step - loss: nan - accuracy: 0.4667 - val_loss: nan - val_accuracy: 0.4667\n"
          ]
        },
        {
          "data": {
            "text/plain": [
              "<keras.callbacks.History at 0x28565f60ac0>"
            ]
          },
          "execution_count": 25,
          "metadata": {},
          "output_type": "execute_result"
        }
      ],
      "source": [
        "import tensorflow as tf\n",
        "\n",
        "gpus = tf.config.experimental.list_physical_devices('GPU')\n",
        "if gpus:\n",
        "    try:\n",
        "        for gpu in gpus:\n",
        "            tf.config.experimental.set_memory_growth(gpu, True)\n",
        "    except RuntimeError as e:\n",
        "        print(e)\n",
        "\n",
        "model.fit([X_train_nlp.toarray(), X_train_demo], y_train, epochs=3, batch_size=10,\n",
        "          validation_data=([X_test_nlp.toarray(), X_test_demo], y_test))\n"
      ]
    },
    {
      "cell_type": "code",
      "execution_count": null,
      "metadata": {
        "id": "eySaOTFv7QLS"
      },
      "outputs": [],
      "source": [
        "\n",
        "# Make predictions on the test set\n",
        "y_pred = model.predict([X_test_nlp, X_test_demo])\n",
        "y_pred = np.round(y_pred).flatten().astype(int)\n",
        "\n",
        "# Print confusion matrix\n",
        "cm = confusion_matrix(y_test, y_pred)\n",
        "print(\"Confusion Matrix:\")\n",
        "print(cm)"
      ]
    },
    {
      "cell_type": "code",
      "execution_count": null,
      "metadata": {
        "id": "8NFJXKPt7QLT"
      },
      "outputs": [],
      "source": []
    },
    {
      "cell_type": "code",
      "execution_count": null,
      "metadata": {
        "id": "q0qb-iXa7QLT"
      },
      "outputs": [],
      "source": []
    },
    {
      "cell_type": "markdown",
      "metadata": {
        "id": "axTD0yrt7QLT"
      },
      "source": [
        "# Filter cases where patients were taking multiple medications"
      ]
    },
    {
      "cell_type": "code",
      "execution_count": null,
      "metadata": {
        "id": "_ikJMrew7QLT",
        "outputId": "6271f92c-736c-43d9-b2ed-7b9d395adf72"
      },
      "outputs": [
        {
          "data": {
            "text/plain": [
              "(740644, 87)"
            ]
          },
          "execution_count": 10,
          "metadata": {},
          "output_type": "execute_result"
        }
      ],
      "source": [
        "multiple_drugs = faers_data[faers_data.groupby(\"safetyreportid\")[\"medicinalproduct\"].transform(\"count\") > 1]\n",
        "multiple_drugs.shape"
      ]
    },
    {
      "cell_type": "code",
      "execution_count": null,
      "metadata": {
        "id": "OiamLhiH7QLT",
        "outputId": "9eb2e31c-3d6a-4ed9-9647-936e0a0cb310"
      },
      "outputs": [
        {
          "data": {
            "text/plain": [
              "9002414.0     9\n",
              "9319489.0     9\n",
              "9024284.0     8\n",
              "9539849.0     8\n",
              "8661027.0     8\n",
              "             ..\n",
              "11591373.0    2\n",
              "11591357.0    2\n",
              "11591132.0    2\n",
              "11590986.0    2\n",
              "9274674.0     2\n",
              "Name: safetyreportid, Length: 349983, dtype: int64"
            ]
          },
          "execution_count": 11,
          "metadata": {},
          "output_type": "execute_result"
        }
      ],
      "source": [
        "multiple_drugs.safetyreportid.value_counts()"
      ]
    },
    {
      "cell_type": "code",
      "execution_count": null,
      "metadata": {
        "id": "PNoGxVdu7QLU",
        "outputId": "da139fa7-1a6e-4df9-9067-5019e3dfbfdb"
      },
      "outputs": [
        {
          "data": {
            "text/html": [
              "<div>\n",
              "<style scoped>\n",
              "    .dataframe tbody tr th:only-of-type {\n",
              "        vertical-align: middle;\n",
              "    }\n",
              "\n",
              "    .dataframe tbody tr th {\n",
              "        vertical-align: top;\n",
              "    }\n",
              "\n",
              "    .dataframe thead th {\n",
              "        text-align: right;\n",
              "    }\n",
              "</style>\n",
              "<table border=\"1\" class=\"dataframe\">\n",
              "  <thead>\n",
              "    <tr style=\"text-align: right;\">\n",
              "      <th></th>\n",
              "      <th>Unnamed: 0.2</th>\n",
              "      <th>Unnamed: 0</th>\n",
              "      <th>Unnamed: 0.1</th>\n",
              "      <th>messagetype</th>\n",
              "      <th>messageformatversion</th>\n",
              "      <th>messageformatrelease</th>\n",
              "      <th>messagenumb</th>\n",
              "      <th>messagesenderidentifier</th>\n",
              "      <th>messagereceiveridentifier</th>\n",
              "      <th>messagedateformat</th>\n",
              "      <th>...</th>\n",
              "      <th>seriousnesslifethreatening</th>\n",
              "      <th>seriousnessdeath</th>\n",
              "      <th>drugcumulativedosagenumb</th>\n",
              "      <th>drugcumulativedosageunit</th>\n",
              "      <th>drugadditional</th>\n",
              "      <th>seriousnesscongenitalanomali</th>\n",
              "      <th>drugrecurrence</th>\n",
              "      <th>drugrecuraction</th>\n",
              "      <th>drugtreatmentduration</th>\n",
              "      <th>drugtreatmentdurationunit</th>\n",
              "    </tr>\n",
              "  </thead>\n",
              "  <tbody>\n",
              "    <tr>\n",
              "      <th>565154</th>\n",
              "      <td>565154</td>\n",
              "      <td>565154</td>\n",
              "      <td>248082.0</td>\n",
              "      <td>NaN</td>\n",
              "      <td>NaN</td>\n",
              "      <td>NaN</td>\n",
              "      <td>NaN</td>\n",
              "      <td>NaN</td>\n",
              "      <td>NaN</td>\n",
              "      <td>NaN</td>\n",
              "      <td>...</td>\n",
              "      <td>NaN</td>\n",
              "      <td>NaN</td>\n",
              "      <td>NaN</td>\n",
              "      <td>NaN</td>\n",
              "      <td>NaN</td>\n",
              "      <td>NaN</td>\n",
              "      <td>NaN</td>\n",
              "      <td>NaN</td>\n",
              "      <td>NaN</td>\n",
              "      <td>NaN</td>\n",
              "    </tr>\n",
              "    <tr>\n",
              "      <th>873045</th>\n",
              "      <td>873045</td>\n",
              "      <td>873045</td>\n",
              "      <td>157112.0</td>\n",
              "      <td>NaN</td>\n",
              "      <td>NaN</td>\n",
              "      <td>NaN</td>\n",
              "      <td>NaN</td>\n",
              "      <td>NaN</td>\n",
              "      <td>NaN</td>\n",
              "      <td>NaN</td>\n",
              "      <td>...</td>\n",
              "      <td>NaN</td>\n",
              "      <td>NaN</td>\n",
              "      <td>NaN</td>\n",
              "      <td>NaN</td>\n",
              "      <td>NaN</td>\n",
              "      <td>NaN</td>\n",
              "      <td>NaN</td>\n",
              "      <td>NaN</td>\n",
              "      <td>NaN</td>\n",
              "      <td>NaN</td>\n",
              "    </tr>\n",
              "    <tr>\n",
              "      <th>1210984</th>\n",
              "      <td>1210984</td>\n",
              "      <td>1210984</td>\n",
              "      <td>180346.0</td>\n",
              "      <td>NaN</td>\n",
              "      <td>NaN</td>\n",
              "      <td>NaN</td>\n",
              "      <td>NaN</td>\n",
              "      <td>NaN</td>\n",
              "      <td>NaN</td>\n",
              "      <td>NaN</td>\n",
              "      <td>...</td>\n",
              "      <td>NaN</td>\n",
              "      <td>NaN</td>\n",
              "      <td>NaN</td>\n",
              "      <td>NaN</td>\n",
              "      <td>NaN</td>\n",
              "      <td>NaN</td>\n",
              "      <td>NaN</td>\n",
              "      <td>NaN</td>\n",
              "      <td>NaN</td>\n",
              "      <td>NaN</td>\n",
              "    </tr>\n",
              "    <tr>\n",
              "      <th>1531089</th>\n",
              "      <td>1531089</td>\n",
              "      <td>211180</td>\n",
              "      <td>211180.0</td>\n",
              "      <td>NaN</td>\n",
              "      <td>NaN</td>\n",
              "      <td>NaN</td>\n",
              "      <td>NaN</td>\n",
              "      <td>NaN</td>\n",
              "      <td>NaN</td>\n",
              "      <td>NaN</td>\n",
              "      <td>...</td>\n",
              "      <td>NaN</td>\n",
              "      <td>NaN</td>\n",
              "      <td>NaN</td>\n",
              "      <td>NaN</td>\n",
              "      <td>3.0</td>\n",
              "      <td>NaN</td>\n",
              "      <td>NaN</td>\n",
              "      <td>NaN</td>\n",
              "      <td>NaN</td>\n",
              "      <td>NaN</td>\n",
              "    </tr>\n",
              "    <tr>\n",
              "      <th>2228849</th>\n",
              "      <td>2228849</td>\n",
              "      <td>908940</td>\n",
              "      <td>220152.0</td>\n",
              "      <td>NaN</td>\n",
              "      <td>NaN</td>\n",
              "      <td>NaN</td>\n",
              "      <td>NaN</td>\n",
              "      <td>NaN</td>\n",
              "      <td>NaN</td>\n",
              "      <td>NaN</td>\n",
              "      <td>...</td>\n",
              "      <td>NaN</td>\n",
              "      <td>NaN</td>\n",
              "      <td>NaN</td>\n",
              "      <td>NaN</td>\n",
              "      <td>1.0</td>\n",
              "      <td>NaN</td>\n",
              "      <td>NaN</td>\n",
              "      <td>NaN</td>\n",
              "      <td>NaN</td>\n",
              "      <td>NaN</td>\n",
              "    </tr>\n",
              "    <tr>\n",
              "      <th>2566682</th>\n",
              "      <td>2566682</td>\n",
              "      <td>1246773</td>\n",
              "      <td>205071.0</td>\n",
              "      <td>NaN</td>\n",
              "      <td>NaN</td>\n",
              "      <td>NaN</td>\n",
              "      <td>NaN</td>\n",
              "      <td>NaN</td>\n",
              "      <td>NaN</td>\n",
              "      <td>NaN</td>\n",
              "      <td>...</td>\n",
              "      <td>1.0</td>\n",
              "      <td>NaN</td>\n",
              "      <td>NaN</td>\n",
              "      <td>NaN</td>\n",
              "      <td>3.0</td>\n",
              "      <td>NaN</td>\n",
              "      <td>NaN</td>\n",
              "      <td>NaN</td>\n",
              "      <td>NaN</td>\n",
              "      <td>NaN</td>\n",
              "    </tr>\n",
              "    <tr>\n",
              "      <th>4028415</th>\n",
              "      <td>4028415</td>\n",
              "      <td>197390</td>\n",
              "      <td>197390.0</td>\n",
              "      <td>NaN</td>\n",
              "      <td>NaN</td>\n",
              "      <td>NaN</td>\n",
              "      <td>NaN</td>\n",
              "      <td>NaN</td>\n",
              "      <td>NaN</td>\n",
              "      <td>NaN</td>\n",
              "      <td>...</td>\n",
              "      <td>NaN</td>\n",
              "      <td>NaN</td>\n",
              "      <td>NaN</td>\n",
              "      <td>NaN</td>\n",
              "      <td>NaN</td>\n",
              "      <td>NaN</td>\n",
              "      <td>NaN</td>\n",
              "      <td>NaN</td>\n",
              "      <td>NaN</td>\n",
              "      <td>NaN</td>\n",
              "    </tr>\n",
              "    <tr>\n",
              "      <th>4303245</th>\n",
              "      <td>4303245</td>\n",
              "      <td>472220</td>\n",
              "      <td>156163.0</td>\n",
              "      <td>NaN</td>\n",
              "      <td>NaN</td>\n",
              "      <td>NaN</td>\n",
              "      <td>NaN</td>\n",
              "      <td>NaN</td>\n",
              "      <td>NaN</td>\n",
              "      <td>NaN</td>\n",
              "      <td>...</td>\n",
              "      <td>NaN</td>\n",
              "      <td>NaN</td>\n",
              "      <td>NaN</td>\n",
              "      <td>NaN</td>\n",
              "      <td>3.0</td>\n",
              "      <td>NaN</td>\n",
              "      <td>NaN</td>\n",
              "      <td>NaN</td>\n",
              "      <td>NaN</td>\n",
              "      <td>NaN</td>\n",
              "    </tr>\n",
              "    <tr>\n",
              "      <th>4688534</th>\n",
              "      <td>4688534</td>\n",
              "      <td>857509</td>\n",
              "      <td>227838.0</td>\n",
              "      <td>NaN</td>\n",
              "      <td>NaN</td>\n",
              "      <td>NaN</td>\n",
              "      <td>NaN</td>\n",
              "      <td>NaN</td>\n",
              "      <td>NaN</td>\n",
              "      <td>NaN</td>\n",
              "      <td>...</td>\n",
              "      <td>NaN</td>\n",
              "      <td>NaN</td>\n",
              "      <td>NaN</td>\n",
              "      <td>NaN</td>\n",
              "      <td>NaN</td>\n",
              "      <td>NaN</td>\n",
              "      <td>NaN</td>\n",
              "      <td>NaN</td>\n",
              "      <td>NaN</td>\n",
              "      <td>NaN</td>\n",
              "    </tr>\n",
              "  </tbody>\n",
              "</table>\n",
              "<p>9 rows × 87 columns</p>\n",
              "</div>"
            ],
            "text/plain": [
              "         Unnamed: 0.2  Unnamed: 0  Unnamed: 0.1 messagetype  \\\n",
              "565154         565154      565154      248082.0         NaN   \n",
              "873045         873045      873045      157112.0         NaN   \n",
              "1210984       1210984     1210984      180346.0         NaN   \n",
              "1531089       1531089      211180      211180.0         NaN   \n",
              "2228849       2228849      908940      220152.0         NaN   \n",
              "2566682       2566682     1246773      205071.0         NaN   \n",
              "4028415       4028415      197390      197390.0         NaN   \n",
              "4303245       4303245      472220      156163.0         NaN   \n",
              "4688534       4688534      857509      227838.0         NaN   \n",
              "\n",
              "         messageformatversion  messageformatrelease messagenumb  \\\n",
              "565154                    NaN                   NaN         NaN   \n",
              "873045                    NaN                   NaN         NaN   \n",
              "1210984                   NaN                   NaN         NaN   \n",
              "1531089                   NaN                   NaN         NaN   \n",
              "2228849                   NaN                   NaN         NaN   \n",
              "2566682                   NaN                   NaN         NaN   \n",
              "4028415                   NaN                   NaN         NaN   \n",
              "4303245                   NaN                   NaN         NaN   \n",
              "4688534                   NaN                   NaN         NaN   \n",
              "\n",
              "        messagesenderidentifier messagereceiveridentifier  messagedateformat  \\\n",
              "565154                      NaN                       NaN                NaN   \n",
              "873045                      NaN                       NaN                NaN   \n",
              "1210984                     NaN                       NaN                NaN   \n",
              "1531089                     NaN                       NaN                NaN   \n",
              "2228849                     NaN                       NaN                NaN   \n",
              "2566682                     NaN                       NaN                NaN   \n",
              "4028415                     NaN                       NaN                NaN   \n",
              "4303245                     NaN                       NaN                NaN   \n",
              "4688534                     NaN                       NaN                NaN   \n",
              "\n",
              "         ...  seriousnesslifethreatening  seriousnessdeath  \\\n",
              "565154   ...                         NaN               NaN   \n",
              "873045   ...                         NaN               NaN   \n",
              "1210984  ...                         NaN               NaN   \n",
              "1531089  ...                         NaN               NaN   \n",
              "2228849  ...                         NaN               NaN   \n",
              "2566682  ...                         1.0               NaN   \n",
              "4028415  ...                         NaN               NaN   \n",
              "4303245  ...                         NaN               NaN   \n",
              "4688534  ...                         NaN               NaN   \n",
              "\n",
              "         drugcumulativedosagenumb drugcumulativedosageunit drugadditional  \\\n",
              "565154                        NaN                      NaN            NaN   \n",
              "873045                        NaN                      NaN            NaN   \n",
              "1210984                       NaN                      NaN            NaN   \n",
              "1531089                       NaN                      NaN            3.0   \n",
              "2228849                       NaN                      NaN            1.0   \n",
              "2566682                       NaN                      NaN            3.0   \n",
              "4028415                       NaN                      NaN            NaN   \n",
              "4303245                       NaN                      NaN            3.0   \n",
              "4688534                       NaN                      NaN            NaN   \n",
              "\n",
              "         seriousnesscongenitalanomali  drugrecurrence  drugrecuraction  \\\n",
              "565154                            NaN             NaN              NaN   \n",
              "873045                            NaN             NaN              NaN   \n",
              "1210984                           NaN             NaN              NaN   \n",
              "1531089                           NaN             NaN              NaN   \n",
              "2228849                           NaN             NaN              NaN   \n",
              "2566682                           NaN             NaN              NaN   \n",
              "4028415                           NaN             NaN              NaN   \n",
              "4303245                           NaN             NaN              NaN   \n",
              "4688534                           NaN             NaN              NaN   \n",
              "\n",
              "         drugtreatmentduration  drugtreatmentdurationunit  \n",
              "565154                     NaN                        NaN  \n",
              "873045                     NaN                        NaN  \n",
              "1210984                    NaN                        NaN  \n",
              "1531089                    NaN                        NaN  \n",
              "2228849                    NaN                        NaN  \n",
              "2566682                    NaN                        NaN  \n",
              "4028415                    NaN                        NaN  \n",
              "4303245                    NaN                        NaN  \n",
              "4688534                    NaN                        NaN  \n",
              "\n",
              "[9 rows x 87 columns]"
            ]
          },
          "execution_count": 14,
          "metadata": {},
          "output_type": "execute_result"
        }
      ],
      "source": [
        "multiple_drugs[multiple_drugs.safetyreportid==9002414]"
      ]
    },
    {
      "cell_type": "markdown",
      "metadata": {
        "id": "MBt1VibI7QLU"
      },
      "source": [
        "# Create drug pairs for each patient"
      ]
    },
    {
      "cell_type": "code",
      "execution_count": null,
      "metadata": {
        "id": "r52OiLWp7QLU"
      },
      "outputs": [],
      "source": [
        "def create_drug_pairs(drugs):\n",
        "    return list(itertools.combinations(sorted(drugs), 2))\n",
        "\n",
        "drug_pairs_data = multiple_drugs.groupby(\"safetyreportid\")[\"medicinalproduct\"].apply(create_drug_pairs).reset_index()\n"
      ]
    },
    {
      "cell_type": "code",
      "execution_count": null,
      "metadata": {
        "id": "hKXnfEl67QLU",
        "outputId": "320c117b-e441-466d-d823-4c2174661748"
      },
      "outputs": [
        {
          "data": {
            "text/html": [
              "<div>\n",
              "<style scoped>\n",
              "    .dataframe tbody tr th:only-of-type {\n",
              "        vertical-align: middle;\n",
              "    }\n",
              "\n",
              "    .dataframe tbody tr th {\n",
              "        vertical-align: top;\n",
              "    }\n",
              "\n",
              "    .dataframe thead th {\n",
              "        text-align: right;\n",
              "    }\n",
              "</style>\n",
              "<table border=\"1\" class=\"dataframe\">\n",
              "  <thead>\n",
              "    <tr style=\"text-align: right;\">\n",
              "      <th></th>\n",
              "      <th>safetyreportid</th>\n",
              "      <th>medicinalproduct</th>\n",
              "    </tr>\n",
              "  </thead>\n",
              "  <tbody>\n",
              "    <tr>\n",
              "      <th>0</th>\n",
              "      <td>3758721</td>\n",
              "      <td>[(SYNTHROID, SYNTHROID)]</td>\n",
              "    </tr>\n",
              "    <tr>\n",
              "      <th>1</th>\n",
              "      <td>3759885</td>\n",
              "      <td>[(HUMULIN R (INSULIN HUMAN), INSULIN NOS)]</td>\n",
              "    </tr>\n",
              "    <tr>\n",
              "      <th>2</th>\n",
              "      <td>3839792</td>\n",
              "      <td>[(COMBIVIR, RETROVIR), (COMBIVIR, RETROVIR), (...</td>\n",
              "    </tr>\n",
              "    <tr>\n",
              "      <th>3</th>\n",
              "      <td>3942227</td>\n",
              "      <td>[(GLIVEC, RETINOIC ACID)]</td>\n",
              "    </tr>\n",
              "    <tr>\n",
              "      <th>4</th>\n",
              "      <td>3948114</td>\n",
              "      <td>[(HALDOL, ZYPREXA)]</td>\n",
              "    </tr>\n",
              "  </tbody>\n",
              "</table>\n",
              "</div>"
            ],
            "text/plain": [
              "   safetyreportid                                   medicinalproduct\n",
              "0         3758721                           [(SYNTHROID, SYNTHROID)]\n",
              "1         3759885         [(HUMULIN R (INSULIN HUMAN), INSULIN NOS)]\n",
              "2         3839792  [(COMBIVIR, RETROVIR), (COMBIVIR, RETROVIR), (...\n",
              "3         3942227                          [(GLIVEC, RETINOIC ACID)]\n",
              "4         3948114                                [(HALDOL, ZYPREXA)]"
            ]
          },
          "execution_count": 82,
          "metadata": {},
          "output_type": "execute_result"
        }
      ],
      "source": [
        "drug_pairs_data.head()"
      ]
    },
    {
      "cell_type": "code",
      "execution_count": null,
      "metadata": {
        "id": "XWGrsNYL7QLU",
        "outputId": "54daea8f-1f43-4c31-cbb7-05e396b897e0"
      },
      "outputs": [
        {
          "data": {
            "text/html": [
              "<div>\n",
              "<style scoped>\n",
              "    .dataframe tbody tr th:only-of-type {\n",
              "        vertical-align: middle;\n",
              "    }\n",
              "\n",
              "    .dataframe tbody tr th {\n",
              "        vertical-align: top;\n",
              "    }\n",
              "\n",
              "    .dataframe thead th {\n",
              "        text-align: right;\n",
              "    }\n",
              "</style>\n",
              "<table border=\"1\" class=\"dataframe\">\n",
              "  <thead>\n",
              "    <tr style=\"text-align: right;\">\n",
              "      <th></th>\n",
              "      <th>safetyreportid</th>\n",
              "      <th>medicinalproduct</th>\n",
              "    </tr>\n",
              "  </thead>\n",
              "  <tbody>\n",
              "    <tr>\n",
              "      <th>0</th>\n",
              "      <td>3758721</td>\n",
              "      <td>(SYNTHROID, SYNTHROID)</td>\n",
              "    </tr>\n",
              "    <tr>\n",
              "      <th>1</th>\n",
              "      <td>3759885</td>\n",
              "      <td>(HUMULIN R (INSULIN HUMAN), INSULIN NOS)</td>\n",
              "    </tr>\n",
              "    <tr>\n",
              "      <th>2</th>\n",
              "      <td>3839792</td>\n",
              "      <td>(COMBIVIR, RETROVIR)</td>\n",
              "    </tr>\n",
              "    <tr>\n",
              "      <th>2</th>\n",
              "      <td>3839792</td>\n",
              "      <td>(COMBIVIR, RETROVIR)</td>\n",
              "    </tr>\n",
              "    <tr>\n",
              "      <th>2</th>\n",
              "      <td>3839792</td>\n",
              "      <td>(RETROVIR, RETROVIR)</td>\n",
              "    </tr>\n",
              "    <tr>\n",
              "      <th>...</th>\n",
              "      <td>...</td>\n",
              "      <td>...</td>\n",
              "    </tr>\n",
              "    <tr>\n",
              "      <th>349978</th>\n",
              "      <td>14028355</td>\n",
              "      <td>(COZAAR, COZAAR)</td>\n",
              "    </tr>\n",
              "    <tr>\n",
              "      <th>349979</th>\n",
              "      <td>14028357</td>\n",
              "      <td>(GILENYA, GILENYA)</td>\n",
              "    </tr>\n",
              "    <tr>\n",
              "      <th>349980</th>\n",
              "      <td>14028370</td>\n",
              "      <td>(ARCOXIA, PREDNISONE.)</td>\n",
              "    </tr>\n",
              "    <tr>\n",
              "      <th>349981</th>\n",
              "      <td>14028386</td>\n",
              "      <td>(COSENTYX, METHOTREXATE.)</td>\n",
              "    </tr>\n",
              "    <tr>\n",
              "      <th>349982</th>\n",
              "      <td>14030122</td>\n",
              "      <td>(OMEPRAZOLE., TOUJEO)</td>\n",
              "    </tr>\n",
              "  </tbody>\n",
              "</table>\n",
              "<p>440976 rows × 2 columns</p>\n",
              "</div>"
            ],
            "text/plain": [
              "        safetyreportid                          medicinalproduct\n",
              "0              3758721                    (SYNTHROID, SYNTHROID)\n",
              "1              3759885  (HUMULIN R (INSULIN HUMAN), INSULIN NOS)\n",
              "2              3839792                      (COMBIVIR, RETROVIR)\n",
              "2              3839792                      (COMBIVIR, RETROVIR)\n",
              "2              3839792                      (RETROVIR, RETROVIR)\n",
              "...                ...                                       ...\n",
              "349978        14028355                          (COZAAR, COZAAR)\n",
              "349979        14028357                        (GILENYA, GILENYA)\n",
              "349980        14028370                    (ARCOXIA, PREDNISONE.)\n",
              "349981        14028386                 (COSENTYX, METHOTREXATE.)\n",
              "349982        14030122                     (OMEPRAZOLE., TOUJEO)\n",
              "\n",
              "[440976 rows x 2 columns]"
            ]
          },
          "execution_count": 83,
          "metadata": {},
          "output_type": "execute_result"
        }
      ],
      "source": [
        "drug_pairs_data.explode(\"medicinalproduct\")"
      ]
    },
    {
      "cell_type": "code",
      "execution_count": null,
      "metadata": {
        "id": "tdDWIz5P7QLV",
        "outputId": "cda6112c-2970-4f14-d7c9-12af33fa2f0d",
        "scrolled": true
      },
      "outputs": [
        {
          "data": {
            "text/plain": [
              "(1069320, 88)"
            ]
          },
          "execution_count": 15,
          "metadata": {},
          "output_type": "execute_result"
        }
      ],
      "source": [
        "drug_pair_adverse_events = drug_pairs_data.explode(\"medicinalproduct\").merge(multiple_drugs, on=\"safetyreportid\")\n",
        "drug_pair_adverse_events.shape\n"
      ]
    },
    {
      "cell_type": "code",
      "execution_count": null,
      "metadata": {
        "id": "vL9pc1107QLV"
      },
      "outputs": [],
      "source": [
        "\n",
        "drug_pair_adverse_events = drug_pair_adverse_events.rename(columns={'medicinalproduct_x':'medicinalproduct'})\n"
      ]
    },
    {
      "cell_type": "code",
      "execution_count": null,
      "metadata": {
        "id": "VBw7EZZj7QLV",
        "outputId": "7c88d2f8-f060-43cc-eb35-1db9da9b89c6"
      },
      "outputs": [
        {
          "data": {
            "text/html": [
              "<div>\n",
              "<style scoped>\n",
              "    .dataframe tbody tr th:only-of-type {\n",
              "        vertical-align: middle;\n",
              "    }\n",
              "\n",
              "    .dataframe tbody tr th {\n",
              "        vertical-align: top;\n",
              "    }\n",
              "\n",
              "    .dataframe thead th {\n",
              "        text-align: right;\n",
              "    }\n",
              "</style>\n",
              "<table border=\"1\" class=\"dataframe\">\n",
              "  <thead>\n",
              "    <tr style=\"text-align: right;\">\n",
              "      <th></th>\n",
              "      <th>safetyreportid</th>\n",
              "      <th>medicinalproduct</th>\n",
              "      <th>Unnamed: 0.2</th>\n",
              "      <th>Unnamed: 0</th>\n",
              "      <th>Unnamed: 0.1</th>\n",
              "      <th>messagetype</th>\n",
              "      <th>messageformatversion</th>\n",
              "      <th>messageformatrelease</th>\n",
              "      <th>messagenumb</th>\n",
              "      <th>messagesenderidentifier</th>\n",
              "      <th>...</th>\n",
              "      <th>seriousnesslifethreatening</th>\n",
              "      <th>seriousnessdeath</th>\n",
              "      <th>drugcumulativedosagenumb</th>\n",
              "      <th>drugcumulativedosageunit</th>\n",
              "      <th>drugadditional</th>\n",
              "      <th>seriousnesscongenitalanomali</th>\n",
              "      <th>drugrecurrence</th>\n",
              "      <th>drugrecuraction</th>\n",
              "      <th>drugtreatmentduration</th>\n",
              "      <th>drugtreatmentdurationunit</th>\n",
              "    </tr>\n",
              "  </thead>\n",
              "  <tbody>\n",
              "    <tr>\n",
              "      <th>0</th>\n",
              "      <td>3758721</td>\n",
              "      <td>(SYNTHROID, SYNTHROID)</td>\n",
              "      <td>4302656</td>\n",
              "      <td>471631</td>\n",
              "      <td>155574.0</td>\n",
              "      <td>NaN</td>\n",
              "      <td>NaN</td>\n",
              "      <td>NaN</td>\n",
              "      <td>NaN</td>\n",
              "      <td>NaN</td>\n",
              "      <td>...</td>\n",
              "      <td>NaN</td>\n",
              "      <td>NaN</td>\n",
              "      <td>NaN</td>\n",
              "      <td>NaN</td>\n",
              "      <td>3.0</td>\n",
              "      <td>NaN</td>\n",
              "      <td>NaN</td>\n",
              "      <td>NaN</td>\n",
              "      <td>NaN</td>\n",
              "      <td>NaN</td>\n",
              "    </tr>\n",
              "    <tr>\n",
              "      <th>1</th>\n",
              "      <td>3758721</td>\n",
              "      <td>(SYNTHROID, SYNTHROID)</td>\n",
              "      <td>4688324</td>\n",
              "      <td>857299</td>\n",
              "      <td>227628.0</td>\n",
              "      <td>NaN</td>\n",
              "      <td>NaN</td>\n",
              "      <td>NaN</td>\n",
              "      <td>NaN</td>\n",
              "      <td>NaN</td>\n",
              "      <td>...</td>\n",
              "      <td>NaN</td>\n",
              "      <td>NaN</td>\n",
              "      <td>NaN</td>\n",
              "      <td>NaN</td>\n",
              "      <td>NaN</td>\n",
              "      <td>NaN</td>\n",
              "      <td>NaN</td>\n",
              "      <td>NaN</td>\n",
              "      <td>NaN</td>\n",
              "      <td>NaN</td>\n",
              "    </tr>\n",
              "    <tr>\n",
              "      <th>2</th>\n",
              "      <td>3759885</td>\n",
              "      <td>(HUMULIN R (INSULIN HUMAN), INSULIN NOS)</td>\n",
              "      <td>235884</td>\n",
              "      <td>235884</td>\n",
              "      <td>235884.0</td>\n",
              "      <td>NaN</td>\n",
              "      <td>NaN</td>\n",
              "      <td>NaN</td>\n",
              "      <td>NaN</td>\n",
              "      <td>NaN</td>\n",
              "      <td>...</td>\n",
              "      <td>1.0</td>\n",
              "      <td>NaN</td>\n",
              "      <td>NaN</td>\n",
              "      <td>NaN</td>\n",
              "      <td>NaN</td>\n",
              "      <td>NaN</td>\n",
              "      <td>NaN</td>\n",
              "      <td>NaN</td>\n",
              "      <td>NaN</td>\n",
              "      <td>NaN</td>\n",
              "    </tr>\n",
              "    <tr>\n",
              "      <th>3</th>\n",
              "      <td>3759885</td>\n",
              "      <td>(HUMULIN R (INSULIN HUMAN), INSULIN NOS)</td>\n",
              "      <td>5701020</td>\n",
              "      <td>565106</td>\n",
              "      <td>109841.0</td>\n",
              "      <td>NaN</td>\n",
              "      <td>NaN</td>\n",
              "      <td>NaN</td>\n",
              "      <td>NaN</td>\n",
              "      <td>NaN</td>\n",
              "      <td>...</td>\n",
              "      <td>1.0</td>\n",
              "      <td>NaN</td>\n",
              "      <td>NaN</td>\n",
              "      <td>NaN</td>\n",
              "      <td>NaN</td>\n",
              "      <td>NaN</td>\n",
              "      <td>NaN</td>\n",
              "      <td>NaN</td>\n",
              "      <td>NaN</td>\n",
              "      <td>NaN</td>\n",
              "    </tr>\n",
              "    <tr>\n",
              "      <th>4</th>\n",
              "      <td>3839792</td>\n",
              "      <td>(COMBIVIR, RETROVIR)</td>\n",
              "      <td>755043</td>\n",
              "      <td>755043</td>\n",
              "      <td>39110.0</td>\n",
              "      <td>NaN</td>\n",
              "      <td>NaN</td>\n",
              "      <td>NaN</td>\n",
              "      <td>NaN</td>\n",
              "      <td>NaN</td>\n",
              "      <td>...</td>\n",
              "      <td>NaN</td>\n",
              "      <td>NaN</td>\n",
              "      <td>NaN</td>\n",
              "      <td>NaN</td>\n",
              "      <td>NaN</td>\n",
              "      <td>NaN</td>\n",
              "      <td>NaN</td>\n",
              "      <td>NaN</td>\n",
              "      <td>NaN</td>\n",
              "      <td>NaN</td>\n",
              "    </tr>\n",
              "  </tbody>\n",
              "</table>\n",
              "<p>5 rows × 88 columns</p>\n",
              "</div>"
            ],
            "text/plain": [
              "   safetyreportid                          medicinalproduct  Unnamed: 0.2  \\\n",
              "0         3758721                    (SYNTHROID, SYNTHROID)       4302656   \n",
              "1         3758721                    (SYNTHROID, SYNTHROID)       4688324   \n",
              "2         3759885  (HUMULIN R (INSULIN HUMAN), INSULIN NOS)        235884   \n",
              "3         3759885  (HUMULIN R (INSULIN HUMAN), INSULIN NOS)       5701020   \n",
              "4         3839792                      (COMBIVIR, RETROVIR)        755043   \n",
              "\n",
              "   Unnamed: 0  Unnamed: 0.1 messagetype  messageformatversion  \\\n",
              "0      471631      155574.0         NaN                   NaN   \n",
              "1      857299      227628.0         NaN                   NaN   \n",
              "2      235884      235884.0         NaN                   NaN   \n",
              "3      565106      109841.0         NaN                   NaN   \n",
              "4      755043       39110.0         NaN                   NaN   \n",
              "\n",
              "   messageformatrelease messagenumb messagesenderidentifier  ...  \\\n",
              "0                   NaN         NaN                     NaN  ...   \n",
              "1                   NaN         NaN                     NaN  ...   \n",
              "2                   NaN         NaN                     NaN  ...   \n",
              "3                   NaN         NaN                     NaN  ...   \n",
              "4                   NaN         NaN                     NaN  ...   \n",
              "\n",
              "  seriousnesslifethreatening  seriousnessdeath  drugcumulativedosagenumb  \\\n",
              "0                        NaN               NaN                       NaN   \n",
              "1                        NaN               NaN                       NaN   \n",
              "2                        1.0               NaN                       NaN   \n",
              "3                        1.0               NaN                       NaN   \n",
              "4                        NaN               NaN                       NaN   \n",
              "\n",
              "   drugcumulativedosageunit drugadditional seriousnesscongenitalanomali  \\\n",
              "0                       NaN            3.0                          NaN   \n",
              "1                       NaN            NaN                          NaN   \n",
              "2                       NaN            NaN                          NaN   \n",
              "3                       NaN            NaN                          NaN   \n",
              "4                       NaN            NaN                          NaN   \n",
              "\n",
              "   drugrecurrence  drugrecuraction  drugtreatmentduration  \\\n",
              "0             NaN              NaN                    NaN   \n",
              "1             NaN              NaN                    NaN   \n",
              "2             NaN              NaN                    NaN   \n",
              "3             NaN              NaN                    NaN   \n",
              "4             NaN              NaN                    NaN   \n",
              "\n",
              "   drugtreatmentdurationunit  \n",
              "0                        NaN  \n",
              "1                        NaN  \n",
              "2                        NaN  \n",
              "3                        NaN  \n",
              "4                        NaN  \n",
              "\n",
              "[5 rows x 88 columns]"
            ]
          },
          "execution_count": 150,
          "metadata": {},
          "output_type": "execute_result"
        }
      ],
      "source": [
        "drug_pair_adverse_events.head()"
      ]
    },
    {
      "cell_type": "code",
      "execution_count": null,
      "metadata": {
        "id": "9L2B96SL7QLV",
        "outputId": "9e5041e7-97cf-4a52-f1d2-cf511505c1c6"
      },
      "outputs": [
        {
          "data": {
            "text/plain": [
              "Myocardial infarction           24243\n",
              "Drug ineffective                21490\n",
              "Death                           16401\n",
              "Cerebrovascular accident        14555\n",
              "Gastrointestinal haemorrhage    13543\n",
              "Fatigue                         13335\n",
              "Off label use                   13218\n",
              "Injury                          12222\n",
              "Dyspnoea                        11695\n",
              "Diarrhoea                       11220\n",
              "Headache                        11043\n",
              "Gynaecomastia                   10965\n",
              "Nausea                          10421\n",
              "Malaise                          9879\n",
              "Pain                             9637\n",
              "Drug hypersensitivity            8551\n",
              "Pneumonia                        7809\n",
              "Dizziness                        7772\n",
              "Drug dose omission               6614\n",
              "Product use issue                6116\n",
              "Name: reactionmeddrapt, dtype: int64"
            ]
          },
          "execution_count": 17,
          "metadata": {},
          "output_type": "execute_result"
        }
      ],
      "source": [
        "drug_pair_adverse_events.reactionmeddrapt.value_counts().head(20)"
      ]
    },
    {
      "cell_type": "code",
      "execution_count": null,
      "metadata": {
        "id": "h1_O2ZeH7QLW"
      },
      "outputs": [],
      "source": [
        "drug_pair_adverse_events['seriousness_level'] = 0\n",
        "drug_pair_adverse_events.loc[drug_pair_adverse_events['serious']==1, 'seriousness_level'] =1"
      ]
    },
    {
      "cell_type": "code",
      "execution_count": null,
      "metadata": {
        "id": "btelIUrN7QLW",
        "outputId": "a3c42652-76d0-45ed-c317-75b5ed3b075f"
      },
      "outputs": [
        {
          "data": {
            "text/plain": [
              "(123660, 2)"
            ]
          },
          "execution_count": 19,
          "metadata": {},
          "output_type": "execute_result"
        }
      ],
      "source": [
        "adverse_event_counts = drug_pair_adverse_events.groupby(\"medicinalproduct\")[\"seriousness_level\"].value_counts().unstack().fillna(0)\n",
        "adverse_event_counts.shape"
      ]
    },
    {
      "cell_type": "code",
      "execution_count": null,
      "metadata": {
        "id": "x9uBfVEG7QLW",
        "outputId": "cfaaeec3-64cd-44f5-ed36-262372def3e4",
        "scrolled": true
      },
      "outputs": [
        {
          "data": {
            "text/html": [
              "<div>\n",
              "<style scoped>\n",
              "    .dataframe tbody tr th:only-of-type {\n",
              "        vertical-align: middle;\n",
              "    }\n",
              "\n",
              "    .dataframe tbody tr th {\n",
              "        vertical-align: top;\n",
              "    }\n",
              "\n",
              "    .dataframe thead th {\n",
              "        text-align: right;\n",
              "    }\n",
              "</style>\n",
              "<table border=\"1\" class=\"dataframe\">\n",
              "  <thead>\n",
              "    <tr style=\"text-align: right;\">\n",
              "      <th></th>\n",
              "      <th>drugstartdate_dt</th>\n",
              "      <th>drugstartdate</th>\n",
              "      <th>drugenddate_dt</th>\n",
              "      <th>drugenddate</th>\n",
              "      <th>difference</th>\n",
              "    </tr>\n",
              "  </thead>\n",
              "  <tbody>\n",
              "    <tr>\n",
              "      <th>0</th>\n",
              "      <td>NaT</td>\n",
              "      <td>NaN</td>\n",
              "      <td>NaT</td>\n",
              "      <td>NaN</td>\n",
              "      <td>NaT</td>\n",
              "    </tr>\n",
              "    <tr>\n",
              "      <th>1</th>\n",
              "      <td>NaT</td>\n",
              "      <td>NaN</td>\n",
              "      <td>NaT</td>\n",
              "      <td>NaN</td>\n",
              "      <td>NaT</td>\n",
              "    </tr>\n",
              "    <tr>\n",
              "      <th>2</th>\n",
              "      <td>2000-02-08</td>\n",
              "      <td>20000208.0</td>\n",
              "      <td>2000-02-08</td>\n",
              "      <td>20000208.0</td>\n",
              "      <td>0 days</td>\n",
              "    </tr>\n",
              "    <tr>\n",
              "      <th>3</th>\n",
              "      <td>2000-02-08</td>\n",
              "      <td>20000208.0</td>\n",
              "      <td>2002-01-16</td>\n",
              "      <td>20020116.0</td>\n",
              "      <td>708 days</td>\n",
              "    </tr>\n",
              "    <tr>\n",
              "      <th>4</th>\n",
              "      <td>2002-07-10</td>\n",
              "      <td>20020710.0</td>\n",
              "      <td>2002-07-10</td>\n",
              "      <td>20020710.0</td>\n",
              "      <td>0 days</td>\n",
              "    </tr>\n",
              "    <tr>\n",
              "      <th>...</th>\n",
              "      <td>...</td>\n",
              "      <td>...</td>\n",
              "      <td>...</td>\n",
              "      <td>...</td>\n",
              "      <td>...</td>\n",
              "    </tr>\n",
              "    <tr>\n",
              "      <th>1069315</th>\n",
              "      <td>2017-08-03</td>\n",
              "      <td>20170803.0</td>\n",
              "      <td>NaT</td>\n",
              "      <td>NaN</td>\n",
              "      <td>NaT</td>\n",
              "    </tr>\n",
              "    <tr>\n",
              "      <th>1069316</th>\n",
              "      <td>NaT</td>\n",
              "      <td>NaN</td>\n",
              "      <td>NaT</td>\n",
              "      <td>NaN</td>\n",
              "      <td>NaT</td>\n",
              "    </tr>\n",
              "    <tr>\n",
              "      <th>1069317</th>\n",
              "      <td>NaT</td>\n",
              "      <td>NaN</td>\n",
              "      <td>NaT</td>\n",
              "      <td>NaN</td>\n",
              "      <td>NaT</td>\n",
              "    </tr>\n",
              "    <tr>\n",
              "      <th>1069318</th>\n",
              "      <td>2017-06-26</td>\n",
              "      <td>20170626.0</td>\n",
              "      <td>2017-07-12</td>\n",
              "      <td>20170712.0</td>\n",
              "      <td>16 days</td>\n",
              "    </tr>\n",
              "    <tr>\n",
              "      <th>1069319</th>\n",
              "      <td>2017-06-26</td>\n",
              "      <td>20170626.0</td>\n",
              "      <td>2017-07-12</td>\n",
              "      <td>20170712.0</td>\n",
              "      <td>16 days</td>\n",
              "    </tr>\n",
              "  </tbody>\n",
              "</table>\n",
              "<p>1069320 rows × 5 columns</p>\n",
              "</div>"
            ],
            "text/plain": [
              "        drugstartdate_dt  drugstartdate drugenddate_dt  drugenddate difference\n",
              "0                    NaT            NaN            NaT          NaN        NaT\n",
              "1                    NaT            NaN            NaT          NaN        NaT\n",
              "2             2000-02-08     20000208.0     2000-02-08   20000208.0     0 days\n",
              "3             2000-02-08     20000208.0     2002-01-16   20020116.0   708 days\n",
              "4             2002-07-10     20020710.0     2002-07-10   20020710.0     0 days\n",
              "...                  ...            ...            ...          ...        ...\n",
              "1069315       2017-08-03     20170803.0            NaT          NaN        NaT\n",
              "1069316              NaT            NaN            NaT          NaN        NaT\n",
              "1069317              NaT            NaN            NaT          NaN        NaT\n",
              "1069318       2017-06-26     20170626.0     2017-07-12   20170712.0    16 days\n",
              "1069319       2017-06-26     20170626.0     2017-07-12   20170712.0    16 days\n",
              "\n",
              "[1069320 rows x 5 columns]"
            ]
          },
          "execution_count": 188,
          "metadata": {},
          "output_type": "execute_result"
        }
      ],
      "source": [
        "def fill_day(date_string):\n",
        "    try:\n",
        "\n",
        "        date_string = str(date_string ).split('.')[0]\n",
        "        if len( date_string ) == 6:  # Check if the date string has only year and month parts\n",
        "            date_string = date_string + '01'\n",
        "            #print('mis-d',str(date_string ))\n",
        "            return  date_string   # Append the day part '01' to the date string\n",
        "\n",
        "        elif len( date_string ) == 4:  # Check if the date string has only year and month parts\n",
        "            if int(date_string) < 500:\n",
        "                print(date_string)\n",
        "\n",
        "            date_string  = date_string + '01'+ '01'\n",
        "            #print('mis-m-d',str(date_string ))\n",
        "            return  date_string #+ '01'+ '01'  # Append the day part '01' to the date string\n",
        "\n",
        "\n",
        "    except :\n",
        "        print('Error', date_string )\n",
        "    return date_string\n",
        "\n",
        "\n",
        "\n",
        "drug_pair_adverse_events['drugstartdate_dt'] = pd.to_datetime( drug_pair_adverse_events['drugstartdate'].apply(fill_day),\n",
        "                                                           format='%Y%m%d'  , errors='coerce')\n",
        "drug_pair_adverse_events['drugenddate_dt'] = pd.to_datetime( drug_pair_adverse_events['drugenddate'].apply(fill_day),\n",
        "                                                         format='%Y%m%d'   , errors='coerce')\n",
        "drug_pair_adverse_events['difference'] = drug_pair_adverse_events['drugenddate_dt']  - drug_pair_adverse_events['drugstartdate_dt']\n",
        "\n",
        "drug_pair_adverse_events[ ['drugstartdate_dt','drugstartdate','drugenddate_dt','drugenddate','difference']]"
      ]
    },
    {
      "cell_type": "code",
      "execution_count": null,
      "metadata": {
        "id": "48FH6_lj7QLW",
        "outputId": "d033a4d0-b4ae-4f99-d11c-90a750f12bb3",
        "scrolled": true
      },
      "outputs": [
        {
          "data": {
            "text/plain": [
              "0 days       41090\n",
              "4 days        5174\n",
              "2 days        4676\n",
              "1 days        4513\n",
              "365 days      4378\n",
              "7 days        3744\n",
              "3 days        3621\n",
              "31 days       3585\n",
              "6 days        3495\n",
              "14 days       3491\n",
              "28 days       3464\n",
              "-1 days       3414\n",
              "30 days       2859\n",
              "5 days        2828\n",
              "61 days       2545\n",
              "21 days       2505\n",
              "13 days       2468\n",
              "1461 days     2429\n",
              "1096 days     2292\n",
              "9 days        2154\n",
              "Name: difference, dtype: int64"
            ]
          },
          "execution_count": 191,
          "metadata": {},
          "output_type": "execute_result"
        }
      ],
      "source": [
        "drug_pair_adverse_events['difference'].value_counts().head(20)"
      ]
    },
    {
      "cell_type": "code",
      "execution_count": null,
      "metadata": {
        "id": "0o14hoM47QLW"
      },
      "outputs": [],
      "source": [
        "adverse_event_counts  = adverse_event_counts.reset_index()\n",
        "adverse_event_counts.columns = ['medicinalproduct','NoDeath', 'Death']"
      ]
    },
    {
      "cell_type": "code",
      "execution_count": null,
      "metadata": {
        "id": "7OCCrkzY7QLX"
      },
      "outputs": [],
      "source": []
    },
    {
      "cell_type": "code",
      "execution_count": null,
      "metadata": {
        "id": "1UCKO1j97QLX",
        "outputId": "5be52e91-b648-4bfb-bd82-b6c96d5a4a4c"
      },
      "outputs": [
        {
          "data": {
            "text/plain": [
              "(109439, 3)"
            ]
          },
          "execution_count": 116,
          "metadata": {},
          "output_type": "execute_result"
        }
      ],
      "source": [
        "adverse_event_counts = adverse_event_counts[ ~((adverse_event_counts.NoDeath>0) & (adverse_event_counts.Death>0)) ]\n",
        "adverse_event_counts.shape"
      ]
    },
    {
      "cell_type": "code",
      "execution_count": null,
      "metadata": {
        "id": "8nJCgWJ87QLX",
        "outputId": "564c67ad-2e59-4be4-f511-489cf0e8fa8b"
      },
      "outputs": [
        {
          "data": {
            "text/plain": [
              "(101892, 3)"
            ]
          },
          "execution_count": 121,
          "metadata": {},
          "output_type": "execute_result"
        }
      ],
      "source": [
        "def diff_drug_name(x):\n",
        "    if x[0]!=x[1]:\n",
        "        return True\n",
        "    return False\n",
        "adverse_event_counts = adverse_event_counts[adverse_event_counts.medicinalproduct.apply(diff_drug_name)]\n",
        "adverse_event_counts.shape"
      ]
    },
    {
      "cell_type": "code",
      "execution_count": null,
      "metadata": {
        "id": "H18Jxfie7QLX",
        "outputId": "857bc030-0dfe-43c2-c11b-8f2d58a04f3d"
      },
      "outputs": [
        {
          "data": {
            "text/html": [
              "<div>\n",
              "<style scoped>\n",
              "    .dataframe tbody tr th:only-of-type {\n",
              "        vertical-align: middle;\n",
              "    }\n",
              "\n",
              "    .dataframe tbody tr th {\n",
              "        vertical-align: top;\n",
              "    }\n",
              "\n",
              "    .dataframe thead th {\n",
              "        text-align: right;\n",
              "    }\n",
              "</style>\n",
              "<table border=\"1\" class=\"dataframe\">\n",
              "  <thead>\n",
              "    <tr style=\"text-align: right;\">\n",
              "      <th></th>\n",
              "      <th>medicinalproduct</th>\n",
              "      <th>NoDeath</th>\n",
              "      <th>Death</th>\n",
              "    </tr>\n",
              "  </thead>\n",
              "  <tbody>\n",
              "    <tr>\n",
              "      <th>1</th>\n",
              "      <td>( BUPIVACAINE (NO PREF. NAME), BUPIVACAINE)</td>\n",
              "      <td>0.0</td>\n",
              "      <td>2.0</td>\n",
              "    </tr>\n",
              "    <tr>\n",
              "      <th>2</th>\n",
              "      <td>( COPAXONE, ETODOLAC.)</td>\n",
              "      <td>0.0</td>\n",
              "      <td>2.0</td>\n",
              "    </tr>\n",
              "    <tr>\n",
              "      <th>3</th>\n",
              "      <td>( DACLATASVIR, PEG-INTERFERON ALFA 2A)</td>\n",
              "      <td>0.0</td>\n",
              "      <td>2.0</td>\n",
              "    </tr>\n",
              "    <tr>\n",
              "      <th>5</th>\n",
              "      <td>( HEPARIN, PREDNISONE.)</td>\n",
              "      <td>0.0</td>\n",
              "      <td>2.0</td>\n",
              "    </tr>\n",
              "    <tr>\n",
              "      <th>6</th>\n",
              "      <td>( LIBERTY DIALYSIS CYCLER TUBING, BISACODYL.)</td>\n",
              "      <td>0.0</td>\n",
              "      <td>2.0</td>\n",
              "    </tr>\n",
              "    <tr>\n",
              "      <th>...</th>\n",
              "      <td>...</td>\n",
              "      <td>...</td>\n",
              "      <td>...</td>\n",
              "    </tr>\n",
              "    <tr>\n",
              "      <th>123637</th>\n",
              "      <td>(ZYRTEC, ZYRTEC                             /0...</td>\n",
              "      <td>0.0</td>\n",
              "      <td>2.0</td>\n",
              "    </tr>\n",
              "    <tr>\n",
              "      <th>123638</th>\n",
              "      <td>(ZYRTEC, ZYRTEC (CETIRAZINE HYDROCHLORIDE))</td>\n",
              "      <td>0.0</td>\n",
              "      <td>2.0</td>\n",
              "    </tr>\n",
              "    <tr>\n",
              "      <th>123639</th>\n",
              "      <td>(ZYRTEC, ZYRTEC ALLERGY)</td>\n",
              "      <td>0.0</td>\n",
              "      <td>2.0</td>\n",
              "    </tr>\n",
              "    <tr>\n",
              "      <th>123640</th>\n",
              "      <td>(ZYRTEC, ZYRTEC IR)</td>\n",
              "      <td>0.0</td>\n",
              "      <td>2.0</td>\n",
              "    </tr>\n",
              "    <tr>\n",
              "      <th>123641</th>\n",
              "      <td>(ZYRTEC, ZYRTEC IR 10MG TABLET)</td>\n",
              "      <td>0.0</td>\n",
              "      <td>2.0</td>\n",
              "    </tr>\n",
              "  </tbody>\n",
              "</table>\n",
              "<p>83984 rows × 3 columns</p>\n",
              "</div>"
            ],
            "text/plain": [
              "                                         medicinalproduct  NoDeath  Death\n",
              "1             ( BUPIVACAINE (NO PREF. NAME), BUPIVACAINE)      0.0    2.0\n",
              "2                                  ( COPAXONE, ETODOLAC.)      0.0    2.0\n",
              "3                  ( DACLATASVIR, PEG-INTERFERON ALFA 2A)      0.0    2.0\n",
              "5                                 ( HEPARIN, PREDNISONE.)      0.0    2.0\n",
              "6           ( LIBERTY DIALYSIS CYCLER TUBING, BISACODYL.)      0.0    2.0\n",
              "...                                                   ...      ...    ...\n",
              "123637  (ZYRTEC, ZYRTEC                             /0...      0.0    2.0\n",
              "123638        (ZYRTEC, ZYRTEC (CETIRAZINE HYDROCHLORIDE))      0.0    2.0\n",
              "123639                           (ZYRTEC, ZYRTEC ALLERGY)      0.0    2.0\n",
              "123640                                (ZYRTEC, ZYRTEC IR)      0.0    2.0\n",
              "123641                    (ZYRTEC, ZYRTEC IR 10MG TABLET)      0.0    2.0\n",
              "\n",
              "[83984 rows x 3 columns]"
            ]
          },
          "execution_count": 127,
          "metadata": {},
          "output_type": "execute_result"
        }
      ],
      "source": [
        "adverse_event_counts[adverse_event_counts.Death>0]"
      ]
    },
    {
      "cell_type": "code",
      "execution_count": null,
      "metadata": {
        "id": "K4niI3Jy7QLX"
      },
      "outputs": [],
      "source": []
    },
    {
      "cell_type": "code",
      "execution_count": null,
      "metadata": {
        "id": "KTYNi7e_7QLY"
      },
      "outputs": [],
      "source": []
    },
    {
      "cell_type": "code",
      "execution_count": null,
      "metadata": {
        "id": "yZ8nxq__7QLY",
        "outputId": "eefbbc2e-4705-4598-e820-94e70a9e80c2",
        "scrolled": true
      },
      "outputs": [
        {
          "name": "stdout",
          "output_type": "stream",
          "text": [
            "<ZipInfo filename='ASCII/' external_attr=0x10>\n",
            "<ZipInfo filename='ASCII/ASC_NTS.pdf' compress_type=deflate external_attr=0x20 file_size=317222 compress_size=283504>\n",
            "<ZipInfo filename='ASCII/DEMO22Q2.pdf' compress_type=deflate external_attr=0x20 file_size=313361 compress_size=165307>\n",
            "<ZipInfo filename='ASCII/DEMO22Q2.txt' compress_type=deflate external_attr=0x20 file_size=62849513 compress_size=12505752>\n",
            "<ZipInfo filename='ASCII/DRUG22Q2.pdf' compress_type=deflate external_attr=0x20 file_size=336440 compress_size=130620>\n",
            "<ZipInfo filename='ASCII/DRUG22Q2.txt' compress_type=deflate external_attr=0x20 file_size=181503321 compress_size=30195032>\n",
            "<ZipInfo filename='ASCII/INDI22Q2.pdf' compress_type=deflate external_attr=0x20 file_size=182647 compress_size=112327>\n",
            "<ZipInfo filename='ASCII/INDI22Q2.txt' compress_type=deflate external_attr=0x20 file_size=53542151 compress_size=6966557>\n",
            "<ZipInfo filename='ASCII/OUTC22Q2.pdf' compress_type=deflate external_attr=0x20 file_size=146475 compress_size=87109>\n",
            "<ZipInfo filename='ASCII/OUTC22Q2.txt' compress_type=deflate external_attr=0x20 file_size=7164223 compress_size=1201373>\n",
            "<ZipInfo filename='ASCII/REAC22Q2.pdf' compress_type=deflate external_attr=0x20 file_size=136077 compress_size=83510>\n",
            "<ZipInfo filename='ASCII/REAC22Q2.txt' compress_type=deflate external_attr=0x20 file_size=54969752 compress_size=9644044>\n",
            "<ZipInfo filename='ASCII/RPSR22Q2.pdf' compress_type=deflate external_attr=0x20 file_size=149702 compress_size=87813>\n",
            "<ZipInfo filename='ASCII/RPSR22Q2.txt' compress_type=deflate external_attr=0x20 file_size=309087 compress_size=57015>\n",
            "<ZipInfo filename='ASCII/THER22Q2.pdf' compress_type=deflate external_attr=0x20 file_size=144000 compress_size=86236>\n",
            "<ZipInfo filename='ASCII/THER22Q2.txt' compress_type=deflate external_attr=0x20 file_size=25125113 compress_size=4053815>\n",
            "<ZipInfo filename='Deleted/' external_attr=0x10>\n",
            "<ZipInfo filename='Deleted/DELETE22Q2.txt' compress_type=deflate external_attr=0x20 file_size=50094 compress_size=16469>\n",
            "<ZipInfo filename='FAQs.pdf' compress_type=deflate external_attr=0x20 file_size=94631 compress_size=75964>\n",
            "<ZipInfo filename='Readme.pdf' compress_type=deflate external_attr=0x20 file_size=131553 compress_size=105282>\n"
          ]
        }
      ],
      "source": [
        "import pandas as pd\n",
        "import zipfile\n",
        "\n",
        "# Specify the zip file and the data files you want to read\n",
        "zip_file = \"../FAERS/faers_ascii_2022q2.zip\"\n",
        "\n",
        "# Read the data files from the zip file\n",
        "with zipfile.ZipFile(zip_file, 'r') as zf:\n",
        "    for f in zf.filelist:\n",
        "        print(f)\n"
      ]
    },
    {
      "cell_type": "code",
      "execution_count": null,
      "metadata": {
        "id": "4I294md77QLY",
        "scrolled": true
      },
      "outputs": [],
      "source": [
        "import pandas as pd\n",
        "import zipfile\n",
        "\n",
        "# Specify the zip file and the data files you want to read\n",
        "demo_file = \"ASCII/DEMO22Q2.txt\"\n",
        "\n",
        "drug_file = \"ASCII/DRUG22Q2.txt\"\n",
        "reaction_file = \"ASCII/REAC22Q2.txt\"\n",
        "\n",
        "zip_file = \"../FAERS/faers_ascii_2022q2.zip\"\n",
        "\n",
        "# Read the data files from the zip file\n",
        "with zipfile.ZipFile(zip_file, 'r') as zf:\n",
        "    demo_data = pd.read_csv(zf.open(demo_file), delimiter='$', low_memory=False)\n",
        "    drug_data = pd.read_csv(zf.open(drug_file), delimiter='$', low_memory=False)\n",
        "    reaction_data = pd.read_csv(zf.open(reaction_file), delimiter='$', low_memory=False)\n",
        "\n",
        "# Merge the data files based on the primary key (ISR)\n",
        "merged_data = demo_data.merge(drug_data, on=['primaryid', 'caseid'], how='inner').merge(reaction_data, on=['primaryid', 'caseid'], how='inner')\n",
        "\n",
        "# Perform necessary pre-processing and cleaning on the merged_data DataFrame\n"
      ]
    },
    {
      "cell_type": "code",
      "execution_count": null,
      "metadata": {
        "id": "ALMBkXXD7QLY",
        "outputId": "12a5b11d-17c3-4a2c-9be3-63246ac83a43"
      },
      "outputs": [
        {
          "data": {
            "text/plain": [
              "((1828103, 20), (435618, 25), (1464627, 4), (16004932, 45))"
            ]
          },
          "execution_count": 33,
          "metadata": {},
          "output_type": "execute_result"
        }
      ],
      "source": [
        "drug_data.shape, demo_data.shape, reaction_data.shape,merged_data.shape"
      ]
    },
    {
      "cell_type": "code",
      "execution_count": null,
      "metadata": {
        "id": "EmJQVVzD7QLY",
        "outputId": "9d76f2ec-1bea-499e-9889-da882618a827"
      },
      "outputs": [
        {
          "data": {
            "text/plain": [
              "(Index(['primaryid', 'caseid', 'caseversion', 'i_f_code', 'event_dt', 'mfr_dt',\n",
              "        'init_fda_dt', 'fda_dt', 'rept_cod', 'auth_num', 'mfr_num', 'mfr_sndr',\n",
              "        'lit_ref', 'age', 'age_cod', 'age_grp', 'sex', 'e_sub', 'wt', 'wt_cod',\n",
              "        'rept_dt', 'to_mfr', 'occp_cod', 'reporter_country', 'occr_country',\n",
              "        'drug_seq', 'role_cod', 'drugname', 'prod_ai', 'val_vbm', 'route',\n",
              "        'dose_vbm', 'cum_dose_chr', 'cum_dose_unit', 'dechal', 'rechal',\n",
              "        'lot_num', 'exp_dt', 'nda_num', 'dose_amt', 'dose_unit', 'dose_form',\n",
              "        'dose_freq', 'pt', 'drug_rec_act'],\n",
              "       dtype='object'),\n",
              " 1920027821    69520\n",
              " 1605363514    54750\n",
              " 1638803219    37800\n",
              " 1745014216    32085\n",
              " 1595647236    28044\n",
              "               ...  \n",
              " 208408471         1\n",
              " 208408492         1\n",
              " 208408521         1\n",
              " 208408541         1\n",
              " 207958231         1\n",
              " Name: primaryid, Length: 435618, dtype: int64)"
            ]
          },
          "execution_count": 36,
          "metadata": {},
          "output_type": "execute_result"
        }
      ],
      "source": [
        "merged_data.columns, merged_data.primaryid.value_counts()"
      ]
    },
    {
      "cell_type": "code",
      "execution_count": null,
      "metadata": {
        "id": "cc_ZZG397QLZ",
        "outputId": "0c24337b-9fe7-4bd1-98bc-1fdf8a740bd2",
        "scrolled": true
      },
      "outputs": [
        {
          "name": "stdout",
          "output_type": "stream",
          "text": [
            "<class 'pandas.core.frame.DataFrame'>\n",
            "RangeIndex: 100000 entries, 0 to 99999\n",
            "Data columns (total 87 columns):\n",
            " #   Column                        Non-Null Count   Dtype  \n",
            "---  ------                        --------------   -----  \n",
            " 0   Unnamed: 0.2                  100000 non-null  int64  \n",
            " 1   Unnamed: 0                    100000 non-null  int64  \n",
            " 2   Unnamed: 0.1                  100000 non-null  int64  \n",
            " 3   messagetype                   1 non-null       object \n",
            " 4   messageformatversion          1 non-null       float64\n",
            " 5   messageformatrelease          1 non-null       float64\n",
            " 6   messagenumb                   1 non-null       object \n",
            " 7   messagesenderidentifier       1 non-null       object \n",
            " 8   messagereceiveridentifier     1 non-null       object \n",
            " 9   messagedateformat             1 non-null       float64\n",
            " 10  messagedate                   1 non-null       float64\n",
            " 11  safetyreportversion           99999 non-null   float64\n",
            " 12  safetyreportid                99999 non-null   float64\n",
            " 13  primarysourcecountry          98947 non-null   object \n",
            " 14  occurcountry                  93115 non-null   object \n",
            " 15  transmissiondateformat        99999 non-null   float64\n",
            " 16  transmissiondate              99999 non-null   float64\n",
            " 17  reporttype                    99999 non-null   float64\n",
            " 18  serious                       99999 non-null   float64\n",
            " 19  receivedateformat             99999 non-null   float64\n",
            " 20  receivedate                   99999 non-null   float64\n",
            " 21  receiptdateformat             99999 non-null   float64\n",
            " 22  receiptdate                   99999 non-null   float64\n",
            " 23  fulfillexpeditecriteria       99999 non-null   float64\n",
            " 24  companynumb                   97004 non-null   object \n",
            " 25  duplicate                     97005 non-null   float64\n",
            " 26  reportduplicate               97005 non-null   object \n",
            " 27  duplicatesource               97005 non-null   object \n",
            " 28  duplicatenumb                 97004 non-null   object \n",
            " 29  primarysource                 99999 non-null   object \n",
            " 30  reportercountry               99999 non-null   object \n",
            " 31  qualification                 96429 non-null   float64\n",
            " 32  sender                        99999 non-null   object \n",
            " 33  sendertype                    99999 non-null   float64\n",
            " 34  senderorganization            99999 non-null   object \n",
            " 35  receiver                      99999 non-null   object \n",
            " 36  receivertype                  99999 non-null   float64\n",
            " 37  receiverorganization          99999 non-null   object \n",
            " 38  patient                       99999 non-null   object \n",
            " 39  patientonsetage               60779 non-null   float64\n",
            " 40  patientonsetageunit           60779 non-null   float64\n",
            " 41  patientsex                    85911 non-null   float64\n",
            " 42  reaction                      99999 non-null   object \n",
            " 43  reactionmeddraversionpt       99999 non-null   float64\n",
            " 44  reactionmeddrapt              99999 non-null   object \n",
            " 45  reactionoutcome               92146 non-null   float64\n",
            " 46  drug                          99999 non-null   object \n",
            " 47  drugcharacterization          99999 non-null   float64\n",
            " 48  medicinalproduct              99999 non-null   object \n",
            " 49  drugdosagetext                60608 non-null   object \n",
            " 50  drugdosageform                79317 non-null   object \n",
            " 51  drugadministrationroute       84131 non-null   float64\n",
            " 52  drugindication                93297 non-null   object \n",
            " 53  activesubstance               99999 non-null   object \n",
            " 54  activesubstancename           99999 non-null   object \n",
            " 55  drugbatchnumb                 36095 non-null   object \n",
            " 56  drugauthorizationnumb         95285 non-null   float64\n",
            " 57  drugstructuredosagenumb       58505 non-null   object \n",
            " 58  drugstructuredosageunit       58367 non-null   float64\n",
            " 59  drugstartdateformat           55019 non-null   float64\n",
            " 60  drugstartdate                 55019 non-null   float64\n",
            " 61  actiondrug                    81380 non-null   float64\n",
            " 62  drugenddateformat             27289 non-null   float64\n",
            " 63  drugenddate                   27289 non-null   float64\n",
            " 64  summary                       57550 non-null   object \n",
            " 65  narrativeincludeclinical      57550 non-null   object \n",
            " 66  seriousnessdisabling          1539 non-null    float64\n",
            " 67  seriousnessother              37459 non-null   float64\n",
            " 68  authoritynumb                 1371 non-null    object \n",
            " 69  drugrecurreadministration     20690 non-null   float64\n",
            " 70  seriousnesshospitalization    25020 non-null   float64\n",
            " 71  literaturereference           5124 non-null    object \n",
            " 72  patientagegroup               16452 non-null   float64\n",
            " 73  patientweight                 20242 non-null   float64\n",
            " 74  drugseparatedosagenumb        44752 non-null   float64\n",
            " 75  drugintervaldosageunitnumb    44752 non-null   float64\n",
            " 76  drugintervaldosagedefinition  44752 non-null   float64\n",
            " 77  seriousnesslifethreatening    1845 non-null    float64\n",
            " 78  seriousnessdeath              11156 non-null   float64\n",
            " 79  drugcumulativedosagenumb      2708 non-null    float64\n",
            " 80  drugcumulativedosageunit      2694 non-null    float64\n",
            " 81  drugadditional                2586 non-null    float64\n",
            " 82  seriousnesscongenitalanomali  399 non-null     float64\n",
            " 83  drugrecurrence                192 non-null     object \n",
            " 84  drugrecuraction               192 non-null     object \n",
            " 85  drugtreatmentduration         353 non-null     object \n",
            " 86  drugtreatmentdurationunit     348 non-null     float64\n",
            "dtypes: float64(49), int64(3), object(35)\n",
            "memory usage: 66.4+ MB\n"
          ]
        }
      ],
      "source": [
        "tweet.info()"
      ]
    },
    {
      "cell_type": "code",
      "execution_count": null,
      "metadata": {
        "id": "6o3GOiAS7QLZ"
      },
      "outputs": [],
      "source": [
        "extra_features = [\n",
        "        'drugdosagetext',\n",
        "        'drugindication',\n",
        "        'reporttype',\n",
        "        'fulfillexpeditecriteria',\n",
        "        'qualification',\n",
        "        'patientonsetageunit',\n",
        "        'patientagegroup',\n",
        "        'patientweight',\n",
        "        'patientsex',\n",
        "        'drugcharacterization',\n",
        "        'drugstructuredosageunit',\n",
        "        'drugseparatedosagenumb',\n",
        "        'drugintervaldosageunitnumb',\n",
        "        'drugintervaldosagedefinition',\n",
        "        'drugcumulativedosagenumb',\n",
        "        'drugcumulativedosageunit',\n",
        "        'actiondrug'\n",
        "    ]"
      ]
    },
    {
      "cell_type": "code",
      "execution_count": null,
      "metadata": {
        "id": "dtEyLscU7QLZ",
        "outputId": "b514ca71-0a2f-4952-98dd-59e44b9eadda"
      },
      "outputs": [
        {
          "name": "stdout",
          "output_type": "stream",
          "text": [
            "\n",
            "---------drugdosagetext----------------\n",
            "UNK                                                                  9931\n",
            "DATES OF AVANDIA USE COULD NOT BE CONFIRMED IN RECORDS REVIEWED.     3569\n",
            "50 MG, QWK                                                           2476\n",
            "AVANDIA WAS NOT LISTED AMONG THE PATIENTS RECORDS REVIEWED.          2105\n",
            "UNK, UNKNOWN                                                         1074\n",
            "                                                                     ... \n",
            "PATERNAL DRUG EXPOSURE                                                  1\n",
            "LAST DOSE DATE: 09/MAR/2015                                             1\n",
            "TAKE 2 PINK TABS QAM, 1 BEIGE COLORED TABLET TWICE DAILY (AM +PM)       1\n",
            "2 PINK TABS DAILY; 1 BEIGE TAB BID                                      1\n",
            "DAY EIGHT DOSE                                                          1\n",
            "Name: drugdosagetext, Length: 14157, dtype: int64\n",
            "\n",
            "---------drugindication----------------\n",
            "PRODUCT USED FOR UNKNOWN INDICATION    21949\n",
            "DIABETES MELLITUS                      13221\n",
            "RHEUMATOID ARTHRITIS                    5001\n",
            "MULTIPLE SCLEROSIS                      3139\n",
            "PLASMA CELL MYELOMA                     2395\n",
            "                                       ...  \n",
            "HYPERCALCAEMIA OF MALIGNANCY               1\n",
            "PEPTIC ULCER HELICOBACTER                  1\n",
            "ANAL ABSCESS                               1\n",
            "MALNUTRITION                               1\n",
            "ABDOMINAL RIGIDITY                         1\n",
            "Name: drugindication, Length: 2401, dtype: int64\n",
            "\n",
            "---------reporttype----------------\n",
            "1.0    62427\n",
            "2.0    22542\n",
            "3.0    14940\n",
            "4.0       90\n",
            "Name: reporttype, dtype: int64\n",
            "\n",
            "---------fulfillexpeditecriteria----------------\n",
            "1.0    52767\n",
            "2.0    47232\n",
            "Name: fulfillexpeditecriteria, dtype: int64\n",
            "\n",
            "---------qualification----------------\n",
            "5.0    49701\n",
            "1.0    23895\n",
            "3.0    16205\n",
            "2.0     5703\n",
            "4.0      925\n",
            "Name: qualification, dtype: int64\n",
            "\n",
            "---------patientonsetageunit----------------\n",
            "801.0    59777\n",
            "804.0      359\n",
            "802.0      344\n",
            "800.0      264\n",
            "803.0       34\n",
            "805.0        1\n",
            "Name: patientonsetageunit, dtype: int64\n",
            "\n",
            "---------patientagegroup----------------\n",
            "5.0    10694\n",
            "6.0     4828\n",
            "3.0      370\n",
            "4.0      295\n",
            "1.0      177\n",
            "2.0       88\n",
            "Name: patientagegroup, dtype: int64\n",
            "\n",
            "---------patientweight----------------\n",
            "70.00     235\n",
            "68.00     223\n",
            "60.00     209\n",
            "65.00     192\n",
            "80.00     190\n",
            "         ... \n",
            "136.36      1\n",
            "66.81       1\n",
            "45.90       1\n",
            "65.36       1\n",
            "2.72        1\n",
            "Name: patientweight, Length: 2222, dtype: int64\n",
            "\n",
            "---------patientsex----------------\n",
            "2.0    51376\n",
            "1.0    34498\n",
            "0.0       37\n",
            "Name: patientsex, dtype: int64\n",
            "\n",
            "---------drugcharacterization----------------\n",
            "1.0    74189\n",
            "2.0    25611\n",
            "3.0      199\n",
            "Name: drugcharacterization, dtype: int64\n",
            "\n",
            "---------drugstructuredosageunit----------------\n",
            "3.0     47624\n",
            "32.0     3205\n",
            "4.0      3146\n",
            "12.0      818\n",
            "2.0       771\n",
            "8.0       574\n",
            "9.0       513\n",
            "7.0       513\n",
            "25.0      512\n",
            "31.0      302\n",
            "11.0      186\n",
            "30.0       91\n",
            "29.0       58\n",
            "27.0       19\n",
            "19.0       10\n",
            "28.0        9\n",
            "24.0        3\n",
            "16.0        3\n",
            "5.0         3\n",
            "26.0        3\n",
            "17.0        2\n",
            "23.0        1\n",
            "10.0        1\n",
            "Name: drugstructuredosageunit, dtype: int64\n",
            "\n",
            "---------drugseparatedosagenumb----------------\n",
            " 1.0    34086\n",
            " 2.0     8294\n",
            " 3.0     1519\n",
            " 4.0      802\n",
            "-1.0       51\n",
            "Name: drugseparatedosagenumb, dtype: int64\n",
            "\n",
            "---------drugintervaldosageunitnumb----------------\n",
            " 1.0     37314\n",
            " 2.0      6018\n",
            " 12.0      781\n",
            " 3.0       406\n",
            " 6.0        73\n",
            " 8.0        68\n",
            "-1.0        51\n",
            " 4.0        40\n",
            " 5.0         1\n",
            "Name: drugintervaldosageunitnumb, dtype: int64\n",
            "\n",
            "---------drugintervaldosagedefinition----------------\n",
            "804.0    29772\n",
            "803.0    12715\n",
            "805.0     1078\n",
            "802.0     1020\n",
            "811.0       60\n",
            "812.0       51\n",
            "806.0       47\n",
            "801.0        9\n",
            "Name: drugintervaldosagedefinition, dtype: int64\n",
            "\n",
            "---------drugcumulativedosagenumb----------------\n",
            "2.000000         54\n",
            "40.000000        39\n",
            "60.000000        37\n",
            "50.000000        34\n",
            "10.000000        33\n",
            "                 ..\n",
            "687.544006        1\n",
            "85.713997         1\n",
            "191850.000000     1\n",
            "11650.000000      1\n",
            "3620.000000       1\n",
            "Name: drugcumulativedosagenumb, Length: 1294, dtype: int64\n",
            "\n",
            "---------drugcumulativedosageunit----------------\n",
            "3.0     2052\n",
            "32.0     212\n",
            "12.0     136\n",
            "7.0       84\n",
            "2.0       82\n",
            "4.0       74\n",
            "8.0       28\n",
            "31.0      10\n",
            "25.0       8\n",
            "30.0       4\n",
            "19.0       2\n",
            "27.0       1\n",
            "29.0       1\n",
            "Name: drugcumulativedosageunit, dtype: int64\n",
            "\n",
            "---------actiondrug----------------\n",
            "5.0    36649\n",
            "4.0    23133\n",
            "1.0    19743\n",
            "2.0     1155\n",
            "3.0      700\n",
            "Name: actiondrug, dtype: int64\n"
          ]
        }
      ],
      "source": [
        "for c in extra_features:\n",
        "    print()\n",
        "    print('---------'+c+'----------------')\n",
        "    print(tweet[c].value_counts())"
      ]
    },
    {
      "cell_type": "markdown",
      "metadata": {
        "id": "Kjxg5Rat7QLZ"
      },
      "source": [
        "# Candidate to be Target for classifications:\n",
        "### actiondrug:  (Drug Withdrawn =1 ,Dose changed= 4 )\n",
        "- 2= Dose reduced\n",
        "- 3= Dose Increased\n",
        "- 4= Dose not changed\n",
        "\n",
        "# Candidate to be added to feature list :\n",
        "### qualification:\n",
        "- 1= Physician\n",
        "- 2= Pharmacist\n",
        "- 3= Other Health Professional 4= Lawyer\n",
        "- 5= Consumer or non-health\n",
        "\n",
        "### patientagegroup\n",
        "- 1= Neonate\n",
        "- 2= Infant\n",
        "- 3= Child\n",
        "- 4= Adolescent\n",
        "- 5= Adult\n",
        "- 6= Elderly\n",
        "\n",
        "### patientweight\n",
        "\n",
        "### patientsex\n",
        "- 1= male\n",
        "- 2= female\n"
      ]
    },
    {
      "cell_type": "code",
      "execution_count": null,
      "metadata": {
        "id": "3S7dmfPy7QLa",
        "outputId": "f58c6ea2-1de9-49cb-aa32-ccec5a035615"
      },
      "outputs": [
        {
          "data": {
            "text/plain": [
              "PRODUCT USED FOR UNKNOWN INDICATION    0.21949\n",
              "DIABETES MELLITUS                      0.13221\n",
              "RHEUMATOID ARTHRITIS                   0.05001\n",
              "MULTIPLE SCLEROSIS                     0.03139\n",
              "PLASMA CELL MYELOMA                    0.02395\n",
              "PSORIASIS                              0.02069\n",
              "CROHN^S DISEASE                        0.02058\n",
              "PERITONEAL DIALYSIS                    0.01847\n",
              "PSORIATIC ARTHROPATHY                  0.01611\n",
              "TYPE 2 DIABETES MELLITUS               0.01369\n",
              "Name: drugindication, dtype: float64"
            ]
          },
          "execution_count": 17,
          "metadata": {},
          "output_type": "execute_result"
        }
      ],
      "source": [
        "tweet['drugindication'].value_counts()[:10]/tweet['drugindication'].shape[0]   # usage of drug"
      ]
    },
    {
      "cell_type": "code",
      "execution_count": null,
      "metadata": {
        "id": "LwQNXbg97QLa"
      },
      "outputs": [],
      "source": [
        "columns = [\n",
        "    'serious',\n",
        "    'reactionmeddrapt',\n",
        "    'reactionoutcome',\n",
        "    'medicinalproduct',\n",
        "    'drugdosagetext',\n",
        "    'drugindication',\n",
        "    'activesubstancename',\n",
        "    'seriousnessdisabling',\n",
        "    'seriousnessother',\n",
        "    'seriousnesshospitalization',\n",
        "    'seriousnesslifethreatening',\n",
        "    'seriousnessdeath',\n",
        "    'seriousnesscongenitalanomali',\n",
        "    #added\n",
        "    'drugindication',\n",
        "    'patientagegroup' ,\n",
        "    'patientweight',\n",
        "    'patientsex',\n",
        "    'qualification'\n",
        "]\n"
      ]
    },
    {
      "cell_type": "code",
      "execution_count": null,
      "metadata": {
        "id": "Va0gSWjY7QLa"
      },
      "outputs": [],
      "source": [
        "tweet = tweet[columns]"
      ]
    },
    {
      "cell_type": "code",
      "execution_count": null,
      "metadata": {
        "id": "IcsCMrlo7QLa"
      },
      "outputs": [],
      "source": [
        "tweet.to_csv('Filtered_data.csv')"
      ]
    },
    {
      "cell_type": "code",
      "execution_count": null,
      "metadata": {
        "id": "QWdleds87QLa"
      },
      "outputs": [],
      "source": []
    },
    {
      "cell_type": "markdown",
      "metadata": {
        "id": "FQUypn4O7QLa"
      },
      "source": [
        "# Restart from here"
      ]
    },
    {
      "cell_type": "code",
      "execution_count": null,
      "metadata": {
        "id": "YHWDySmX7QLb"
      },
      "outputs": [],
      "source": [
        "import pandas as pd\n",
        "tweet = pd.read_csv('Filtered_data.csv')"
      ]
    },
    {
      "cell_type": "code",
      "execution_count": null,
      "metadata": {
        "id": "wn0qLB2w7QLb"
      },
      "outputs": [],
      "source": [
        "seriousness_map = {\n",
        "'seriousnessother':1,\n",
        "'seriousnesshospitalization':2,\n",
        "'seriousnessdisabling':3,\n",
        "'seriousnesscongenitalanomali':4,\n",
        "'seriousnesslifethreatening':5,\n",
        "'seriousnessdeath':6\n",
        "    }"
      ]
    },
    {
      "cell_type": "code",
      "execution_count": null,
      "metadata": {
        "id": "_lXfP0Q07QLb",
        "outputId": "c76f787a-1f1b-48b1-9f76-8e88c4b62204"
      },
      "outputs": [
        {
          "data": {
            "text/plain": [
              "'\\n# Label compositions\\ntweet[\\'seriousness_level\\']=\"\"\\n\\ntweet.loc[tweet.seriousnessother==1, \\'seriousness_level\\']=              tweet.loc[tweet.seriousnessother==1,\\'seriousness_level\\'] +             tweet.loc[tweet.seriousnessother==1,\\'seriousnessother\\'].apply(lambda z: \\'o\\' )\\n\\ntweet.loc[tweet.seriousnesshospitalization==1,\\'seriousness_level\\']=         tweet.loc[tweet.seriousnesshospitalization==1,\\'seriousness_level\\'] +             tweet.loc[tweet.seriousnesshospitalization==1,\\'seriousnesshospitalization\\'].apply(lambda z: \\'h\\' )\\n\\ntweet.loc[tweet.seriousnessdisabling==1,\\'seriousness_level\\']=             tweet.loc[tweet.seriousnessdisabling==1,\\'seriousness_level\\'] +        tweet.loc[tweet.seriousnessdisabling==1,\\'seriousnessdisabling\\'].apply(lambda z: \\'d\\' )\\n\\ntweet.loc[tweet.seriousnesscongenitalanomali==1,\\'seriousness_level\\']=    tweet.loc[tweet.seriousnesscongenitalanomali==1,\\'seriousness_level\\']+     tweet.loc[tweet.seriousnesscongenitalanomali==1,\\'seriousnesscongenitalanomali\\'].apply(lambda z: \\'c\\' )\\n\\ntweet.loc[tweet.seriousnesslifethreatening==1,\\'seriousness_level\\']=    tweet.loc[tweet.seriousnesslifethreatening==1,\\'seriousness_level\\']+    tweet.loc[tweet.seriousnesslifethreatening==1,\\'seriousnesslifethreatening\\'].apply(lambda z: \\'l\\' )\\n\\ntweet.loc[tweet.seriousnessdeath==1,\\'seriousness_level\\']=    tweet.loc[tweet.seriousnessdeath==1,\\'seriousness_level\\']+    tweet.loc[tweet.seriousnessdeath==1,\\'seriousnessdeath\\'].apply(lambda z:\\'d\\' )\\n    \\nmost_common_classes = tweet.seriousness_level.value_counts()\\nmost_common_classes = most_common_classes [most_common_classes>2000].index\\nmost_common_classe\\n\\ntweet = tweet[tweet.seriousness_level !=\"\"]  \\ntweet = tweet[tweet.seriousness_level.isin(most_common_classes) ]  \\n\\n\\n'"
            ]
          },
          "execution_count": 23,
          "metadata": {},
          "output_type": "execute_result"
        }
      ],
      "source": [
        "'''\n",
        "# Label compositions\n",
        "tweet['seriousness_level']=\"\"\n",
        "\n",
        "tweet.loc[tweet.seriousnessother==1, 'seriousness_level']=  \\\n",
        "            tweet.loc[tweet.seriousnessother==1,'seriousness_level'] + \\\n",
        "            tweet.loc[tweet.seriousnessother==1,'seriousnessother'].apply(lambda z: 'o' )\n",
        "\n",
        "tweet.loc[tweet.seriousnesshospitalization==1,'seriousness_level']= \\\n",
        "        tweet.loc[tweet.seriousnesshospitalization==1,'seriousness_level'] + \\\n",
        "            tweet.loc[tweet.seriousnesshospitalization==1,'seriousnesshospitalization'].apply(lambda z: 'h' )\n",
        "\n",
        "tweet.loc[tweet.seriousnessdisabling==1,'seriousness_level']= \\\n",
        "            tweet.loc[tweet.seriousnessdisabling==1,'seriousness_level'] +\\\n",
        "        tweet.loc[tweet.seriousnessdisabling==1,'seriousnessdisabling'].apply(lambda z: 'd' )\n",
        "\n",
        "tweet.loc[tweet.seriousnesscongenitalanomali==1,'seriousness_level']=\\\n",
        "    tweet.loc[tweet.seriousnesscongenitalanomali==1,'seriousness_level']+ \\\n",
        "    tweet.loc[tweet.seriousnesscongenitalanomali==1,'seriousnesscongenitalanomali'].apply(lambda z: 'c' )\n",
        "\n",
        "tweet.loc[tweet.seriousnesslifethreatening==1,'seriousness_level']=\\\n",
        "    tweet.loc[tweet.seriousnesslifethreatening==1,'seriousness_level']+\\\n",
        "    tweet.loc[tweet.seriousnesslifethreatening==1,'seriousnesslifethreatening'].apply(lambda z: 'l' )\n",
        "\n",
        "tweet.loc[tweet.seriousnessdeath==1,'seriousness_level']=\\\n",
        "    tweet.loc[tweet.seriousnessdeath==1,'seriousness_level']+\\\n",
        "    tweet.loc[tweet.seriousnessdeath==1,'seriousnessdeath'].apply(lambda z:'d' )\n",
        "\n",
        "most_common_classes = tweet.seriousness_level.value_counts()\n",
        "most_common_classes = most_common_classes [most_common_classes>2000].index\n",
        "most_common_classe\n",
        "\n",
        "tweet = tweet[tweet.seriousness_level !=\"\"]\n",
        "tweet = tweet[tweet.seriousness_level.isin(most_common_classes) ]\n",
        "\n",
        "\n",
        "'''"
      ]
    },
    {
      "cell_type": "code",
      "execution_count": null,
      "metadata": {
        "id": "ncMirD4U7QLb",
        "outputId": "8311cd0e-e1bb-4c5e-b66a-fd28eeb93fd7"
      },
      "outputs": [
        {
          "data": {
            "text/plain": [
              "\"\\ntweet['seriousness_level']=0\\n\\n'seriousnessother':1,\\n'seriousnesshospitalization':2,\\n'seriousnessdisabling':3,\\n'seriousnesscongenitalanomali':4,\\n'seriousnesslifethreatening':5,\\n'seriousnessdeath':6\\nclass_name = 'seriousnessdeath' \\ntweet.loc[tweet[class_name]==1, 'seriousness_level']=  tweet.loc[tweet[class_name]==1,class_name].apply(lambda z: 1 )\\n\""
            ]
          },
          "execution_count": 24,
          "metadata": {},
          "output_type": "execute_result"
        }
      ],
      "source": [
        "#Hamza\n",
        "'''\n",
        "tweet['seriousness_level']=0\n",
        "\n",
        "'seriousnessother':1,\n",
        "'seriousnesshospitalization':2,\n",
        "'seriousnessdisabling':3,\n",
        "'seriousnesscongenitalanomali':4,\n",
        "'seriousnesslifethreatening':5,\n",
        "'seriousnessdeath':6\n",
        "class_name = 'seriousnessdeath'\n",
        "tweet.loc[tweet[class_name]==1, 'seriousness_level']=  tweet.loc[tweet[class_name]==1,class_name].apply(lambda z: 1 )\n",
        "'''\n"
      ]
    },
    {
      "cell_type": "code",
      "execution_count": null,
      "metadata": {
        "id": "KH7a6D_P7QLc"
      },
      "outputs": [],
      "source": [
        "#tweet['seriousness_level'] = tweet['reactionoutcome']"
      ]
    },
    {
      "cell_type": "code",
      "execution_count": null,
      "metadata": {
        "id": "wBUOUk1g7QLc",
        "outputId": "a01e7e0b-23cb-4592-b16f-b520a969ecdb"
      },
      "outputs": [
        {
          "data": {
            "text/plain": [
              "Index(['Unnamed: 0', 'serious', 'reactionmeddrapt', 'reactionoutcome',\n",
              "       'medicinalproduct', 'drugdosagetext', 'drugindication',\n",
              "       'activesubstancename', 'seriousnessdisabling', 'seriousnessother',\n",
              "       'seriousnesshospitalization', 'seriousnesslifethreatening',\n",
              "       'seriousnessdeath', 'seriousnesscongenitalanomali', 'drugindication.1',\n",
              "       'patientagegroup', 'patientweight', 'patientsex', 'qualification'],\n",
              "      dtype='object')"
            ]
          },
          "execution_count": 26,
          "metadata": {},
          "output_type": "execute_result"
        }
      ],
      "source": [
        "#tweet['seriousness_level'] = tweet['serious']\n",
        "tweet.columns"
      ]
    },
    {
      "cell_type": "markdown",
      "metadata": {
        "id": "V7e8PoRw7QLc"
      },
      "source": [
        "## Use classes of death or not\n"
      ]
    },
    {
      "cell_type": "code",
      "execution_count": null,
      "metadata": {
        "id": "W01c1SaW7QLc",
        "outputId": "d8167cad-b597-48b0-ef2b-0480652a08ec"
      },
      "outputs": [
        {
          "data": {
            "text/plain": [
              "\"\\n\\ntweet['seriousness_level'] = -1\\n\\nseriousness_pd = tweet[['seriousnessdeath','seriousnessother','seriousnessdisabling',\\n            'seriousnesshospitalization','seriousnesslifethreatening','seriousnesscongenitalanomali'\\n                        ,'reactionoutcome','serious'\\n                        #, 'seriousness_level'\\n                       ]]\\n\\nseriousness_pd.fillna(0, inplace=True)\\nseriousness_pd['sum_seriousness'] = seriousness_pd.sum(axis =1)\\nboth_indexes=  (seriousness_pd.seriousnessdeath ==1) &  (seriousness_pd.seriousnessother ==1) & (seriousness_pd.sum_seriousness>=1) #\\ndeath_indexes=  (seriousness_pd.seriousnessdeath ==1) & (seriousness_pd.sum_seriousness>=1) #seriousnessother_indexes=  (seriousness_pd.seriousnessother ==1) & (seriousness_pd.sum_seriousness>=1)\\n\\ntweet.loc[seriousnessother_indexes,'seriousness_level'] = 1\\ntweet.loc[death_indexes,'seriousness_level'] = 2 \\ntweet.loc[both_indexes,'seriousness_level'] = 3 \\n\\n\\nseriousness_pd.groupby(['serious','seriousnessdeath','seriousnessother' ]).size()\\n\""
            ]
          },
          "execution_count": 89,
          "metadata": {},
          "output_type": "execute_result"
        }
      ],
      "source": [
        "'''\n",
        "\n",
        "tweet['seriousness_level'] = -1\n",
        "\n",
        "seriousness_pd = tweet[['seriousnessdeath','seriousnessother','seriousnessdisabling',\n",
        "            'seriousnesshospitalization','seriousnesslifethreatening','seriousnesscongenitalanomali'\n",
        "                        ,'reactionoutcome','serious'\n",
        "                        #, 'seriousness_level'\n",
        "                       ]]\n",
        "\n",
        "seriousness_pd.fillna(0, inplace=True)\n",
        "seriousness_pd['sum_seriousness'] = seriousness_pd.sum(axis =1)\n",
        "both_indexes=  (seriousness_pd.seriousnessdeath ==1) &  (seriousness_pd.seriousnessother ==1) & (seriousness_pd.sum_seriousness>=1) #\\\n",
        "\n",
        "death_indexes=  (seriousness_pd.seriousnessdeath ==1) & (seriousness_pd.sum_seriousness>=1) #\\\n",
        "seriousnessother_indexes=  (seriousness_pd.seriousnessother ==1) & (seriousness_pd.sum_seriousness>=1)\n",
        "\n",
        "tweet.loc[seriousnessother_indexes,'seriousness_level'] = 1\n",
        "tweet.loc[death_indexes,'seriousness_level'] = 2\n",
        "tweet.loc[both_indexes,'seriousness_level'] = 3\n",
        "\n",
        "\n",
        "seriousness_pd.groupby(['serious','seriousnessdeath','seriousnessother' ]).size()\n",
        "'''\n"
      ]
    },
    {
      "cell_type": "code",
      "execution_count": null,
      "metadata": {
        "id": "60rTwiAy7QLc"
      },
      "outputs": [],
      "source": [
        "#serious  seriousnessdeath  seriousnessother\n",
        "#0.0      0.0               0.0                     1 --> incorrect\n",
        "\n",
        "#1.0      0.0               0.0                 13630  --> incorrect (not death or other)\n",
        "#1.0      0.0               1.0                 34045 --> other only\n",
        "#1.0      1.0               0.0                  7742 --> Death only\n",
        "#1.0      1.0               1.0                  3414 --> Death & Other\n",
        "#2.0      0.0               0.0                 41168 --> not( Death & Other)"
      ]
    },
    {
      "cell_type": "code",
      "execution_count": null,
      "metadata": {
        "id": "P8KSjfLw7QLd",
        "outputId": "a064422d-d922-4cc8-9aea-e4f7c5e9d264"
      },
      "outputs": [
        {
          "name": "stderr",
          "output_type": "stream",
          "text": [
            "C:\\Users\\ezzmo\\AppData\\Local\\Temp\\ipykernel_37716\\302190868.py:9: SettingWithCopyWarning: \n",
            "A value is trying to be set on a copy of a slice from a DataFrame\n",
            "\n",
            "See the caveats in the documentation: https://pandas.pydata.org/pandas-docs/stable/user_guide/indexing.html#returning-a-view-versus-a-copy\n",
            "  seriousness_pd.fillna(0, inplace=True)\n",
            "C:\\Users\\ezzmo\\AppData\\Local\\Temp\\ipykernel_37716\\302190868.py:10: SettingWithCopyWarning: \n",
            "A value is trying to be set on a copy of a slice from a DataFrame.\n",
            "Try using .loc[row_indexer,col_indexer] = value instead\n",
            "\n",
            "See the caveats in the documentation: https://pandas.pydata.org/pandas-docs/stable/user_guide/indexing.html#returning-a-view-versus-a-copy\n",
            "  seriousness_pd['sum_seriousness'] = seriousness_pd.sum(axis =1)\n"
          ]
        }
      ],
      "source": [
        "tweet['seriousness_level'] = -1\n",
        "\n",
        "seriousness_pd = tweet[['seriousnessdeath','seriousnessother','seriousnessdisabling',\n",
        "            'seriousnesshospitalization','seriousnesslifethreatening','seriousnesscongenitalanomali'\n",
        "                        ,'reactionoutcome'\n",
        "                        #, 'seriousness_level'\n",
        "                       ]]\n",
        "\n",
        "seriousness_pd.fillna(0, inplace=True)\n",
        "seriousness_pd['sum_seriousness'] = seriousness_pd.sum(axis =1)\n",
        "\n",
        "death_indexes=  (seriousness_pd.seriousnessdeath ==1) & (seriousness_pd.sum_seriousness>=1) #\\\n",
        "                              #  & seriousness_pd.reactionoutcome.isin ([3,5])\n",
        "\n",
        "not_death_indexes=  (seriousness_pd.seriousnessdeath ==0) & (seriousness_pd.sum_seriousness>=1)# \\\n",
        "                               # & seriousness_pd.reactionoutcome.isin ([1,2])\n",
        "\n",
        "seriousnessother_indexes=  (seriousness_pd.seriousnessother ==1) & (seriousness_pd.sum_seriousness==1)\n",
        "\n",
        "tweet.loc[not_death_indexes,'seriousness_level'] = 0\n",
        "tweet.loc[seriousnessother_indexes,'seriousness_level'] = -1 # to be removed\n",
        "tweet.loc[death_indexes ,'seriousness_level'] = 1\n"
      ]
    },
    {
      "cell_type": "code",
      "execution_count": null,
      "metadata": {
        "id": "ZarEZ44J7QLd",
        "outputId": "2fa28e91-1419-46ef-fe79-4b2ae8376cf0"
      },
      "outputs": [
        {
          "data": {
            "text/plain": [
              " 0    84009\n",
              " 1    11156\n",
              "-1     4835\n",
              "Name: seriousness_level, dtype: int64"
            ]
          },
          "execution_count": 28,
          "metadata": {},
          "output_type": "execute_result"
        }
      ],
      "source": [
        "#seriousness_pd.sum_seriousness.value_counts()\n",
        "'''\n",
        "0    86333\n",
        "1    11156\n",
        "-1     2511\n",
        "'''\n",
        "tweet.seriousness_level.value_counts()"
      ]
    },
    {
      "cell_type": "markdown",
      "metadata": {
        "id": "EHPmbg8l7QLd"
      },
      "source": [
        "## Use classes of reactionoutcome"
      ]
    },
    {
      "cell_type": "code",
      "execution_count": null,
      "metadata": {
        "id": "tamaO_VX7QLd",
        "outputId": "f518ca72-0918-4818-e5b0-63eeff09984f"
      },
      "outputs": [
        {
          "data": {
            "text/plain": [
              "'\\n1= recovered/resolved\\n2= recovering/resolving\\n3= not recovered/not resolved\\n4= recovered/resolved with sequelae 5= fatal\\n6= unknown\\n'"
            ]
          },
          "execution_count": 40,
          "metadata": {},
          "output_type": "execute_result"
        }
      ],
      "source": [
        "'''\n",
        "1= recovered/resolved\n",
        "2= recovering/resolving\n",
        "3= not recovered/not resolved\n",
        "4= recovered/resolved with sequelae\n",
        "5= fatal\n",
        "6= unknown\n",
        "'''"
      ]
    },
    {
      "cell_type": "code",
      "execution_count": null,
      "metadata": {
        "id": "2VreXKHw7QLd",
        "outputId": "5d91dab9-4d2a-4414-f851-53189c85eb5a"
      },
      "outputs": [
        {
          "data": {
            "text/plain": [
              "6.0    0.44198\n",
              "1.0    0.19700\n",
              "3.0    0.15081\n",
              "5.0    0.08119\n",
              "2.0    0.04692\n",
              "4.0    0.00356\n",
              "Name: reactionoutcome, dtype: float64"
            ]
          },
          "execution_count": 457,
          "metadata": {},
          "output_type": "execute_result"
        }
      ],
      "source": [
        "tweet.reactionoutcome.value_counts()/len(tweet.reactionoutcome)"
      ]
    },
    {
      "cell_type": "code",
      "execution_count": null,
      "metadata": {
        "id": "fzUn793G7QLe",
        "outputId": "d9529bed-fdd5-4829-dde3-5431178e31dd"
      },
      "outputs": [
        {
          "name": "stderr",
          "output_type": "stream",
          "text": [
            "C:\\Users\\ezzmo\\AppData\\Local\\Temp\\ipykernel_26020\\646600948.py:9: SettingWithCopyWarning: \n",
            "A value is trying to be set on a copy of a slice from a DataFrame\n",
            "\n",
            "See the caveats in the documentation: https://pandas.pydata.org/pandas-docs/stable/user_guide/indexing.html#returning-a-view-versus-a-copy\n",
            "  seriousness_pd.fillna(0, inplace=True)\n"
          ]
        }
      ],
      "source": [
        "tweet['seriousness_level'] = -1\n",
        "\n",
        "seriousness_pd = tweet[['seriousnessdeath','seriousnessother','seriousnessdisabling',\n",
        "            'seriousnesshospitalization','seriousnesslifethreatening','seriousnesscongenitalanomali'\n",
        "                        ,'reactionoutcome'\n",
        "                        #, 'seriousness_level'\n",
        "                       ]]\n",
        "\n",
        "seriousness_pd.fillna(0, inplace=True)\n",
        "death_indexes=  seriousness_pd.reactionoutcome.isin ([5])   #([3,5]) #fatal\n",
        "\n",
        "not_death_indexes=  seriousness_pd.reactionoutcome.isin([1,2]) #[1,2,4] #recovered/resolved - recovering/resolving\n",
        "\n",
        "tweet.loc[death_indexes ,'seriousness_level'] = 1\n",
        "tweet.loc[not_death_indexes,'seriousness_level'] = 0\n"
      ]
    },
    {
      "cell_type": "markdown",
      "metadata": {
        "id": "AWjgThEl7QLe"
      },
      "source": [
        "#  Use classes of serious"
      ]
    },
    {
      "cell_type": "code",
      "execution_count": null,
      "metadata": {
        "id": "qJGknGsM7QLe"
      },
      "outputs": [],
      "source": [
        "tweet['seriousness_level'] = 0\n",
        "\n",
        "tweet.loc[tweet['serious']==1, 'seriousness_level'] =1"
      ]
    },
    {
      "cell_type": "code",
      "execution_count": null,
      "metadata": {
        "id": "2syELX737QLe"
      },
      "outputs": [],
      "source": []
    },
    {
      "cell_type": "code",
      "execution_count": null,
      "metadata": {
        "id": "6L5uJBqK7QLe",
        "outputId": "a4d6bcbf-f390-4527-be6e-51daf28e4058"
      },
      "outputs": [
        {
          "data": {
            "text/plain": [
              "reactionoutcome\n",
              "0.0     4632\n",
              "1.0    19435\n",
              "2.0     4616\n",
              "3.0    14795\n",
              "4.0      349\n",
              "5.0        2\n",
              "6.0    42504\n",
              "dtype: int64"
            ]
          },
          "execution_count": 388,
          "metadata": {},
          "output_type": "execute_result"
        }
      ],
      "source": [
        "seriousness_pd[not_death_indexes].groupby('reactionoutcome').size()"
      ]
    },
    {
      "cell_type": "markdown",
      "metadata": {
        "id": "3qL8c3vf7QLf"
      },
      "source": [
        "## Drop cases with seriousness_level=-1 mean sum_seriousness = 0"
      ]
    },
    {
      "cell_type": "code",
      "execution_count": null,
      "metadata": {
        "id": "mMehQ6457QLf"
      },
      "outputs": [],
      "source": [
        "tweet = tweet[tweet.seriousness_level!=-1]"
      ]
    },
    {
      "cell_type": "code",
      "execution_count": null,
      "metadata": {
        "id": "yvfxsW3Q7QLf",
        "outputId": "35ea02c7-45b8-488e-eb82-85766efc0dfd",
        "scrolled": true
      },
      "outputs": [
        {
          "data": {
            "text/plain": [
              "0    84009\n",
              "1    11156\n",
              "Name: seriousness_level, dtype: int64"
            ]
          },
          "execution_count": 30,
          "metadata": {},
          "output_type": "execute_result"
        }
      ],
      "source": [
        "tweet.seriousness_level.value_counts()"
      ]
    },
    {
      "cell_type": "code",
      "execution_count": null,
      "metadata": {
        "id": "SLQ5l35m7QLf",
        "outputId": "52ddb07c-f7cf-4d1b-97f6-1cd01ea5d2ea",
        "scrolled": true
      },
      "outputs": [
        {
          "data": {
            "text/plain": [
              "ROSIGLITAZONE MALEATE                                                          8938\n",
              "ADALIMUMAB                                                                     6580\n",
              "ETANERCEPT                                                                     4297\n",
              "LENALIDOMIDE                                                                   2267\n",
              "CALCIUM CHLORIDE\\DEXTROSE\\MAGNESIUM CHLORIDE\\SODIUM CHLORIDE\\SODIUM LACTATE    1823\n",
              "ASPIRIN                                                                        1219\n",
              "DALFAMPRIDINE                                                                  1092\n",
              "DIMETHYL FUMARATE                                                               904\n",
              "INTERFERON BETA-1A                                                              867\n",
              "NICOTINE                                                                        749\n",
              "TREPROSTINIL                                                                    712\n",
              "APREMILAST                                                                      707\n",
              "AMBRISENTAN                                                                     701\n",
              "ACETAMINOPHEN                                                                   693\n",
              "PREGABALIN                                                                      669\n",
              "ONABOTULINUMTOXINA                                                              652\n",
              "LEVONORGESTREL                                                                  580\n",
              "METHOTREXATE                                                                    580\n",
              "ALBUTEROL SULFATE                                                               570\n",
              "DENOSUMAB                                                                       563\n",
              "Name: activesubstancename, dtype: int64"
            ]
          },
          "execution_count": 31,
          "metadata": {},
          "output_type": "execute_result"
        }
      ],
      "source": [
        "tweet[\"activesubstancename\"].value_counts()[:20]   # اسم المادة الفعالة"
      ]
    },
    {
      "cell_type": "markdown",
      "metadata": {
        "id": "CooBbnEF7QLf"
      },
      "source": [
        "## Preprocessing by tokenize activesubstancename"
      ]
    },
    {
      "cell_type": "code",
      "execution_count": null,
      "metadata": {
        "id": "bVAJrfY47QLg",
        "outputId": "2f5b2f94-0923-4a4b-a43d-81490348809f"
      },
      "outputs": [
        {
          "name": "stdout",
          "output_type": "stream",
          "text": [
            "(95165, 20)\n",
            "(95165, 21)\n"
          ]
        }
      ],
      "source": [
        "print(tweet.shape)\n",
        "tweet = tweet[~tweet[\"activesubstancename\"].isnull()]\n",
        "\n",
        "# replace spece between multi-token substancename by \"_\" to be as one substance\n",
        "tweet.activesubstancename = tweet.activesubstancename.apply(lambda x: x.replace(' ','_') )\n",
        "\n",
        "# replace compound substance seperator \\\\ by space\n",
        "tweet.activesubstancename = tweet.activesubstancename.apply(lambda x: x.replace('\\\\',' ') )\n",
        "\n",
        "\n",
        "\n",
        "#count the number of substance in the drug\n",
        "tweet['No_words'] = tweet['activesubstancename'].str.split().map(lambda x: len(x))\n",
        "print(tweet.shape)"
      ]
    },
    {
      "cell_type": "code",
      "execution_count": null,
      "metadata": {
        "id": "Chy-XGET7QLg",
        "outputId": "a26f4fa8-2bab-4c24-8c2b-73c58c8cde3b"
      },
      "outputs": [
        {
          "data": {
            "text/plain": [
              "1                          DICLOFENAC_SODIUM\n",
              "2        RANITIDINE RANITIDINE_HYDROCHLORIDE\n",
              "3                          DALTEPARIN_SODIUM\n",
              "4                           CYCLOPHOSPHAMIDE\n",
              "5                                   VITAMINS\n",
              "                        ...                 \n",
              "99995                             ADALIMUMAB\n",
              "99996                             ADALIMUMAB\n",
              "99997                                ASPIRIN\n",
              "99998                             ADALIMUMAB\n",
              "99999                             LORATADINE\n",
              "Name: activesubstancename, Length: 95165, dtype: object"
            ]
          },
          "execution_count": 33,
          "metadata": {},
          "output_type": "execute_result"
        }
      ],
      "source": [
        "tweet['activesubstancename']"
      ]
    },
    {
      "cell_type": "code",
      "execution_count": null,
      "metadata": {
        "id": "EGxt3PXU7QLg",
        "outputId": "ef747f63-ed0d-408a-8639-685de862e9f0"
      },
      "outputs": [
        {
          "data": {
            "text/plain": [
              "1     86911\n",
              "2      5494\n",
              "5      2164\n",
              "3       334\n",
              "4       197\n",
              "7        26\n",
              "6        18\n",
              "20        6\n",
              "15        4\n",
              "10        3\n",
              "11        3\n",
              "16        2\n",
              "8         1\n",
              "9         1\n",
              "18        1\n",
              "Name: No_words, dtype: int64"
            ]
          },
          "execution_count": 34,
          "metadata": {},
          "output_type": "execute_result"
        }
      ],
      "source": [
        "tweet['No_words'].value_counts()\n"
      ]
    },
    {
      "cell_type": "code",
      "execution_count": null,
      "metadata": {
        "id": "-hx2Xa0G7QLg",
        "outputId": "e685b5d5-678e-47e5-810a-dd44038d7892"
      },
      "outputs": [
        {
          "data": {
            "text/plain": [
              "PRODUCT USED FOR UNKNOWN INDICATION    21608\n",
              "DIABETES MELLITUS                      13203\n",
              "RHEUMATOID ARTHRITIS                    4939\n",
              "MULTIPLE SCLEROSIS                      2973\n",
              "PLASMA CELL MYELOMA                     2381\n",
              "PSORIASIS                               2049\n",
              "CROHN^S DISEASE                         2019\n",
              "PERITONEAL DIALYSIS                     1845\n",
              "PSORIATIC ARTHROPATHY                   1594\n",
              "TYPE 2 DIABETES MELLITUS                1028\n",
              "Name: drugindication, dtype: int64"
            ]
          },
          "execution_count": 35,
          "metadata": {},
          "output_type": "execute_result"
        }
      ],
      "source": [
        "tweet[\"drugindication\"].value_counts()[:10]  # دواعي الإستعمال"
      ]
    },
    {
      "cell_type": "code",
      "execution_count": null,
      "metadata": {
        "id": "JdmuPraJ7QLg",
        "outputId": "0e1d1df7-f91f-4fc9-e5a6-055de50ce127"
      },
      "outputs": [
        {
          "data": {
            "text/plain": [
              "5839"
            ]
          },
          "execution_count": 36,
          "metadata": {},
          "output_type": "execute_result"
        }
      ],
      "source": [
        "tweet[\"drugindication\"].isnull().sum()"
      ]
    },
    {
      "cell_type": "code",
      "execution_count": null,
      "metadata": {
        "id": "VK8xlHHh7QLh"
      },
      "outputs": [],
      "source": [
        "#'patientagegroup', 'patientweight', 'patientsex', 'qualification'"
      ]
    },
    {
      "cell_type": "markdown",
      "metadata": {
        "id": "4UK7QcKj7QLh"
      },
      "source": [
        "## Using drugindication as features"
      ]
    },
    {
      "cell_type": "code",
      "execution_count": null,
      "metadata": {
        "id": "vWhRLRJF7QLh",
        "outputId": "709e2db8-a773-4d34-ccca-1f430f9c1f16"
      },
      "outputs": [
        {
          "name": "stdout",
          "output_type": "stream",
          "text": [
            "(95165, 21)\n",
            "(89326, 22)\n"
          ]
        }
      ],
      "source": [
        "print(tweet.shape)\n",
        "tweet = tweet[~tweet[\"drugindication\"].isnull()]\n",
        "\n",
        "# replace compound substance seperator \\\\ by space\n",
        "tweet.drugindication = tweet.drugindication.apply(lambda x: x.replace('\\\\',' ') )\n",
        "\n",
        "tweet['No_drugindication'] = tweet['drugindication'].str.split().map(lambda x: len(x))\n",
        "print(tweet.shape)"
      ]
    },
    {
      "cell_type": "code",
      "execution_count": null,
      "metadata": {
        "id": "eXYu7sNQ7QLh",
        "outputId": "4e357e19-399f-4d63-b1d1-9bce0d52e628"
      },
      "outputs": [
        {
          "data": {
            "text/plain": [
              "PRODUCT USED FOR UNKNOWN INDICATION          21608\n",
              "DIABETES MELLITUS                            13203\n",
              "RHEUMATOID ARTHRITIS                          4939\n",
              "MULTIPLE SCLEROSIS                            2973\n",
              "PLASMA CELL MYELOMA                           2381\n",
              "                                             ...  \n",
              "UNDIFFERENTIATED NASOPHARYNGEAL CARCINOMA        1\n",
              "GRANULOCYTE COUNT DECREASED                      1\n",
              "KNEE DEFORMITY                                   1\n",
              "INTESTINAL ADENOCARCINOMA                        1\n",
              "ABDOMINAL RIGIDITY                               1\n",
              "Name: drugindication, Length: 2304, dtype: int64"
            ]
          },
          "execution_count": 39,
          "metadata": {},
          "output_type": "execute_result"
        }
      ],
      "source": [
        "tweet.drugindication.value_counts()"
      ]
    },
    {
      "cell_type": "code",
      "execution_count": null,
      "metadata": {
        "id": "ZJ27xD_L7QLi",
        "outputId": "33d72507-1389-4be2-b14c-a0a36cb04d04"
      },
      "outputs": [
        {
          "data": {
            "text/plain": [
              "2    40558\n",
              "5    21790\n",
              "1    12852\n",
              "3    11195\n",
              "4     2831\n",
              "6       64\n",
              "7       33\n",
              "8        2\n",
              "9        1\n",
              "Name: No_drugindication, dtype: int64"
            ]
          },
          "execution_count": 40,
          "metadata": {},
          "output_type": "execute_result"
        }
      ],
      "source": [
        "tweet['No_drugindication'].value_counts()"
      ]
    },
    {
      "cell_type": "code",
      "execution_count": null,
      "metadata": {
        "id": "D7pTuVLe7QLi",
        "outputId": "04a748c9-9d3a-419f-f491-31041b623e72"
      },
      "outputs": [
        {
          "data": {
            "text/plain": [
              "0    79270\n",
              "1    10056\n",
              "Name: seriousness_level, dtype: int64"
            ]
          },
          "execution_count": 41,
          "metadata": {},
          "output_type": "execute_result"
        }
      ],
      "source": [
        "tweet.seriousness_level.value_counts()"
      ]
    },
    {
      "cell_type": "markdown",
      "metadata": {
        "id": "oxUAhsJV7QLi"
      },
      "source": [
        "## Data Filter for seriousnessdeath"
      ]
    },
    {
      "cell_type": "code",
      "execution_count": null,
      "metadata": {
        "id": "OPI9xLp47QLi"
      },
      "outputs": [],
      "source": [
        "#1= recovered/resolved --> seriousnessdeath (265 cases should cleaned)\n",
        "#2= recovering/resolving--> seriousnessdeath (76 cases should cleaned)\n",
        "#3= not recovered/not resolved --> seriousnessdeath (286 cases keep)\n",
        "#4= recovered/resolved with sequelae --> seriousnessdeath (7 cases should cleaned)\n",
        "#5= fatal --> 8117 cases correct seriousnessdeath (correct)\n",
        "#6= unknown --> 1694 cases   (should cleaned)\n",
        "\n",
        "#two classes :\n",
        "# Class: recoved\n",
        "# - reactionoutcome = 1 & seriousnessdeath = null\n",
        "# - reactionoutcome = 2 & seriousnessdeath = null\n",
        "# - reactionoutcome = 4 & seriousnessdeath = null\n",
        "\n",
        "# Class: Death\n",
        "# - reactionoutcome = 3 & seriousnessdeath = 1\n",
        "# - reactionoutcome = 5 & seriousnessdeath = 1\n",
        "\n"
      ]
    },
    {
      "cell_type": "markdown",
      "metadata": {
        "id": "cSiWjrD47QLi"
      },
      "source": [
        "# Restart from Here"
      ]
    },
    {
      "cell_type": "code",
      "execution_count": null,
      "metadata": {
        "id": "QwZ23DOr7QLi",
        "outputId": "79723858-6655-450f-c920-9f38ff959bdc"
      },
      "outputs": [
        {
          "name": "stdout",
          "output_type": "stream",
          "text": [
            "(89326, 3)\n",
            "(89326, 3)\n"
          ]
        }
      ],
      "source": [
        "import math\n",
        "df=pd.DataFrame()\n",
        "df[\"text\"]  =tweet.activesubstancename + tweet.drugindication # drugindication\n",
        "df[\"target\"] = tweet.seriousness_level\n",
        "df[\"No_words\"] = tweet.No_words + tweet.No_drugindication\n",
        "\n",
        "#df[\"drugindication\"]  =tweet.drugindication # drugindication\n",
        "#df[\"No_drugindication\"] = tweet.No_drugindication # No_drugindication\n",
        "#df = df[~df[\"drugindication\"].isnull()]\n",
        "\n",
        "\n",
        "print(df.shape)\n",
        "df = df[~df[\"text\"].isnull()]\n",
        "df = df[~df[\"target\"].isnull()]\n",
        "print(df.shape)"
      ]
    },
    {
      "cell_type": "code",
      "execution_count": null,
      "metadata": {
        "id": "gUoZjMsk7QLj",
        "outputId": "cecc5431-8515-42a6-a176-7106e7b100b7"
      },
      "outputs": [
        {
          "data": {
            "text/plain": [
              "3     38122\n",
              "6     20473\n",
              "4     12079\n",
              "2     11573\n",
              "7      3442\n",
              "5      3050\n",
              "8       454\n",
              "9        72\n",
              "12       19\n",
              "10       16\n",
              "11        7\n",
              "22        6\n",
              "15        3\n",
              "14        2\n",
              "19        2\n",
              "16        2\n",
              "13        1\n",
              "20        1\n",
              "17        1\n",
              "21        1\n",
              "Name: No_words, dtype: int64"
            ]
          },
          "execution_count": 43,
          "metadata": {},
          "output_type": "execute_result"
        }
      ],
      "source": [
        "df.No_words.value_counts()"
      ]
    },
    {
      "cell_type": "code",
      "execution_count": null,
      "metadata": {
        "id": "4fbMDjgX7QLj",
        "outputId": "74c71e40-5c90-44a6-96e1-f44a106c17b9"
      },
      "outputs": [
        {
          "data": {
            "text/plain": [
              "'DICLOFENAC_SODIUMPRODUCT USED FOR UNKNOWN INDICATION'"
            ]
          },
          "execution_count": 44,
          "metadata": {},
          "output_type": "execute_result"
        }
      ],
      "source": [
        "df.loc[1,\"text\"]"
      ]
    },
    {
      "cell_type": "markdown",
      "metadata": {
        "id": "bn2su2nI7QLj"
      },
      "source": [
        "## Filter only one or two or Three sunstance Drug"
      ]
    },
    {
      "cell_type": "code",
      "execution_count": null,
      "metadata": {
        "id": "Zbd6p_ca7QLj",
        "outputId": "117aef8b-568a-4059-a8a4-ced42f0ccef6"
      },
      "outputs": [
        {
          "name": "stdout",
          "output_type": "stream",
          "text": [
            "(89326, 3)\n",
            "(64824, 3)\n"
          ]
        }
      ],
      "source": [
        "print(df.shape)\n",
        "filter_words = 5\n",
        "df = df[df.No_words<=filter_words ]\n",
        "print(df.shape)"
      ]
    },
    {
      "cell_type": "code",
      "execution_count": null,
      "metadata": {
        "id": "Avhj-Or47QLk",
        "outputId": "e2b28281-068e-49ee-e9e5-39c8df1f4aa1"
      },
      "outputs": [
        {
          "data": {
            "text/html": [
              "<div>\n",
              "<style scoped>\n",
              "    .dataframe tbody tr th:only-of-type {\n",
              "        vertical-align: middle;\n",
              "    }\n",
              "\n",
              "    .dataframe tbody tr th {\n",
              "        vertical-align: top;\n",
              "    }\n",
              "\n",
              "    .dataframe thead th {\n",
              "        text-align: right;\n",
              "    }\n",
              "</style>\n",
              "<table border=\"1\" class=\"dataframe\">\n",
              "  <thead>\n",
              "    <tr style=\"text-align: right;\">\n",
              "      <th></th>\n",
              "      <th>text</th>\n",
              "      <th>target</th>\n",
              "      <th>No_words</th>\n",
              "    </tr>\n",
              "  </thead>\n",
              "  <tbody>\n",
              "    <tr>\n",
              "      <th>3</th>\n",
              "      <td>DALTEPARIN_SODIUMDEEP VEIN THROMBOSIS</td>\n",
              "      <td>0</td>\n",
              "      <td>4</td>\n",
              "    </tr>\n",
              "    <tr>\n",
              "      <th>4</th>\n",
              "      <td>CYCLOPHOSPHAMIDEPREMEDICATION</td>\n",
              "      <td>0</td>\n",
              "      <td>2</td>\n",
              "    </tr>\n",
              "    <tr>\n",
              "      <th>5</th>\n",
              "      <td>VITAMINSROUTINE HEALTH MAINTENANCE</td>\n",
              "      <td>0</td>\n",
              "      <td>4</td>\n",
              "    </tr>\n",
              "    <tr>\n",
              "      <th>6</th>\n",
              "      <td>PREGABALINFIBROMYALGIA</td>\n",
              "      <td>0</td>\n",
              "      <td>2</td>\n",
              "    </tr>\n",
              "    <tr>\n",
              "      <th>7</th>\n",
              "      <td>LORAZEPAMRENAL CANCER</td>\n",
              "      <td>0</td>\n",
              "      <td>3</td>\n",
              "    </tr>\n",
              "    <tr>\n",
              "      <th>...</th>\n",
              "      <td>...</td>\n",
              "      <td>...</td>\n",
              "      <td>...</td>\n",
              "    </tr>\n",
              "    <tr>\n",
              "      <th>99991</th>\n",
              "      <td>ADALIMUMABPSORIATIC ARTHROPATHY</td>\n",
              "      <td>0</td>\n",
              "      <td>3</td>\n",
              "    </tr>\n",
              "    <tr>\n",
              "      <th>99995</th>\n",
              "      <td>ADALIMUMABCOLITIS ULCERATIVE</td>\n",
              "      <td>0</td>\n",
              "      <td>3</td>\n",
              "    </tr>\n",
              "    <tr>\n",
              "      <th>99996</th>\n",
              "      <td>ADALIMUMABPSORIASIS</td>\n",
              "      <td>0</td>\n",
              "      <td>2</td>\n",
              "    </tr>\n",
              "    <tr>\n",
              "      <th>99998</th>\n",
              "      <td>ADALIMUMABPSORIASIS</td>\n",
              "      <td>0</td>\n",
              "      <td>2</td>\n",
              "    </tr>\n",
              "    <tr>\n",
              "      <th>99999</th>\n",
              "      <td>LORATADINEHYPERSENSITIVITY</td>\n",
              "      <td>0</td>\n",
              "      <td>2</td>\n",
              "    </tr>\n",
              "  </tbody>\n",
              "</table>\n",
              "<p>64824 rows × 3 columns</p>\n",
              "</div>"
            ],
            "text/plain": [
              "                                        text  target  No_words\n",
              "3      DALTEPARIN_SODIUMDEEP VEIN THROMBOSIS       0         4\n",
              "4              CYCLOPHOSPHAMIDEPREMEDICATION       0         2\n",
              "5         VITAMINSROUTINE HEALTH MAINTENANCE       0         4\n",
              "6                     PREGABALINFIBROMYALGIA       0         2\n",
              "7                      LORAZEPAMRENAL CANCER       0         3\n",
              "...                                      ...     ...       ...\n",
              "99991        ADALIMUMABPSORIATIC ARTHROPATHY       0         3\n",
              "99995           ADALIMUMABCOLITIS ULCERATIVE       0         3\n",
              "99996                    ADALIMUMABPSORIASIS       0         2\n",
              "99998                    ADALIMUMABPSORIASIS       0         2\n",
              "99999             LORATADINEHYPERSENSITIVITY       0         2\n",
              "\n",
              "[64824 rows x 3 columns]"
            ]
          },
          "execution_count": 46,
          "metadata": {},
          "output_type": "execute_result"
        }
      ],
      "source": [
        "#df.to_excel('Data_for_modling.xlsx', index=False)\n",
        "#df = pd.read_excel('Data_for_modling.xlsx')\n",
        "df"
      ]
    },
    {
      "cell_type": "code",
      "execution_count": null,
      "metadata": {
        "id": "4wXJZOKp7QLk",
        "outputId": "aaea3eca-dd9e-424a-9bbe-21c6421ed029"
      },
      "outputs": [
        {
          "data": {
            "text/plain": [
              "0    58615\n",
              "1     6209\n",
              "Name: target, dtype: int64"
            ]
          },
          "execution_count": 47,
          "metadata": {},
          "output_type": "execute_result"
        }
      ],
      "source": [
        "df[\"target\"].value_counts()"
      ]
    },
    {
      "cell_type": "code",
      "execution_count": null,
      "metadata": {
        "id": "gHGufMrY7QLk"
      },
      "outputs": [],
      "source": [
        "#!pip install imbalanced-learn"
      ]
    },
    {
      "cell_type": "markdown",
      "metadata": {
        "id": "rCvikeHL7QLk"
      },
      "source": [
        "X_train, X_test, y_train, y_test = train_test_split(df, df[\"target\"], test_size=0.2, stratify=df[\"target\"],\n",
        "                                                                                random_state=random_state_split)\n"
      ]
    },
    {
      "cell_type": "code",
      "execution_count": null,
      "metadata": {
        "id": "ByJBxXPW7QLk"
      },
      "outputs": [],
      "source": [
        "random_state_split=45\n",
        "def vectorizer_text(data):\n",
        "    count_vectorizer = CountVectorizer(ngram_range=(2 ,filter_words ),binary=True)\n",
        "    emb = count_vectorizer.fit_transform(data)\n",
        "    return emb, count_vectorizer\n",
        "\n",
        "list_corpus = df[\"text\"].tolist()\n",
        "list_labels = df[\"target\"].tolist()\n",
        "\n",
        "X_train, X_test, y_train, y_test = train_test_split(list_corpus, list_labels, test_size=0.2, stratify=list_labels,\n",
        "                                                                                random_state=random_state_split)\n",
        "X_train_counts, count_vectorizer = vectorizer_text(X_train)\n",
        "X_test_counts = count_vectorizer.transform(X_test)"
      ]
    },
    {
      "cell_type": "code",
      "execution_count": null,
      "metadata": {
        "id": "p8EcRYQ17QLl",
        "outputId": "3edd91b2-55b1-487f-9528-658649579760"
      },
      "outputs": [
        {
          "name": "stderr",
          "output_type": "stream",
          "text": [
            "C:\\Users\\ezzmo\\Anaconda3\\envs\\ezz\\lib\\site-packages\\sklearn\\utils\\deprecation.py:87: FutureWarning: Function get_feature_names is deprecated; get_feature_names is deprecated in 1.0 and will be removed in 1.2. Please use get_feature_names_out instead.\n",
            "  warnings.warn(msg, category=FutureWarning)\n",
            "C:\\Users\\ezzmo\\Anaconda3\\envs\\ezz\\lib\\site-packages\\sklearn\\utils\\deprecation.py:87: FutureWarning: Function get_feature_names is deprecated; get_feature_names is deprecated in 1.0 and will be removed in 1.2. Please use get_feature_names_out instead.\n",
            "  warnings.warn(msg, category=FutureWarning)\n"
          ]
        }
      ],
      "source": [
        "X_train_counts = pd.DataFrame(data=X_train_counts.toarray(),columns = count_vectorizer.get_feature_names())\n",
        "X_test_counts = pd.DataFrame(data=X_test_counts.toarray(),columns = count_vectorizer.get_feature_names())"
      ]
    },
    {
      "cell_type": "code",
      "execution_count": null,
      "metadata": {
        "id": "ZFAaukct7QLl",
        "outputId": "1a40cdc4-b715-4cf2-9ef4-d6543be595fb"
      },
      "outputs": [
        {
          "data": {
            "text/plain": [
              "(51859, 14075)"
            ]
          },
          "execution_count": 50,
          "metadata": {},
          "output_type": "execute_result"
        }
      ],
      "source": [
        "X_train_counts.shape"
      ]
    },
    {
      "cell_type": "markdown",
      "metadata": {
        "id": "qSOd3xP67QLn"
      },
      "source": [
        "## Restart Looping For forward feature Selection"
      ]
    },
    {
      "cell_type": "code",
      "execution_count": null,
      "metadata": {
        "id": "LA6l4mP87QLn",
        "outputId": "b4f4869a-67b3-4d0e-b1c6-e5a22cc15e90"
      },
      "outputs": [
        {
          "data": {
            "text/plain": [
              "(93784, 14075)"
            ]
          },
          "execution_count": 63,
          "metadata": {},
          "output_type": "execute_result"
        }
      ],
      "source": [
        "X_train_counts.shape"
      ]
    },
    {
      "cell_type": "code",
      "execution_count": null,
      "metadata": {
        "id": "qDlle3Mf7QLn",
        "scrolled": true
      },
      "outputs": [],
      "source": [
        "from sklearn.ensemble import RandomForestClassifier,ExtraTreesClassifier,AdaBoostClassifier,GradientBoostingClassifier\n",
        "from sklearn.neighbors import KNeighborsClassifier\n",
        "from sklearn.discriminant_analysis import LinearDiscriminantAnalysis\n",
        "from sklearn.ensemble import RandomForestClassifier\n",
        "from sklearn.naive_bayes import GaussianNB,MultinomialNB\n",
        "from sklearn.svm import SVC\n",
        "from sklearn.metrics import f1_score\n",
        "\n",
        "def run_Exp(exp_name='Exp1'):\n",
        "    results_df = pd.DataFrame(columns=['Model','Features','Train','Test', 'Desc'])\n",
        "\n",
        "    best_at = 0\n",
        "    best_acc = 0\n",
        "    best_str=''\n",
        "    early_stop =0\n",
        "    from sklearn.metrics import accuracy_score\n",
        "    # X_train_counts.shape[0]\n",
        "    for i in range(10,31, 10):\n",
        "        print('Feature', i)\n",
        "        if i> X_train_counts.shape[1]: break\n",
        "        X_new, f = get_feature_importances(X_train_counts,  y_train, i)\n",
        "        test_new = f.transform(X_test_counts)\n",
        "\n",
        "        #clf = get_model(X_new.shape[1])\n",
        "        improved = False\n",
        "        for clf in [MultinomialNB()]:  #get_model(X_new.shape[1] )\n",
        "\n",
        "            '''\n",
        "            for clf in [MultinomialNB(), GaussianNB(),  ExtraTreesClassifier(n_estimators=100, random_state=0) ,\n",
        "                        GradientBoostingClassifier(),\n",
        "                         RandomForestClassifier(),  LogisticRegression(),\n",
        "                        LinearDiscriminantAnalysis(),AdaBoostClassifier()]:\n",
        "            '''\n",
        "            try:\n",
        "                clf.fit(X_new,  np.array(y_train))# , epochs=10, batch_size=5)\n",
        "                tran_acc =f1_score( clf.predict(X_new),  np.array(y_train))\n",
        "                #test_new = X_test_counts[f]\n",
        "                predicted = clf.predict(test_new)\n",
        "                #acc= np.mean(predicted == y_test)\n",
        "                acc= f1_score(y_test, predicted ,average ='macro')\n",
        "\n",
        "                if acc> best_acc:\n",
        "                    best_acc = acc\n",
        "                    best_at = i\n",
        "                    best_str = 'ML:'+type(clf).__name__ + ' No. Features:'+str(i)+ ' Train=',str(np.round(tran_acc,3))+ ' Test='+ str(np.round(acc,3))\n",
        "                    print('------Best ',best_str)\n",
        "                    improved = True\n",
        "                    early_stop=0\n",
        "\n",
        "                print(i,type(clf).__name__,'count stoping',early_stop,test_new.shape[1],'Train=',np.round(tran_acc,3),'Test=', np.round(acc,3),\n",
        "                      'Best',np.round(best_acc,3))\n",
        "                results_df.loc[len(results_df)] = [type(clf).__name__,i,np.round(tran_acc,3),np.round(acc,3),exp_name ]\n",
        "\n",
        "            except Exception as e:\n",
        "                print('Error Fitting alg.....:', clf, e)\n",
        "\n",
        "        if  ~improved:\n",
        "            early_stop +=1\n",
        "\n",
        "        if early_stop>20:\n",
        "            print(\"early_stop\")\n",
        "            break\n",
        "        results_df.to_excel(exp_name+'_Results.xlsx')\n"
      ]
    },
    {
      "cell_type": "code",
      "execution_count": null,
      "metadata": {
        "id": "xHrUGkcP7QLq",
        "outputId": "6aa56982-c023-46f6-8f87-4a6665041201"
      },
      "outputs": [
        {
          "name": "stdout",
          "output_type": "stream",
          "text": [
            "              precision    recall  f1-score   support\n",
            "\n",
            "         0.0       0.74      0.62      0.67      8316\n",
            "         1.0       0.76      0.85      0.80     11684\n",
            "\n",
            "    accuracy                           0.75     20000\n",
            "   macro avg       0.75      0.73      0.74     20000\n",
            "weighted avg       0.75      0.75      0.75     20000\n",
            "\n"
          ]
        },
        {
          "data": {
            "text/plain": [
              "array([[5147, 3169],\n",
              "       [1805, 9879]], dtype=int64)"
            ]
          },
          "execution_count": 150,
          "metadata": {},
          "output_type": "execute_result"
        }
      ],
      "source": [
        "from sklearn.ensemble import RandomForestClassifier\n",
        "\n",
        "clf = RandomForestClassifier(random_state=0)\n",
        "clf.fit(X_train_counts[selected_features_name],  y_train)\n",
        "predicted = clf.predict(X_test_counts[selected_features_name])\n",
        "\n",
        "print(metrics.classification_report(y_test, predicted))\n",
        "metrics.confusion_matrix(y_test, predicted)"
      ]
    },
    {
      "cell_type": "markdown",
      "metadata": {
        "id": "n4618bTB7QLq"
      },
      "source": [
        "### Visualizing the embeddings"
      ]
    },
    {
      "cell_type": "code",
      "execution_count": null,
      "metadata": {
        "id": "YZElH_J-7QL8",
        "outputId": "a6517280-b5ce-4f0e-93f7-512553350ad7"
      },
      "outputs": [
        {
          "data": {
            "image/png": "[encoded data removed]",
            "text/plain": [
              "<Figure size 504x504 with 2 Axes>"
            ]
          },
          "metadata": {},
          "output_type": "display_data"
        }
      ],
      "source": [
        "# Showing Confusion Matrix for GloVe model\n",
        "plot_cm(train_pred_GloVe_int, train['target'].values, 'Confusion matrix for GloVe model', figsize=(7,7))"
      ]
    },
    {
      "cell_type": "code",
      "execution_count": null,
      "metadata": {
        "id": "sNZtgqE67QL9",
        "outputId": "58c67522-6e37-4fdd-82dd-695350f862ad"
      },
      "outputs": [
        {
          "data": {
            "image/png": "[encoded data removed]",
            "text/plain": [
              "<Figure size 504x504 with 2 Axes>"
            ]
          },
          "metadata": {},
          "output_type": "display_data"
        }
      ],
      "source": [
        "# Showing Confusion Matrix for BERT model\n",
        "plot_cm(train_pred_BERT_int, train['target'].values, 'Confusion matrix for BERT model', figsize=(7,7))"
      ]
    }
  ],
  "metadata": {
    "accelerator": "TPU",
    "colab": {
      "gpuType": "V28",
      "provenance": []
    },
    "hide_input": false,
    "kernelspec": {
      "display_name": "Python 3",
      "name": "python3"
    },
    "language_info": {
      "codemirror_mode": {
        "name": "ipython",
        "version": 3
      },
      "file_extension": ".py",
      "mimetype": "text/x-python",
      "name": "python",
      "nbconvert_exporter": "python",
      "pygments_lexer": "ipython3",
      "version": "3.9.13"
    }
  },
  "nbformat": 4,
  "nbformat_minor": 0
}